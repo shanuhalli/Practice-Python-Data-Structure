{
 "cells": [
  {
   "cell_type": "markdown",
   "id": "02632f5c",
   "metadata": {},
   "source": [
    "### Numeric"
   ]
  },
  {
   "cell_type": "code",
   "execution_count": 1,
   "id": "32b19093",
   "metadata": {},
   "outputs": [
    {
     "name": "stdout",
     "output_type": "stream",
     "text": [
      "Type of a:  <class 'int'>\n",
      "\n",
      "Type of b:  <class 'float'>\n",
      "\n",
      "Type of c:  <class 'complex'>\n"
     ]
    }
   ],
   "source": [
    "# Python program to demonstrate numeric value\n",
    "  \n",
    "a = 5\n",
    "print(\"Type of a: \", type(a))\n",
    "  \n",
    "b = 5.0\n",
    "print(\"\\nType of b: \", type(b))\n",
    "  \n",
    "c = 2 + 4j\n",
    "print(\"\\nType of c: \", type(c))"
   ]
  },
  {
   "cell_type": "markdown",
   "id": "ed1d46dd",
   "metadata": {},
   "source": [
    "\n",
    "### 1) String"
   ]
  },
  {
   "cell_type": "code",
   "execution_count": 2,
   "id": "141d6453",
   "metadata": {},
   "outputs": [
    {
     "name": "stdout",
     "output_type": "stream",
     "text": [
      "String with the use of Single Quotes: \n",
      "Welcome to the python programming\n",
      "\n",
      "String with the use of Double Quotes: \n",
      "I'm a Shanu Halli\n",
      "\n",
      "String with the use of Triple Quotes: \n",
      "I'm a python and I live in a world of \"Programmimg Lang\"\n",
      "\n",
      "Creating a multiline String: \n",
      "India is my country\n",
      "Karnataka is my state\n",
      "            \n"
     ]
    }
   ],
   "source": [
    "# Python Program for Creation of String \n",
    "    \n",
    "# Creating a String with single Quotes \n",
    "String1 = 'Welcome to the python programming'\n",
    "print(\"String with the use of Single Quotes: \") \n",
    "print(String1) \n",
    "    \n",
    "# Creating a String with double Quotes \n",
    "String2 = \"I'm a Shanu Halli\"\n",
    "print(\"\\nString with the use of Double Quotes: \") \n",
    "print(String2)\n",
    "    \n",
    "# Creating a String with triple Quotes \n",
    "String3 = '''I'm a python and I live in a world of \"Programmimg Lang\"'''\n",
    "print(\"\\nString with the use of Triple Quotes: \") \n",
    "print(String3)\n",
    "  \n",
    "# Creating String with triple Quotes allows multiple lines \n",
    "String4 = '''India is my country\n",
    "Karnataka is my state\n",
    "            '''\n",
    "print(\"\\nCreating a multiline String: \") \n",
    "print(String4)"
   ]
  },
  {
   "cell_type": "markdown",
   "id": "45d8ac4a",
   "metadata": {},
   "source": [
    "### Accessing elements of String"
   ]
  },
  {
   "cell_type": "code",
   "execution_count": 3,
   "id": "8260d76d",
   "metadata": {},
   "outputs": [
    {
     "name": "stdout",
     "output_type": "stream",
     "text": [
      "Initial String: \n",
      "My name is Shanu\n",
      "\n",
      "First character of String is: \n",
      "M\n",
      "\n",
      "Last character of String is: \n",
      "u\n"
     ]
    }
   ],
   "source": [
    "# Python Program to Access characters of String \n",
    "    \n",
    "String1 = \"My name is Shanu\"\n",
    "print(\"Initial String: \") \n",
    "print(String1) \n",
    "    \n",
    "# Printing First character \n",
    "print(\"\\nFirst character of String is: \") \n",
    "print(String1[0]) \n",
    "    \n",
    "# Printing Last character \n",
    "print(\"\\nLast character of String is: \") \n",
    "print(String1[-1])"
   ]
  },
  {
   "cell_type": "markdown",
   "id": "58252ea7",
   "metadata": {},
   "source": [
    "### 2) List"
   ]
  },
  {
   "cell_type": "code",
   "execution_count": 4,
   "id": "52d18083",
   "metadata": {},
   "outputs": [
    {
     "name": "stdout",
     "output_type": "stream",
     "text": [
      "Initial blank List: \n",
      "[]\n",
      "\n",
      "List with the use of String: \n",
      "['Apple Orange Grapes Banana Strawberry Oats']\n",
      "\n",
      "List containing multiple values: \n",
      "['Apple', 'Orange', 'Grapes', 'Banana', 'Strawberry', 'Oats']\n",
      "\n",
      "Multi-Dimensional List: \n",
      "[['Apple', 'Orange'], ['Oats']]\n"
     ]
    }
   ],
   "source": [
    "# Python program to demonstrate Creation of List  \n",
    "    \n",
    "# Creating a List \n",
    "List = [] \n",
    "print(\"Initial blank List: \") \n",
    "print(List) \n",
    "    \n",
    "# Creating a List with the use of a String \n",
    "List = [\"Apple Orange Grapes Banana Strawberry Oats\"] \n",
    "print(\"\\nList with the use of String: \") \n",
    "print(List) \n",
    "    \n",
    "# Creating a List with the use of multiple values \n",
    "List = ['Apple','Orange','Grapes','Banana','Strawberry','Oats'] \n",
    "print(\"\\nList containing multiple values: \") \n",
    "print(List)\n",
    "\n",
    "# Creating a Multi-Dimensional List (By Nesting a list inside a List) \n",
    "List = [['Apple','Orange'], ['Oats']] \n",
    "print(\"\\nMulti-Dimensional List: \") \n",
    "print(List)"
   ]
  },
  {
   "cell_type": "markdown",
   "id": "0393a8d8",
   "metadata": {},
   "source": [
    "### Accessing elements of List"
   ]
  },
  {
   "cell_type": "code",
   "execution_count": 5,
   "id": "3258aac6",
   "metadata": {},
   "outputs": [
    {
     "name": "stdout",
     "output_type": "stream",
     "text": [
      "Accessing element from the list\n",
      "Apple\n",
      "Grapes\n",
      "\n",
      "Accessing element using negative indexing\n",
      "Oats\n",
      "Banana\n"
     ]
    }
   ],
   "source": [
    "# Python program to demonstrate accessing of element from list \n",
    "    \n",
    "# Creating a List with the use of multiple values \n",
    "List = ['Apple','Orange','Grapes','Banana','Strawberry','Oats'] \n",
    "    \n",
    "# accessing a element from the list using index number \n",
    "print(\"Accessing element from the list\") \n",
    "print(List[0])  \n",
    "print(List[2]) \n",
    "  \n",
    "# accessing a element using negative indexing \n",
    "print(\"\\nAccessing element using negative indexing\") \n",
    "    \n",
    "# print the last element of list \n",
    "print(List[-1]) \n",
    "    \n",
    "# print the third last element of list  \n",
    "print(List[-3])"
   ]
  },
  {
   "cell_type": "markdown",
   "id": "33457cf4",
   "metadata": {},
   "source": [
    "### 3) Tuple"
   ]
  },
  {
   "cell_type": "code",
   "execution_count": 6,
   "id": "340d231d",
   "metadata": {},
   "outputs": [
    {
     "name": "stdout",
     "output_type": "stream",
     "text": [
      "Initial empty Tuple: \n",
      "()\n",
      "\n",
      "Tuple with the use of String: \n",
      "('Apple', 'Orange', 'Grapes')\n",
      "\n",
      "Tuple using List: \n",
      "(1, 2, 4, 5, 6)\n",
      "\n",
      "Tuple with the use of function: \n",
      "('A', 'p', 'p', 'l', 'e')\n",
      "\n",
      "Tuple with nested tuples: \n",
      "((0, 1, 2, 3), ('Apple', 'Orange'))\n"
     ]
    }
   ],
   "source": [
    "# Python program to demonstrate creation of Set \n",
    "    \n",
    "# Creating an empty tuple \n",
    "Tuple1 = () \n",
    "print(\"Initial empty Tuple: \") \n",
    "print (Tuple1) \n",
    "    \n",
    "# Creating a Tuple with the use of Strings \n",
    "Tuple1 = ('Apple','Orange','Grapes') \n",
    "print(\"\\nTuple with the use of String: \") \n",
    "print(Tuple1) \n",
    "    \n",
    "# Creating a Tuple with the use of list \n",
    "list1 = [1, 2, 4, 5, 6] \n",
    "print(\"\\nTuple using List: \") \n",
    "print(tuple(list1)) \n",
    "  \n",
    "# Creating a Tuple with the use of built-in function \n",
    "Tuple1 = tuple('Apple') \n",
    "print(\"\\nTuple with the use of function: \") \n",
    "print(Tuple1) \n",
    "  \n",
    "# Creating a Tuple with nested tuples \n",
    "Tuple1 = (0, 1, 2, 3) \n",
    "Tuple2 = ('Apple', 'Orange') \n",
    "Tuple3 = (Tuple1, Tuple2) \n",
    "print(\"\\nTuple with nested tuples: \") \n",
    "print(Tuple3)"
   ]
  },
  {
   "cell_type": "markdown",
   "id": "f8075135",
   "metadata": {},
   "source": [
    "### Accessing elements of Tuple"
   ]
  },
  {
   "cell_type": "code",
   "execution_count": 7,
   "id": "5a2cd081",
   "metadata": {},
   "outputs": [
    {
     "name": "stdout",
     "output_type": "stream",
     "text": [
      "First element of tuple\n",
      "1\n",
      "\n",
      "Last element of tuple\n",
      "5\n",
      "\n",
      "Third last element of tuple\n",
      "3\n"
     ]
    }
   ],
   "source": [
    "# Python program to demonstrate accessing tuple\n",
    "  \n",
    "tuple1 = tuple([1, 2, 3, 4, 5])\n",
    "  \n",
    "# Accessing element using indexing\n",
    "print(\"First element of tuple\")\n",
    "print(tuple1[0])\n",
    "  \n",
    "# Accessing element from last\n",
    "# negative indexing\n",
    "print(\"\\nLast element of tuple\")\n",
    "print(tuple1[-1])\n",
    "  \n",
    "print(\"\\nThird last element of tuple\")\n",
    "print(tuple1[-3])"
   ]
  },
  {
   "cell_type": "markdown",
   "id": "715f2364",
   "metadata": {},
   "source": [
    "### Boolean"
   ]
  },
  {
   "cell_type": "code",
   "execution_count": 8,
   "id": "0ae80214",
   "metadata": {},
   "outputs": [
    {
     "name": "stdout",
     "output_type": "stream",
     "text": [
      "<class 'bool'>\n",
      "<class 'bool'>\n"
     ]
    }
   ],
   "source": [
    "# Python program to \n",
    "# demonstrate boolean type\n",
    "  \n",
    "print(type(True))\n",
    "print(type(False))"
   ]
  },
  {
   "cell_type": "markdown",
   "id": "07f731e3",
   "metadata": {},
   "source": [
    "### Set"
   ]
  },
  {
   "cell_type": "code",
   "execution_count": 9,
   "id": "2c06f28f",
   "metadata": {},
   "outputs": [
    {
     "name": "stdout",
     "output_type": "stream",
     "text": [
      "Initial blank Set: \n",
      "set()\n",
      "\n",
      "Set with the use of String: \n",
      "{'k', 'l', 'y', 'i', 'O', 'S', 'g', 't', 'e', 'b', 's', 'a', 'B', 'p', 'r', 'w', 'A', ' ', 'G', 'n', 'M'}\n",
      "\n",
      "Set with the use of List: \n",
      "{'Banana', 'Grapes', 'Strawberry', 'Orange', 'Milk', 'Oats', 'Apple'}\n",
      "\n",
      "Set with the use of Mixed Values\n",
      "{1, 2, 4, 'Banana', 6, 'Grapes', 'Milk'}\n"
     ]
    }
   ],
   "source": [
    "# Python program to demonstrate  \n",
    "# Creation of Set in Python \n",
    "    \n",
    "# Creating a Set \n",
    "set1 = set() \n",
    "print(\"Initial blank Set: \") \n",
    "print(set1) \n",
    "    \n",
    "# Creating a Set with the use of a String \n",
    "set1 = set(\"Apple Orange Grapes Banana Strawberry Oats Milk Apple Banana\") \n",
    "print(\"\\nSet with the use of String: \") \n",
    "print(set1) \n",
    "  \n",
    "# Creating a Set with the use of a List \n",
    "set1 = set(['Apple','Orange','Grapes','Banana','Strawberry','Oats','Milk','Apple','Banana']) \n",
    "print(\"\\nSet with the use of List: \") \n",
    "print(set1) \n",
    "  \n",
    "# Creating a Set with a mixed type of values (Having numbers and strings) \n",
    "set1 = set([1, 2, 'Grapes', 4, 'Banana', 6, 'Milk']) \n",
    "print(\"\\nSet with the use of Mixed Values\") \n",
    "print(set1)"
   ]
  },
  {
   "cell_type": "markdown",
   "id": "7d2496c2",
   "metadata": {},
   "source": [
    "### Accessing elements of Sets"
   ]
  },
  {
   "cell_type": "code",
   "execution_count": 10,
   "id": "c127ecdf",
   "metadata": {},
   "outputs": [
    {
     "name": "stdout",
     "output_type": "stream",
     "text": [
      "\n",
      "Initial set\n",
      "{'Banana', 'Grapes', 'Strawberry', 'Orange', 'Milk', 'Oats', 'Apple'}\n",
      "\n",
      "Elements of set: \n",
      "Banana, Grapes, Strawberry, Orange, Milk, Oats, Apple, True\n"
     ]
    }
   ],
   "source": [
    "# Python program to demonstrate Accessing of elements in a set \n",
    "    \n",
    "# Creating a set \n",
    "set1 = set(['Apple','Orange','Grapes','Banana','Strawberry','Oats','Milk']) \n",
    "print(\"\\nInitial set\") \n",
    "print(set1) \n",
    "    \n",
    "# Accessing element using for loop \n",
    "print(\"\\nElements of set: \") \n",
    "for i in set1: \n",
    "    print(i, end =\", \") \n",
    "    \n",
    "# Checking the element using in keyword \n",
    "print(\"Banana\" in set1)"
   ]
  },
  {
   "cell_type": "markdown",
   "id": "54603107",
   "metadata": {},
   "source": [
    "### Dictionary"
   ]
  },
  {
   "cell_type": "code",
   "execution_count": 11,
   "id": "b362531f",
   "metadata": {},
   "outputs": [
    {
     "name": "stdout",
     "output_type": "stream",
     "text": [
      "Empty Dictionary: \n",
      "{}\n",
      "\n",
      "Dictionary with the use of Integer Keys: \n",
      "{1: 'Maharastra', 2: 'Karnataka', 3: 'Goa'}\n",
      "\n",
      "Dictionary with the use of Mixed Keys: \n",
      "{'Name': 'State', 1: [1, 2, 3, 4]}\n",
      "\n",
      "Dictionary with the use of dict(): \n",
      "{1: 'Maharastra', 2: 'Karnataka', 3: 'Goa'}\n",
      "\n",
      "Dictionary with each item as a pair: \n",
      "{1: 'Maharastra', 2: 'Karnataka'}\n"
     ]
    }
   ],
   "source": [
    "# Creating an empty Dictionary \n",
    "Dict = {} \n",
    "print(\"Empty Dictionary: \") \n",
    "print(Dict) \n",
    "    \n",
    "# Creating a Dictionary with Integer Keys \n",
    "Dict = {1: 'Maharastra', 2: 'Karnataka', 3: 'Goa'} \n",
    "print(\"\\nDictionary with the use of Integer Keys: \") \n",
    "print(Dict) \n",
    "    \n",
    "# Creating a Dictionary with Mixed keys \n",
    "Dict = {'Name': 'State', 1: [1, 2, 3, 4]} \n",
    "print(\"\\nDictionary with the use of Mixed Keys: \") \n",
    "print(Dict) \n",
    "    \n",
    "# Creating a Dictionary with dict() method \n",
    "Dict = dict({1: 'Maharastra', 2: 'Karnataka', 3:'Goa'}) \n",
    "print(\"\\nDictionary with the use of dict(): \") \n",
    "print(Dict) \n",
    "    \n",
    "# Creating a Dictionary with each item as a Pair \n",
    "Dict = dict([(1, 'Maharastra'), (2, 'Karnataka')]) \n",
    "print(\"\\nDictionary with each item as a pair: \") \n",
    "print(Dict)"
   ]
  },
  {
   "cell_type": "markdown",
   "id": "a9df4cfc",
   "metadata": {},
   "source": [
    "### Accessing elements of Dictionary"
   ]
  },
  {
   "cell_type": "code",
   "execution_count": 12,
   "id": "b8241d8e",
   "metadata": {},
   "outputs": [
    {
     "name": "stdout",
     "output_type": "stream",
     "text": [
      "Accessing a element using key:\n",
      "Karnataka\n",
      "Accessing a element using get:\n",
      "Goa\n"
     ]
    }
   ],
   "source": [
    "# Python program to demonstrate   \n",
    "# accessing a element from a Dictionary  \n",
    "    \n",
    "# Creating a Dictionary  \n",
    "Dict = {1: 'Maharastra', 2: 'Karnataka', 3: 'Goa'} \n",
    "    \n",
    "# accessing a element using key \n",
    "print(\"Accessing a element using key:\") \n",
    "print(Dict[2]) \n",
    "  \n",
    "# accessing a element using get() method \n",
    "print(\"Accessing a element using get:\") \n",
    "print(Dict.get(3))"
   ]
  },
  {
   "cell_type": "markdown",
   "id": "8ba702de",
   "metadata": {},
   "source": [
    "# Some Other Practice"
   ]
  },
  {
   "cell_type": "markdown",
   "id": "40260879",
   "metadata": {},
   "source": [
    "### String Function"
   ]
  },
  {
   "cell_type": "code",
   "execution_count": 13,
   "id": "80300f52",
   "metadata": {},
   "outputs": [
    {
     "name": "stdout",
     "output_type": "stream",
     "text": [
      "18\n",
      "5\n"
     ]
    }
   ],
   "source": [
    "name = \"Awesome the eminem\"\n",
    "a = 10\n",
    "print(len(name))\n",
    "print(name.count(\"e\"))"
   ]
  },
  {
   "cell_type": "code",
   "execution_count": 14,
   "id": "f1930ccb",
   "metadata": {},
   "outputs": [
    {
     "name": "stdout",
     "output_type": "stream",
     "text": [
      "awesome the eminem\n",
      "Awesome the eminem\n",
      "AWESOME THE EMINEM\n",
      "w\n",
      "Awesome t\n",
      "Awesome the eminem\n"
     ]
    }
   ],
   "source": [
    "print(name.lower())\n",
    "print(name.capitalize())\n",
    "print(name.upper())\n",
    "print(name[1])\n",
    "print(name[0:9])\n",
    "print(name[0:])"
   ]
  },
  {
   "cell_type": "markdown",
   "id": "e0a7fde4",
   "metadata": {},
   "source": [
    "###  String Conversion"
   ]
  },
  {
   "cell_type": "code",
   "execution_count": 15,
   "id": "c0e836da",
   "metadata": {},
   "outputs": [
    {
     "data": {
      "text/plain": [
       "'213'"
      ]
     },
     "execution_count": 15,
     "metadata": {},
     "output_type": "execute_result"
    }
   ],
   "source": [
    "str(213)"
   ]
  },
  {
   "cell_type": "markdown",
   "id": "333e61c4",
   "metadata": {},
   "source": [
    "### Adding Strings "
   ]
  },
  {
   "cell_type": "code",
   "execution_count": 16,
   "id": "0256e518",
   "metadata": {},
   "outputs": [
    {
     "data": {
      "text/plain": [
       "'this is awesome'"
      ]
     },
     "execution_count": 16,
     "metadata": {},
     "output_type": "execute_result"
    }
   ],
   "source": [
    "\"this \"+\"is \"+\"awesome\""
   ]
  },
  {
   "cell_type": "markdown",
   "id": "b586f38e",
   "metadata": {},
   "source": [
    "### List Functions"
   ]
  },
  {
   "cell_type": "code",
   "execution_count": 2,
   "id": "391f4807",
   "metadata": {},
   "outputs": [
    {
     "data": {
      "text/plain": [
       "[100, 53, 32, 23, 10, 2, 1, -5, -20]"
      ]
     },
     "execution_count": 2,
     "metadata": {},
     "output_type": "execute_result"
    }
   ],
   "source": [
    "x.append(100)\n",
    "x.append([101,102,103])\n",
    "x.extend(   [104,105])\n",
    "x.index(100)\n",
    "x.insert(13,200)\n",
    "2*x \n",
    "[2*i for i in x]\n",
    "x = [1,2,100,10,-5,-20,53,32,23]\n",
    "x.sort(reverse=False)\n",
    "x\n",
    "x.sort(reverse=True)\n",
    "x"
   ]
  },
  {
   "cell_type": "markdown",
   "id": "9494b1f8",
   "metadata": {},
   "source": [
    "### Dictionaries  "
   ]
  },
  {
   "cell_type": "code",
   "execution_count": 21,
   "id": "31d9faf5",
   "metadata": {},
   "outputs": [
    {
     "data": {
      "text/plain": [
       "{'A': 1, 'B': -12, 'C': 30, 'D': 5, 'E': 120, 'F': 6, 'G': 12}"
      ]
     },
     "execution_count": 21,
     "metadata": {},
     "output_type": "execute_result"
    }
   ],
   "source": [
    "x = {\"A\":1,\"B\":-12,\"C\":30,\"D\":5,\"E\":120,\"F\":6,\"G\":12}\n",
    "x\n",
    "x.keys()\n",
    "x.values()\n",
    "x[\"H\"] = 100\n",
    "x\n",
    "del x[\"H\"]\n",
    "x"
   ]
  },
  {
   "cell_type": "markdown",
   "id": "96e7cb0a",
   "metadata": {},
   "source": [
    "### Sorting Dictionary "
   ]
  },
  {
   "cell_type": "code",
   "execution_count": 22,
   "id": "96f24305",
   "metadata": {},
   "outputs": [
    {
     "name": "stdout",
     "output_type": "stream",
     "text": [
      "yes\n"
     ]
    },
    {
     "data": {
      "text/plain": [
       "'thsseawsome'"
      ]
     },
     "execution_count": 22,
     "metadata": {},
     "output_type": "execute_result"
    }
   ],
   "source": [
    "y = sorted(x.items(),key = lambda p:p[1])\n",
    "y\n",
    "y.reverse()\n",
    "y\n",
    "if \"i\" in \"this\":\n",
    "    print (\"yes\")\n",
    "[i for i in \"thisiseawsome\" if i not in \"i\"]\n",
    "\"\".join([i for i in \"thisiseawsome\" if i not in \"i\"])"
   ]
  },
  {
   "cell_type": "markdown",
   "id": "3f5ffabb",
   "metadata": {},
   "source": [
    "# The End!! "
   ]
  }
 ],
 "metadata": {
  "kernelspec": {
   "display_name": "Python 3 (ipykernel)",
   "language": "python",
   "name": "python3"
  },
  "language_info": {
   "codemirror_mode": {
    "name": "ipython",
    "version": 3
   },
   "file_extension": ".py",
   "mimetype": "text/x-python",
   "name": "python",
   "nbconvert_exporter": "python",
   "pygments_lexer": "ipython3",
   "version": "3.9.12"
  }
 },
 "nbformat": 4,
 "nbformat_minor": 5
}
