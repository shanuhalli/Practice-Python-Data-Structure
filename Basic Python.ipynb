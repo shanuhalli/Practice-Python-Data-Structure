{
 "cells": [
  {
   "cell_type": "markdown",
   "id": "02632f5c",
   "metadata": {},
   "source": [
    "## Numeric"
   ]
  },
  {
   "cell_type": "code",
   "execution_count": 1,
   "id": "32b19093",
   "metadata": {},
   "outputs": [
    {
     "name": "stdout",
     "output_type": "stream",
     "text": [
      "Type of a:  <class 'int'>\n",
      "\n",
      "Type of b:  <class 'float'>\n",
      "\n",
      "Type of c:  <class 'complex'>\n"
     ]
    }
   ],
   "source": [
    "# Python program to demonstrate numeric value\n",
    "  \n",
    "a = 5\n",
    "print(\"Type of a: \", type(a))\n",
    "  \n",
    "b = 5.0\n",
    "print(\"\\nType of b: \", type(b))\n",
    "  \n",
    "c = 2 + 4j\n",
    "print(\"\\nType of c: \", type(c))"
   ]
  },
  {
   "cell_type": "markdown",
   "id": "ed1d46dd",
   "metadata": {},
   "source": [
    "\n",
    "### 1) String"
   ]
  },
  {
   "cell_type": "code",
   "execution_count": 2,
   "id": "141d6453",
   "metadata": {},
   "outputs": [
    {
     "name": "stdout",
     "output_type": "stream",
     "text": [
      "String with the use of Single Quotes: \n",
      "Welcome to the python programming\n",
      "\n",
      "String with the use of Double Quotes: \n",
      "I'm a Shanu Halli\n",
      "\n",
      "String with the use of Triple Quotes: \n",
      "I'm a python and I live in a world of \"Programmimg Lang\"\n",
      "\n",
      "Creating a multiline String: \n",
      "India is my country\n",
      "Karnataka is my state\n",
      "            \n"
     ]
    }
   ],
   "source": [
    "# Python Program for Creation of String \n",
    "    \n",
    "# Creating a String with single Quotes \n",
    "String1 = 'Welcome to the python programming'\n",
    "print(\"String with the use of Single Quotes: \") \n",
    "print(String1) \n",
    "    \n",
    "# Creating a String with double Quotes \n",
    "String2 = \"I'm a Shanu Halli\"\n",
    "print(\"\\nString with the use of Double Quotes: \") \n",
    "print(String2)\n",
    "    \n",
    "# Creating a String with triple Quotes \n",
    "String3 = '''I'm a python and I live in a world of \"Programmimg Lang\"'''\n",
    "print(\"\\nString with the use of Triple Quotes: \") \n",
    "print(String3)\n",
    "  \n",
    "# Creating String with triple Quotes allows multiple lines \n",
    "String4 = '''India is my country\n",
    "Karnataka is my state\n",
    "            '''\n",
    "print(\"\\nCreating a multiline String: \") \n",
    "print(String4)"
   ]
  },
  {
   "cell_type": "markdown",
   "id": "45d8ac4a",
   "metadata": {},
   "source": [
    "### Accessing elements of String"
   ]
  },
  {
   "cell_type": "code",
   "execution_count": 3,
   "id": "8260d76d",
   "metadata": {},
   "outputs": [
    {
     "name": "stdout",
     "output_type": "stream",
     "text": [
      "Initial String: \n",
      "My name is Shanu\n",
      "\n",
      "First character of String is: \n",
      "M\n",
      "\n",
      "Last character of String is: \n",
      "u\n"
     ]
    }
   ],
   "source": [
    "# Python Program to Access characters of String \n",
    "    \n",
    "String1 = \"My name is Shanu\"\n",
    "print(\"Initial String: \") \n",
    "print(String1) \n",
    "    \n",
    "# Printing First character \n",
    "print(\"\\nFirst character of String is: \") \n",
    "print(String1[0]) \n",
    "    \n",
    "# Printing Last character \n",
    "print(\"\\nLast character of String is: \") \n",
    "print(String1[-1])"
   ]
  },
  {
   "cell_type": "markdown",
   "id": "58252ea7",
   "metadata": {},
   "source": [
    "### 2) List"
   ]
  },
  {
   "cell_type": "code",
   "execution_count": 4,
   "id": "52d18083",
   "metadata": {},
   "outputs": [
    {
     "name": "stdout",
     "output_type": "stream",
     "text": [
      "Initial blank List: \n",
      "[]\n",
      "\n",
      "List with the use of String: \n",
      "['Apple Orange Grapes Banana Strawberry Oats']\n",
      "\n",
      "List containing multiple values: \n",
      "['Apple', 'Orange', 'Grapes', 'Banana', 'Strawberry', 'Oats']\n",
      "\n",
      "Multi-Dimensional List: \n",
      "[['Apple', 'Orange'], ['Oats']]\n"
     ]
    }
   ],
   "source": [
    "# Python program to demonstrate Creation of List  \n",
    "    \n",
    "# Creating a List \n",
    "List = [] \n",
    "print(\"Initial blank List: \") \n",
    "print(List) \n",
    "    \n",
    "# Creating a List with the use of a String \n",
    "List = [\"Apple Orange Grapes Banana Strawberry Oats\"] \n",
    "print(\"\\nList with the use of String: \") \n",
    "print(List) \n",
    "    \n",
    "# Creating a List with the use of multiple values \n",
    "List = ['Apple','Orange','Grapes','Banana','Strawberry','Oats'] \n",
    "print(\"\\nList containing multiple values: \") \n",
    "print(List)\n",
    "\n",
    "# Creating a Multi-Dimensional List (By Nesting a list inside a List) \n",
    "List = [['Apple','Orange'], ['Oats']] \n",
    "print(\"\\nMulti-Dimensional List: \") \n",
    "print(List)"
   ]
  },
  {
   "cell_type": "markdown",
   "id": "0393a8d8",
   "metadata": {},
   "source": [
    "### Accessing elements of List"
   ]
  },
  {
   "cell_type": "code",
   "execution_count": 5,
   "id": "3258aac6",
   "metadata": {},
   "outputs": [
    {
     "name": "stdout",
     "output_type": "stream",
     "text": [
      "Accessing element from the list\n",
      "Apple\n",
      "Grapes\n",
      "\n",
      "Accessing element using negative indexing\n",
      "Oats\n",
      "Banana\n"
     ]
    }
   ],
   "source": [
    "# Python program to demonstrate accessing of element from list \n",
    "    \n",
    "# Creating a List with the use of multiple values \n",
    "List = ['Apple','Orange','Grapes','Banana','Strawberry','Oats'] \n",
    "    \n",
    "# accessing a element from the list using index number \n",
    "print(\"Accessing element from the list\") \n",
    "print(List[0])  \n",
    "print(List[2]) \n",
    "  \n",
    "# accessing a element using negative indexing \n",
    "print(\"\\nAccessing element using negative indexing\") \n",
    "    \n",
    "# print the last element of list \n",
    "print(List[-1]) \n",
    "    \n",
    "# print the third last element of list  \n",
    "print(List[-3])"
   ]
  },
  {
   "cell_type": "markdown",
   "id": "33457cf4",
   "metadata": {},
   "source": [
    "### 3) Tuple"
   ]
  },
  {
   "cell_type": "code",
   "execution_count": 6,
   "id": "340d231d",
   "metadata": {},
   "outputs": [
    {
     "name": "stdout",
     "output_type": "stream",
     "text": [
      "Initial empty Tuple: \n",
      "()\n",
      "\n",
      "Tuple with the use of String: \n",
      "('Apple', 'Orange', 'Grapes')\n",
      "\n",
      "Tuple using List: \n",
      "(1, 2, 4, 5, 6)\n",
      "\n",
      "Tuple with the use of function: \n",
      "('A', 'p', 'p', 'l', 'e')\n",
      "\n",
      "Tuple with nested tuples: \n",
      "((0, 1, 2, 3), ('Apple', 'Orange'))\n"
     ]
    }
   ],
   "source": [
    "# Python program to demonstrate creation of Set \n",
    "    \n",
    "# Creating an empty tuple \n",
    "Tuple1 = () \n",
    "print(\"Initial empty Tuple: \") \n",
    "print (Tuple1) \n",
    "    \n",
    "# Creating a Tuple with the use of Strings \n",
    "Tuple1 = ('Apple','Orange','Grapes') \n",
    "print(\"\\nTuple with the use of String: \") \n",
    "print(Tuple1) \n",
    "    \n",
    "# Creating a Tuple with the use of list \n",
    "list1 = [1, 2, 4, 5, 6] \n",
    "print(\"\\nTuple using List: \") \n",
    "print(tuple(list1)) \n",
    "  \n",
    "# Creating a Tuple with the use of built-in function \n",
    "Tuple1 = tuple('Apple') \n",
    "print(\"\\nTuple with the use of function: \") \n",
    "print(Tuple1) \n",
    "  \n",
    "# Creating a Tuple with nested tuples \n",
    "Tuple1 = (0, 1, 2, 3) \n",
    "Tuple2 = ('Apple', 'Orange') \n",
    "Tuple3 = (Tuple1, Tuple2) \n",
    "print(\"\\nTuple with nested tuples: \") \n",
    "print(Tuple3)"
   ]
  },
  {
   "cell_type": "markdown",
   "id": "f8075135",
   "metadata": {},
   "source": [
    "### Accessing elements of Tuple"
   ]
  },
  {
   "cell_type": "code",
   "execution_count": 7,
   "id": "5a2cd081",
   "metadata": {},
   "outputs": [
    {
     "name": "stdout",
     "output_type": "stream",
     "text": [
      "First element of tuple\n",
      "1\n",
      "\n",
      "Last element of tuple\n",
      "5\n",
      "\n",
      "Third last element of tuple\n",
      "3\n"
     ]
    }
   ],
   "source": [
    "# Python program to demonstrate accessing tuple\n",
    "  \n",
    "tuple1 = tuple([1, 2, 3, 4, 5])\n",
    "  \n",
    "# Accessing element using indexing\n",
    "print(\"First element of tuple\")\n",
    "print(tuple1[0])\n",
    "  \n",
    "# Accessing element from last\n",
    "# negative indexing\n",
    "print(\"\\nLast element of tuple\")\n",
    "print(tuple1[-1])\n",
    "  \n",
    "print(\"\\nThird last element of tuple\")\n",
    "print(tuple1[-3])"
   ]
  },
  {
   "cell_type": "markdown",
   "id": "715f2364",
   "metadata": {},
   "source": [
    "## Boolean"
   ]
  },
  {
   "cell_type": "code",
   "execution_count": 8,
   "id": "0ae80214",
   "metadata": {},
   "outputs": [
    {
     "name": "stdout",
     "output_type": "stream",
     "text": [
      "<class 'bool'>\n",
      "<class 'bool'>\n"
     ]
    }
   ],
   "source": [
    "# Python program to \n",
    "# demonstrate boolean type\n",
    "  \n",
    "print(type(True))\n",
    "print(type(False))"
   ]
  },
  {
   "cell_type": "markdown",
   "id": "07f731e3",
   "metadata": {},
   "source": [
    "## Set"
   ]
  },
  {
   "cell_type": "code",
   "execution_count": 9,
   "id": "2c06f28f",
   "metadata": {},
   "outputs": [
    {
     "name": "stdout",
     "output_type": "stream",
     "text": [
      "Initial blank Set: \n",
      "set()\n",
      "\n",
      "Set with the use of String: \n",
      "{'k', 'l', 'y', 'i', 'O', 'S', 'g', 't', 'e', 'b', 's', 'a', 'B', 'p', 'r', 'w', 'A', ' ', 'G', 'n', 'M'}\n",
      "\n",
      "Set with the use of List: \n",
      "{'Banana', 'Grapes', 'Strawberry', 'Orange', 'Milk', 'Oats', 'Apple'}\n",
      "\n",
      "Set with the use of Mixed Values\n",
      "{1, 2, 4, 'Banana', 6, 'Grapes', 'Milk'}\n"
     ]
    }
   ],
   "source": [
    "# Python program to demonstrate  \n",
    "# Creation of Set in Python \n",
    "    \n",
    "# Creating a Set \n",
    "set1 = set() \n",
    "print(\"Initial blank Set: \") \n",
    "print(set1) \n",
    "    \n",
    "# Creating a Set with the use of a String \n",
    "set1 = set(\"Apple Orange Grapes Banana Strawberry Oats Milk Apple Banana\") \n",
    "print(\"\\nSet with the use of String: \") \n",
    "print(set1) \n",
    "  \n",
    "# Creating a Set with the use of a List \n",
    "set1 = set(['Apple','Orange','Grapes','Banana','Strawberry','Oats','Milk','Apple','Banana']) \n",
    "print(\"\\nSet with the use of List: \") \n",
    "print(set1) \n",
    "  \n",
    "# Creating a Set with a mixed type of values (Having numbers and strings) \n",
    "set1 = set([1, 2, 'Grapes', 4, 'Banana', 6, 'Milk']) \n",
    "print(\"\\nSet with the use of Mixed Values\") \n",
    "print(set1)"
   ]
  },
  {
   "cell_type": "markdown",
   "id": "7d2496c2",
   "metadata": {},
   "source": [
    "### Accessing elements of Sets"
   ]
  },
  {
   "cell_type": "code",
   "execution_count": 10,
   "id": "c127ecdf",
   "metadata": {},
   "outputs": [
    {
     "name": "stdout",
     "output_type": "stream",
     "text": [
      "\n",
      "Initial set\n",
      "{'Banana', 'Grapes', 'Strawberry', 'Orange', 'Milk', 'Oats', 'Apple'}\n",
      "\n",
      "Elements of set: \n",
      "Banana, Grapes, Strawberry, Orange, Milk, Oats, Apple, True\n"
     ]
    }
   ],
   "source": [
    "# Python program to demonstrate Accessing of elements in a set \n",
    "    \n",
    "# Creating a set \n",
    "set1 = set(['Apple','Orange','Grapes','Banana','Strawberry','Oats','Milk']) \n",
    "print(\"\\nInitial set\") \n",
    "print(set1) \n",
    "    \n",
    "# Accessing element using for loop \n",
    "print(\"\\nElements of set: \") \n",
    "for i in set1: \n",
    "    print(i, end =\", \") \n",
    "    \n",
    "# Checking the element using in keyword \n",
    "print(\"Banana\" in set1)"
   ]
  },
  {
   "cell_type": "markdown",
   "id": "54603107",
   "metadata": {},
   "source": [
    "## Dictionary"
   ]
  },
  {
   "cell_type": "code",
   "execution_count": 11,
   "id": "b362531f",
   "metadata": {},
   "outputs": [
    {
     "name": "stdout",
     "output_type": "stream",
     "text": [
      "Empty Dictionary: \n",
      "{}\n",
      "\n",
      "Dictionary with the use of Integer Keys: \n",
      "{1: 'Maharastra', 2: 'Karnataka', 3: 'Goa'}\n",
      "\n",
      "Dictionary with the use of Mixed Keys: \n",
      "{'Name': 'State', 1: [1, 2, 3, 4]}\n",
      "\n",
      "Dictionary with the use of dict(): \n",
      "{1: 'Maharastra', 2: 'Karnataka', 3: 'Goa'}\n",
      "\n",
      "Dictionary with each item as a pair: \n",
      "{1: 'Maharastra', 2: 'Karnataka'}\n"
     ]
    }
   ],
   "source": [
    "# Creating an empty Dictionary \n",
    "Dict = {} \n",
    "print(\"Empty Dictionary: \") \n",
    "print(Dict) \n",
    "    \n",
    "# Creating a Dictionary with Integer Keys \n",
    "Dict = {1: 'Maharastra', 2: 'Karnataka', 3: 'Goa'} \n",
    "print(\"\\nDictionary with the use of Integer Keys: \") \n",
    "print(Dict) \n",
    "    \n",
    "# Creating a Dictionary with Mixed keys \n",
    "Dict = {'Name': 'State', 1: [1, 2, 3, 4]} \n",
    "print(\"\\nDictionary with the use of Mixed Keys: \") \n",
    "print(Dict) \n",
    "    \n",
    "# Creating a Dictionary with dict() method \n",
    "Dict = dict({1: 'Maharastra', 2: 'Karnataka', 3:'Goa'}) \n",
    "print(\"\\nDictionary with the use of dict(): \") \n",
    "print(Dict) \n",
    "    \n",
    "# Creating a Dictionary with each item as a Pair \n",
    "Dict = dict([(1, 'Maharastra'), (2, 'Karnataka')]) \n",
    "print(\"\\nDictionary with each item as a pair: \") \n",
    "print(Dict)"
   ]
  },
  {
   "cell_type": "markdown",
   "id": "a9df4cfc",
   "metadata": {},
   "source": [
    "### Accessing elements of Dictionary"
   ]
  },
  {
   "cell_type": "code",
   "execution_count": 12,
   "id": "b8241d8e",
   "metadata": {},
   "outputs": [
    {
     "name": "stdout",
     "output_type": "stream",
     "text": [
      "Accessing a element using key:\n",
      "Karnataka\n",
      "Accessing a element using get:\n",
      "Goa\n"
     ]
    }
   ],
   "source": [
    "# Python program to demonstrate   \n",
    "# accessing a element from a Dictionary  \n",
    "    \n",
    "# Creating a Dictionary  \n",
    "Dict = {1: 'Maharastra', 2: 'Karnataka', 3: 'Goa'} \n",
    "    \n",
    "# accessing a element using key \n",
    "print(\"Accessing a element using key:\") \n",
    "print(Dict[2]) \n",
    "  \n",
    "# accessing a element using get() method \n",
    "print(\"Accessing a element using get:\") \n",
    "print(Dict.get(3))"
   ]
  },
  {
   "cell_type": "markdown",
   "id": "8ba702de",
   "metadata": {},
   "source": [
    "# Some Other Practice"
   ]
  },
  {
   "cell_type": "markdown",
   "id": "40260879",
   "metadata": {},
   "source": [
    "### String Function"
   ]
  },
  {
   "cell_type": "code",
   "execution_count": 13,
   "id": "80300f52",
   "metadata": {},
   "outputs": [
    {
     "name": "stdout",
     "output_type": "stream",
     "text": [
      "18\n",
      "5\n"
     ]
    }
   ],
   "source": [
    "name = \"Awesome the eminem\"\n",
    "a = 10\n",
    "print(len(name))\n",
    "print(name.count(\"e\"))"
   ]
  },
  {
   "cell_type": "code",
   "execution_count": 14,
   "id": "f1930ccb",
   "metadata": {},
   "outputs": [
    {
     "name": "stdout",
     "output_type": "stream",
     "text": [
      "awesome the eminem\n",
      "Awesome the eminem\n",
      "AWESOME THE EMINEM\n",
      "w\n",
      "Awesome t\n",
      "Awesome the eminem\n"
     ]
    }
   ],
   "source": [
    "print(name.lower())\n",
    "print(name.capitalize())\n",
    "print(name.upper())\n",
    "print(name[1])\n",
    "print(name[0:9])\n",
    "print(name[0:])"
   ]
  },
  {
   "cell_type": "markdown",
   "id": "e0a7fde4",
   "metadata": {},
   "source": [
    "###  String Conversion"
   ]
  },
  {
   "cell_type": "code",
   "execution_count": 15,
   "id": "c0e836da",
   "metadata": {},
   "outputs": [
    {
     "data": {
      "text/plain": [
       "'213'"
      ]
     },
     "execution_count": 15,
     "metadata": {},
     "output_type": "execute_result"
    }
   ],
   "source": [
    "str(213)"
   ]
  },
  {
   "cell_type": "markdown",
   "id": "333e61c4",
   "metadata": {},
   "source": [
    "### Adding Strings "
   ]
  },
  {
   "cell_type": "code",
   "execution_count": 16,
   "id": "0256e518",
   "metadata": {},
   "outputs": [
    {
     "data": {
      "text/plain": [
       "'this is awesome'"
      ]
     },
     "execution_count": 16,
     "metadata": {},
     "output_type": "execute_result"
    }
   ],
   "source": [
    "\"this \"+\"is \"+\"awesome\""
   ]
  },
  {
   "cell_type": "markdown",
   "id": "b586f38e",
   "metadata": {},
   "source": [
    "### List Functions"
   ]
  },
  {
   "cell_type": "code",
   "execution_count": 2,
   "id": "391f4807",
   "metadata": {},
   "outputs": [
    {
     "data": {
      "text/plain": [
       "[100, 53, 32, 23, 10, 2, 1, -5, -20]"
      ]
     },
     "execution_count": 2,
     "metadata": {},
     "output_type": "execute_result"
    }
   ],
   "source": [
    "x.append(100)\n",
    "x.append([101,102,103])\n",
    "x.extend(   [104,105])\n",
    "x.index(100)\n",
    "x.insert(13,200)\n",
    "2*x \n",
    "[2*i for i in x]\n",
    "x = [1,2,100,10,-5,-20,53,32,23]\n",
    "x.sort(reverse=False)\n",
    "x\n",
    "x.sort(reverse=True)\n",
    "x"
   ]
  },
  {
   "cell_type": "markdown",
   "id": "2274ab95",
   "metadata": {
    "id": "x39kYL5Uh5fO"
   },
   "source": [
    "## Creating a dictionary"
   ]
  },
  {
   "cell_type": "markdown",
   "id": "628e15e5",
   "metadata": {
    "id": "tPzXBpJph5fP"
   },
   "source": [
    "### a. Using literals"
   ]
  },
  {
   "cell_type": "code",
   "execution_count": 1,
   "id": "cf8bd9a6",
   "metadata": {},
   "outputs": [
    {
     "data": {
      "text/plain": [
       "dict"
      ]
     },
     "execution_count": 1,
     "metadata": {},
     "output_type": "execute_result"
    }
   ],
   "source": [
    "d1 ={}\n",
    "type(d1)"
   ]
  },
  {
   "cell_type": "code",
   "execution_count": 2,
   "id": "8560553b",
   "metadata": {},
   "outputs": [
    {
     "data": {
      "text/plain": [
       "{1: 'One', 2.5: 'second', (1, 2, 3): 'mylst'}"
      ]
     },
     "execution_count": 2,
     "metadata": {},
     "output_type": "execute_result"
    }
   ],
   "source": [
    "d2 = {1:'One',2.5:'second',(1,2,3):'mylst'}\n",
    "d2"
   ]
  },
  {
   "cell_type": "code",
   "execution_count": 55,
   "id": "1932fea9",
   "metadata": {
    "id": "qMsU8XmSh5fR",
    "outputId": "56211848-c768-4758-ec5b-15fbb0f92010"
   },
   "outputs": [
    {
     "data": {
      "text/plain": [
       "{'name': 'Tom',\n",
       " 'age': 34,\n",
       " 'marks': [92, 78, 74, 89],\n",
       " 2: 'Two',\n",
       " (0, 0): 'Origin'}"
      ]
     },
     "execution_count": 55,
     "metadata": {},
     "output_type": "execute_result"
    }
   ],
   "source": [
    "## Keys can be any immutable datatype\n",
    "d = {'name':'Tom',\n",
    "     'age':34,\n",
    "     'marks': [92,78,74,89],\n",
    "     2:'Two',\n",
    "     (0,0):'Origin'}\n",
    "d"
   ]
  },
  {
   "cell_type": "code",
   "execution_count": 56,
   "id": "ba5a742d",
   "metadata": {},
   "outputs": [
    {
     "data": {
      "text/plain": [
       "34"
      ]
     },
     "execution_count": 56,
     "metadata": {},
     "output_type": "execute_result"
    }
   ],
   "source": [
    "d['age']"
   ]
  },
  {
   "cell_type": "code",
   "execution_count": 57,
   "id": "dbf5eef6",
   "metadata": {},
   "outputs": [
    {
     "data": {
      "text/plain": [
       "{'A': 1, 'B': -12, 'C': 30, 'D': 5, 'E': 120, 'F': 6, 'G': 12}"
      ]
     },
     "execution_count": 57,
     "metadata": {},
     "output_type": "execute_result"
    }
   ],
   "source": [
    "x = {\"A\":1,\"B\":-12,\"C\":30,\"D\":5,\"E\":120,\"F\":6,\"G\":12}\n",
    "x\n",
    "x.keys()\n",
    "x.values()\n",
    "x[\"H\"] = 100\n",
    "x\n",
    "del x[\"H\"]\n",
    "x"
   ]
  },
  {
   "cell_type": "markdown",
   "id": "d0739b45",
   "metadata": {},
   "source": [
    "### b. Using Zip"
   ]
  },
  {
   "cell_type": "code",
   "execution_count": 8,
   "id": "a88e2af4",
   "metadata": {},
   "outputs": [],
   "source": [
    "keys = ['a','b','c','d','e','f']\n",
    "values = (1,2,3,4,5)"
   ]
  },
  {
   "cell_type": "code",
   "execution_count": 9,
   "id": "fc16e256",
   "metadata": {},
   "outputs": [
    {
     "data": {
      "text/plain": [
       "<zip at 0x23801ae0580>"
      ]
     },
     "execution_count": 9,
     "metadata": {},
     "output_type": "execute_result"
    }
   ],
   "source": [
    "zip(keys, values)"
   ]
  },
  {
   "cell_type": "code",
   "execution_count": 10,
   "id": "63ca1df9",
   "metadata": {
    "id": "Cu3u5Y44h5fY",
    "outputId": "66074510-2f46-41e6-c924-7e6ab5fee68d"
   },
   "outputs": [
    {
     "data": {
      "text/plain": [
       "{'a': 1, 'b': 2, 'c': 3, 'd': 4, 'e': 5}"
      ]
     },
     "execution_count": 10,
     "metadata": {},
     "output_type": "execute_result"
    }
   ],
   "source": [
    "d = dict( zip(keys,values)  )\n",
    "d"
   ]
  },
  {
   "cell_type": "code",
   "execution_count": 11,
   "id": "2c57be34",
   "metadata": {},
   "outputs": [],
   "source": [
    "#keys = ['a','b','c','d','e']\n",
    "keys =['abcde','xyz']\n",
    "values = (1,2,3,4,5)"
   ]
  },
  {
   "cell_type": "code",
   "execution_count": 12,
   "id": "b4e05799",
   "metadata": {},
   "outputs": [
    {
     "data": {
      "text/plain": [
       "{'abcde': 1, 'xyz': 2}"
      ]
     },
     "execution_count": 12,
     "metadata": {},
     "output_type": "execute_result"
    }
   ],
   "source": [
    "dict(zip(keys,values))"
   ]
  },
  {
   "cell_type": "code",
   "execution_count": 13,
   "id": "01f65690",
   "metadata": {
    "id": "nRHJZmTkh5fY",
    "outputId": "e2752996-ea44-4e82-c26d-aa145978066b"
   },
   "outputs": [
    {
     "data": {
      "text/plain": [
       "{'abcde': 1, 'xyz': 3}"
      ]
     },
     "execution_count": 13,
     "metadata": {},
     "output_type": "execute_result"
    }
   ],
   "source": [
    "d = dict(zip(keys,range(1,6,2)))\n",
    "d"
   ]
  },
  {
   "cell_type": "code",
   "execution_count": 14,
   "id": "34e7b658",
   "metadata": {},
   "outputs": [],
   "source": [
    "k =('Ram','Shyam','Prem')\n",
    "v = [54,76,87]"
   ]
  },
  {
   "cell_type": "code",
   "execution_count": 15,
   "id": "d75bf048",
   "metadata": {},
   "outputs": [
    {
     "data": {
      "text/plain": [
       "<zip at 0x23801ae2800>"
      ]
     },
     "execution_count": 15,
     "metadata": {},
     "output_type": "execute_result"
    }
   ],
   "source": [
    "zip(k,v)"
   ]
  },
  {
   "cell_type": "code",
   "execution_count": 16,
   "id": "a9d23971",
   "metadata": {},
   "outputs": [
    {
     "name": "stdout",
     "output_type": "stream",
     "text": [
      "Ram 54\n",
      "Shyam 76\n",
      "Prem 87\n"
     ]
    }
   ],
   "source": [
    "for x,y in zip(k,v):\n",
    "    print(x,y)"
   ]
  },
  {
   "cell_type": "code",
   "execution_count": 17,
   "id": "18950c26",
   "metadata": {},
   "outputs": [
    {
     "data": {
      "text/plain": [
       "{'Ram': 54, 'Shyam': 76, 'Prem': 87}"
      ]
     },
     "execution_count": 17,
     "metadata": {},
     "output_type": "execute_result"
    }
   ],
   "source": [
    "dict(zip(k,v))"
   ]
  },
  {
   "cell_type": "code",
   "execution_count": 18,
   "id": "b6826a86",
   "metadata": {},
   "outputs": [
    {
     "data": {
      "text/plain": [
       "{2.9: '1', 8.7: '2', 4.6: '3'}"
      ]
     },
     "execution_count": 18,
     "metadata": {},
     "output_type": "execute_result"
    }
   ],
   "source": [
    "k =[2.9,8.7,4.6]\n",
    "v = '123'\n",
    "dict(zip(k,v))"
   ]
  },
  {
   "cell_type": "markdown",
   "id": "4fda9ab5",
   "metadata": {
    "id": "-cQBEredh5ff"
   },
   "source": [
    "### Accessing elements"
   ]
  },
  {
   "cell_type": "code",
   "execution_count": 19,
   "id": "006273e4",
   "metadata": {
    "id": "1CdsNLjMh5fg"
   },
   "outputs": [],
   "source": [
    "keys = ('Kerala','TN','Telangana','Karnataka')\n",
    "values=('Trivandrum', 'Chennai','Hyderabad','Bangalore')"
   ]
  },
  {
   "cell_type": "code",
   "execution_count": 20,
   "id": "85779b63",
   "metadata": {},
   "outputs": [
    {
     "data": {
      "text/plain": [
       "{'Kerala': 'Trivandrum',\n",
       " 'TN': 'Chennai',\n",
       " 'Telangana': 'Hyderabad',\n",
       " 'Karnataka': 'Bangalore'}"
      ]
     },
     "execution_count": 20,
     "metadata": {},
     "output_type": "execute_result"
    }
   ],
   "source": [
    "dstates = dict(zip(keys,values))\n",
    "dstates"
   ]
  },
  {
   "cell_type": "code",
   "execution_count": 21,
   "id": "7ceccfe7",
   "metadata": {
    "id": "l2H68OCXh5fh",
    "outputId": "675d811e-04ac-4b96-fbe0-6c6b06edd029"
   },
   "outputs": [
    {
     "data": {
      "text/plain": [
       "'Trivandrum'"
      ]
     },
     "execution_count": 21,
     "metadata": {},
     "output_type": "execute_result"
    }
   ],
   "source": [
    "dstates['Kerala']"
   ]
  },
  {
   "cell_type": "code",
   "execution_count": 22,
   "id": "65f83397",
   "metadata": {
    "id": "Ltdel_7_h5fh",
    "outputId": "07eeb985-9c6a-4ec0-e654-7c74b821bcb8"
   },
   "outputs": [
    {
     "ename": "KeyError",
     "evalue": "'AP'",
     "output_type": "error",
     "traceback": [
      "\u001b[1;31m---------------------------------------------------------------------------\u001b[0m",
      "\u001b[1;31mKeyError\u001b[0m                                  Traceback (most recent call last)",
      "Input \u001b[1;32mIn [22]\u001b[0m, in \u001b[0;36m<cell line: 1>\u001b[1;34m()\u001b[0m\n\u001b[1;32m----> 1\u001b[0m \u001b[43mdstates\u001b[49m\u001b[43m[\u001b[49m\u001b[38;5;124;43m'\u001b[39;49m\u001b[38;5;124;43mAP\u001b[39;49m\u001b[38;5;124;43m'\u001b[39;49m\u001b[43m]\u001b[49m\n",
      "\u001b[1;31mKeyError\u001b[0m: 'AP'"
     ]
    }
   ],
   "source": [
    "dstates['AP']"
   ]
  },
  {
   "cell_type": "code",
   "execution_count": 23,
   "id": "7357f5cd",
   "metadata": {
    "id": "HMlQe-X1h5fi",
    "outputId": "04fef430-a2d7-4f13-a165-f5a3686cd720"
   },
   "outputs": [
    {
     "data": {
      "text/plain": [
       "'Trivandrum'"
      ]
     },
     "execution_count": 23,
     "metadata": {},
     "output_type": "execute_result"
    }
   ],
   "source": [
    "dstates.get('Kerala')"
   ]
  },
  {
   "cell_type": "code",
   "execution_count": 24,
   "id": "a3f5d862",
   "metadata": {
    "id": "4OoRGGvGh5fi"
   },
   "outputs": [],
   "source": [
    "dstates.get('AP')"
   ]
  },
  {
   "cell_type": "code",
   "execution_count": 25,
   "id": "caecb285",
   "metadata": {
    "id": "iUiZKpIvh5fj",
    "outputId": "2eb10080-e37d-4295-a5ea-33250c2ba0ac"
   },
   "outputs": [
    {
     "name": "stdout",
     "output_type": "stream",
     "text": [
      "Not Found\n"
     ]
    }
   ],
   "source": [
    "if dstates.get('AP') == None:\n",
    "    print('Not Found')"
   ]
  },
  {
   "cell_type": "code",
   "execution_count": 26,
   "id": "d6156c25",
   "metadata": {
    "id": "JXfF1HVfh5fj",
    "outputId": "3f8481f5-6a78-4c26-acff-b6497ce2da14"
   },
   "outputs": [
    {
     "data": {
      "text/plain": [
       "('Trivandrum', 'Not Found')"
      ]
     },
     "execution_count": 26,
     "metadata": {},
     "output_type": "execute_result"
    }
   ],
   "source": [
    "dstates.get('Kerala','Not Found'), dstates.get('AP','Not Found')"
   ]
  },
  {
   "cell_type": "markdown",
   "id": "50763f9e",
   "metadata": {
    "id": "gbmCEIyxh5fj"
   },
   "source": [
    "## Common Operations"
   ]
  },
  {
   "cell_type": "code",
   "execution_count": 27,
   "id": "25c939b7",
   "metadata": {
    "id": "KTUnNileh5fj",
    "outputId": "7936b7bb-7b40-4624-d638-cb182014a7d7"
   },
   "outputs": [
    {
     "data": {
      "text/plain": [
       "4"
      ]
     },
     "execution_count": 27,
     "metadata": {},
     "output_type": "execute_result"
    }
   ],
   "source": [
    "# Length\n",
    "len(dstates)"
   ]
  },
  {
   "cell_type": "code",
   "execution_count": 28,
   "id": "a8ecd1ef",
   "metadata": {
    "id": "UNmpk-hjh5fk",
    "outputId": "b737b8de-8df1-4951-b9a6-4ac9539b04b9"
   },
   "outputs": [
    {
     "data": {
      "text/plain": [
       "(True, False)"
      ]
     },
     "execution_count": 28,
     "metadata": {},
     "output_type": "execute_result"
    }
   ],
   "source": [
    "# Membership\n",
    "'Karnataka' in dstates, 'AP' in dstates"
   ]
  },
  {
   "cell_type": "code",
   "execution_count": 29,
   "id": "876c37cb",
   "metadata": {
    "id": "0rizcuydh5fk",
    "outputId": "54ba2d26-17de-4e85-9445-8335d59b90ac"
   },
   "outputs": [
    {
     "data": {
      "text/plain": [
       "(False, True)"
      ]
     },
     "execution_count": 29,
     "metadata": {},
     "output_type": "execute_result"
    }
   ],
   "source": [
    "'Karnataka' not in dstates, 'AP' not in dstates"
   ]
  },
  {
   "cell_type": "markdown",
   "id": "39b2dd9d",
   "metadata": {
    "id": "I1yXiEbzh5fl"
   },
   "source": [
    "### Remove elements"
   ]
  },
  {
   "cell_type": "code",
   "execution_count": 30,
   "id": "e62800ae",
   "metadata": {},
   "outputs": [],
   "source": [
    "k = [1,2,3,4,5,6,7,8]\n",
    "v = ['One','Two','Three','Four','Five','Six','Seven','Eight']"
   ]
  },
  {
   "cell_type": "code",
   "execution_count": 31,
   "id": "80e6d2f3",
   "metadata": {
    "id": "PtXTTnubh5fl",
    "outputId": "36540505-84fa-49f9-af5e-11e91411be59"
   },
   "outputs": [
    {
     "data": {
      "text/plain": [
       "{1: 'One',\n",
       " 2: 'Two',\n",
       " 3: 'Three',\n",
       " 4: 'Four',\n",
       " 5: 'Five',\n",
       " 6: 'Six',\n",
       " 7: 'Seven',\n",
       " 8: 'Eight'}"
      ]
     },
     "execution_count": 31,
     "metadata": {},
     "output_type": "execute_result"
    }
   ],
   "source": [
    "dfk = dict(zip(k,v))\n",
    "dfk"
   ]
  },
  {
   "cell_type": "code",
   "execution_count": 32,
   "id": "cd776ce8",
   "metadata": {
    "id": "NhwwHMKDh5fm"
   },
   "outputs": [
    {
     "data": {
      "text/plain": [
       "'Three'"
      ]
     },
     "execution_count": 32,
     "metadata": {},
     "output_type": "execute_result"
    }
   ],
   "source": [
    "dfk.pop(3)"
   ]
  },
  {
   "cell_type": "code",
   "execution_count": 33,
   "id": "2924de7e",
   "metadata": {
    "id": "Ef9GFDIkh5fm",
    "outputId": "aad26ec6-efe3-4ab5-c81f-2712aea26439"
   },
   "outputs": [
    {
     "data": {
      "text/plain": [
       "{1: 'One', 2: 'Two', 4: 'Four', 5: 'Five', 6: 'Six', 7: 'Seven', 8: 'Eight'}"
      ]
     },
     "execution_count": 33,
     "metadata": {},
     "output_type": "execute_result"
    }
   ],
   "source": [
    "dfk"
   ]
  },
  {
   "cell_type": "code",
   "execution_count": 34,
   "id": "f2ba4725",
   "metadata": {
    "id": "Z8ds-JhJh5fn",
    "outputId": "02d78785-bde5-4c05-caf2-863ad8b46246"
   },
   "outputs": [
    {
     "data": {
      "text/plain": [
       "'Not Found'"
      ]
     },
     "execution_count": 34,
     "metadata": {},
     "output_type": "execute_result"
    }
   ],
   "source": [
    "dfk.pop(100,'Not Found')"
   ]
  },
  {
   "cell_type": "code",
   "execution_count": 35,
   "id": "ccc053d4",
   "metadata": {},
   "outputs": [
    {
     "data": {
      "text/plain": [
       "{1: 'One', 2: 'Two', 5: 'Five', 6: 'Six', 7: 'Seven', 8: 'Eight'}"
      ]
     },
     "execution_count": 35,
     "metadata": {},
     "output_type": "execute_result"
    }
   ],
   "source": [
    "dfk.pop(4,'Not Found')\n",
    "dfk"
   ]
  },
  {
   "cell_type": "code",
   "execution_count": 36,
   "id": "514b4efc",
   "metadata": {
    "id": "CrmW_qqGh5fn",
    "outputId": "eb172f05-9c4e-49e8-9381-de1d433e16c0"
   },
   "outputs": [
    {
     "data": {
      "text/plain": [
       "(8, 'Eight')"
      ]
     },
     "execution_count": 36,
     "metadata": {},
     "output_type": "execute_result"
    }
   ],
   "source": [
    "dfk.popitem()"
   ]
  },
  {
   "cell_type": "code",
   "execution_count": 37,
   "id": "96702e55",
   "metadata": {
    "id": "VAP1mCeQh5fn",
    "outputId": "dd44c97e-a056-4c1c-8b00-a9a6e7fd65f0"
   },
   "outputs": [
    {
     "data": {
      "text/plain": [
       "(7, 'Seven')"
      ]
     },
     "execution_count": 37,
     "metadata": {},
     "output_type": "execute_result"
    }
   ],
   "source": [
    "dfk.popitem()"
   ]
  },
  {
   "cell_type": "code",
   "execution_count": 38,
   "id": "d3b274ff",
   "metadata": {
    "id": "Xqsxcj5Gh5fn",
    "outputId": "442e96a5-4c6c-40c3-c90b-f96d8f2de541"
   },
   "outputs": [
    {
     "data": {
      "text/plain": [
       "{1: 'One', 2: 'Two', 5: 'Five', 6: 'Six'}"
      ]
     },
     "execution_count": 38,
     "metadata": {},
     "output_type": "execute_result"
    }
   ],
   "source": [
    "dfk"
   ]
  },
  {
   "cell_type": "code",
   "execution_count": 39,
   "id": "3958c3c5",
   "metadata": {
    "id": "6FhstTrMh5fo"
   },
   "outputs": [],
   "source": [
    "dfk.clear()"
   ]
  },
  {
   "cell_type": "code",
   "execution_count": 40,
   "id": "c3bb1ba1",
   "metadata": {
    "id": "eKS4PlnNh5fo",
    "outputId": "cd2d3c15-aa0b-4cee-f6b0-28804f588a34"
   },
   "outputs": [
    {
     "data": {
      "text/plain": [
       "{}"
      ]
     },
     "execution_count": 40,
     "metadata": {},
     "output_type": "execute_result"
    }
   ],
   "source": [
    "dfk"
   ]
  },
  {
   "cell_type": "markdown",
   "id": "5a9a027d",
   "metadata": {
    "id": "qo5h6ujyh5fo"
   },
   "source": [
    "### Update Elements"
   ]
  },
  {
   "cell_type": "code",
   "execution_count": 41,
   "id": "63d3e421",
   "metadata": {},
   "outputs": [
    {
     "data": {
      "text/plain": [
       "{1: 'Mango', 2: 'Banana', 3: 'Kiwi'}"
      ]
     },
     "execution_count": 41,
     "metadata": {},
     "output_type": "execute_result"
    }
   ],
   "source": [
    "d = {1:'Mango',2:'Banana',3:'Kiwi'}\n",
    "d"
   ]
  },
  {
   "cell_type": "code",
   "execution_count": 42,
   "id": "106fde4a",
   "metadata": {},
   "outputs": [
    {
     "data": {
      "text/plain": [
       "{1: 'Mango', 2: 'Apple', 3: 'Kiwi'}"
      ]
     },
     "execution_count": 42,
     "metadata": {},
     "output_type": "execute_result"
    }
   ],
   "source": [
    "d[2] = 'Apple'\n",
    "d"
   ]
  },
  {
   "cell_type": "code",
   "execution_count": 43,
   "id": "57181f08",
   "metadata": {},
   "outputs": [
    {
     "data": {
      "text/plain": [
       "{2: 'Orange', 3: 'Cherry'}"
      ]
     },
     "execution_count": 43,
     "metadata": {},
     "output_type": "execute_result"
    }
   ],
   "source": [
    "d2 = {2:'Orange',3:'Cherry'}\n",
    "d2"
   ]
  },
  {
   "cell_type": "code",
   "execution_count": 44,
   "id": "f779a9fe",
   "metadata": {},
   "outputs": [],
   "source": [
    "d.update(d2)"
   ]
  },
  {
   "cell_type": "code",
   "execution_count": 45,
   "id": "80b99395",
   "metadata": {},
   "outputs": [
    {
     "data": {
      "text/plain": [
       "{1: 'Mango', 2: 'Orange', 3: 'Cherry'}"
      ]
     },
     "execution_count": 45,
     "metadata": {},
     "output_type": "execute_result"
    }
   ],
   "source": [
    "d"
   ]
  },
  {
   "cell_type": "markdown",
   "id": "2efffe4b",
   "metadata": {},
   "source": [
    "### Copy Operation"
   ]
  },
  {
   "cell_type": "code",
   "execution_count": 46,
   "id": "793dd80f",
   "metadata": {},
   "outputs": [],
   "source": [
    "d1 = {1:'One', 2:'Two'}\n",
    "d2 = d1"
   ]
  },
  {
   "cell_type": "code",
   "execution_count": 47,
   "id": "c5af1d2d",
   "metadata": {},
   "outputs": [
    {
     "data": {
      "text/plain": [
       "{1: 'One', 2: 'Two'}"
      ]
     },
     "execution_count": 47,
     "metadata": {},
     "output_type": "execute_result"
    }
   ],
   "source": [
    "d1"
   ]
  },
  {
   "cell_type": "code",
   "execution_count": 48,
   "id": "45dd2459",
   "metadata": {},
   "outputs": [
    {
     "data": {
      "text/plain": [
       "{1: 'One', 2: 'Two'}"
      ]
     },
     "execution_count": 48,
     "metadata": {},
     "output_type": "execute_result"
    }
   ],
   "source": [
    "d2"
   ]
  },
  {
   "cell_type": "code",
   "execution_count": 49,
   "id": "c7ea2f37",
   "metadata": {},
   "outputs": [],
   "source": [
    "d1[1] = 'Eins'"
   ]
  },
  {
   "cell_type": "code",
   "execution_count": 50,
   "id": "6063c9c1",
   "metadata": {},
   "outputs": [
    {
     "data": {
      "text/plain": [
       "{1: 'Eins', 2: 'Two'}"
      ]
     },
     "execution_count": 50,
     "metadata": {},
     "output_type": "execute_result"
    }
   ],
   "source": [
    "d1"
   ]
  },
  {
   "cell_type": "code",
   "execution_count": 51,
   "id": "14bc2175",
   "metadata": {},
   "outputs": [
    {
     "data": {
      "text/plain": [
       "{1: 'Eins', 2: 'Two'}"
      ]
     },
     "execution_count": 51,
     "metadata": {},
     "output_type": "execute_result"
    }
   ],
   "source": [
    "d2"
   ]
  },
  {
   "cell_type": "code",
   "execution_count": 52,
   "id": "babb1fe0",
   "metadata": {},
   "outputs": [],
   "source": [
    "d1 = {1:'One', 2:'Two'}\n",
    "d2 = d1.copy()"
   ]
  },
  {
   "cell_type": "code",
   "execution_count": 53,
   "id": "dc71b909",
   "metadata": {},
   "outputs": [
    {
     "data": {
      "text/plain": [
       "{1: 'One', 2: 'Zwei'}"
      ]
     },
     "execution_count": 53,
     "metadata": {},
     "output_type": "execute_result"
    }
   ],
   "source": [
    "d1[2] = 'Zwei'\n",
    "d1"
   ]
  },
  {
   "cell_type": "code",
   "execution_count": 54,
   "id": "74444b6a",
   "metadata": {},
   "outputs": [
    {
     "data": {
      "text/plain": [
       "{1: 'One', 2: 'Two'}"
      ]
     },
     "execution_count": 54,
     "metadata": {},
     "output_type": "execute_result"
    }
   ],
   "source": [
    "d2"
   ]
  },
  {
   "cell_type": "markdown",
   "id": "96e7cb0a",
   "metadata": {},
   "source": [
    "### Sorting Dictionary "
   ]
  },
  {
   "cell_type": "code",
   "execution_count": 22,
   "id": "96f24305",
   "metadata": {},
   "outputs": [
    {
     "name": "stdout",
     "output_type": "stream",
     "text": [
      "yes\n"
     ]
    },
    {
     "data": {
      "text/plain": [
       "'thsseawsome'"
      ]
     },
     "execution_count": 22,
     "metadata": {},
     "output_type": "execute_result"
    }
   ],
   "source": [
    "y = sorted(x.items(),key = lambda p:p[1])\n",
    "y\n",
    "y.reverse()\n",
    "y\n",
    "if \"i\" in \"this\":\n",
    "    print (\"yes\")\n",
    "[i for i in \"thisiseawsome\" if i not in \"i\"]\n",
    "\"\".join([i for i in \"thisiseawsome\" if i not in \"i\"])"
   ]
  },
  {
   "cell_type": "markdown",
   "id": "3f5ffabb",
   "metadata": {},
   "source": [
    "# The End!! "
   ]
  }
 ],
 "metadata": {
  "kernelspec": {
   "display_name": "Python 3 (ipykernel)",
   "language": "python",
   "name": "python3"
  },
  "language_info": {
   "codemirror_mode": {
    "name": "ipython",
    "version": 3
   },
   "file_extension": ".py",
   "mimetype": "text/x-python",
   "name": "python",
   "nbconvert_exporter": "python",
   "pygments_lexer": "ipython3",
   "version": "3.9.12"
  }
 },
 "nbformat": 4,
 "nbformat_minor": 5
}
