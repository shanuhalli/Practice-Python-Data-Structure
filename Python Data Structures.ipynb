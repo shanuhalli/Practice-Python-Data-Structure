{
 "cells": [
  {
   "cell_type": "markdown",
   "id": "d26b746b",
   "metadata": {},
   "source": [
    "# Four Python Data Structures:\n",
    "\n",
    "1. List\n",
    "2. Sets\n",
    "3. Tuple\n",
    "4. Dictionary"
   ]
  },
  {
   "cell_type": "markdown",
   "id": "c685aebc",
   "metadata": {},
   "source": [
    "# 1. List\n",
    "\n",
    "* 1D\n",
    "* Heterogenous\n",
    "* Allows duplicate values\n",
    "* Mutable\n",
    "* Indexable and Sliceable"
   ]
  },
  {
   "cell_type": "code",
   "execution_count": 1,
   "id": "9c025602",
   "metadata": {},
   "outputs": [],
   "source": [
    "empty_cart_1 = []"
   ]
  },
  {
   "cell_type": "code",
   "execution_count": 2,
   "id": "6ed3e570",
   "metadata": {},
   "outputs": [
    {
     "data": {
      "text/plain": [
       "list"
      ]
     },
     "execution_count": 2,
     "metadata": {},
     "output_type": "execute_result"
    }
   ],
   "source": [
    "type(empty_cart_1)"
   ]
  },
  {
   "cell_type": "code",
   "execution_count": 3,
   "id": "5a7c9f99",
   "metadata": {},
   "outputs": [
    {
     "data": {
      "text/plain": [
       "['Apple',\n",
       " 'Orange',\n",
       " 'Grapes',\n",
       " 'Banana',\n",
       " 'Strawberry',\n",
       " 'Oats',\n",
       " 'Milk',\n",
       " 'Apple',\n",
       " 'Banana']"
      ]
     },
     "execution_count": 3,
     "metadata": {},
     "output_type": "execute_result"
    }
   ],
   "source": [
    "item_to_buy_1 = ['Apple','Orange','Grapes','Banana','Strawberry','Oats','Milk','Apple','Banana']\n",
    "item_to_buy_1"
   ]
  },
  {
   "cell_type": "code",
   "execution_count": 4,
   "id": "3bfddd12",
   "metadata": {},
   "outputs": [
    {
     "data": {
      "text/plain": [
       "list"
      ]
     },
     "execution_count": 4,
     "metadata": {},
     "output_type": "execute_result"
    }
   ],
   "source": [
    "type(item_to_buy_1)"
   ]
  },
  {
   "cell_type": "code",
   "execution_count": 5,
   "id": "9bdef617",
   "metadata": {},
   "outputs": [],
   "source": [
    "item_to_buy_1[2] = 'Almonds' #Mutable"
   ]
  },
  {
   "cell_type": "code",
   "execution_count": 6,
   "id": "20f2210b",
   "metadata": {},
   "outputs": [
    {
     "data": {
      "text/plain": [
       "['Apple',\n",
       " 'Orange',\n",
       " 'Almonds',\n",
       " 'Banana',\n",
       " 'Strawberry',\n",
       " 'Oats',\n",
       " 'Milk',\n",
       " 'Apple',\n",
       " 'Banana']"
      ]
     },
     "execution_count": 6,
     "metadata": {},
     "output_type": "execute_result"
    }
   ],
   "source": [
    "item_to_buy_1"
   ]
  },
  {
   "cell_type": "code",
   "execution_count": 7,
   "id": "65195c7d",
   "metadata": {},
   "outputs": [
    {
     "data": {
      "text/plain": [
       "['Apple', 'Orange', 'Almonds', 'Banana', 'Strawberry', 'Oats', 'Milk']"
      ]
     },
     "execution_count": 7,
     "metadata": {},
     "output_type": "execute_result"
    }
   ],
   "source": [
    "item_to_buy_1[:-2]"
   ]
  },
  {
   "cell_type": "code",
   "execution_count": 8,
   "id": "f0f6f396",
   "metadata": {},
   "outputs": [],
   "source": [
    "item_to_buy_1.append('Grapes')"
   ]
  },
  {
   "cell_type": "code",
   "execution_count": 9,
   "id": "df2b29f5",
   "metadata": {},
   "outputs": [
    {
     "data": {
      "text/plain": [
       "['Apple',\n",
       " 'Orange',\n",
       " 'Almonds',\n",
       " 'Banana',\n",
       " 'Strawberry',\n",
       " 'Oats',\n",
       " 'Milk',\n",
       " 'Apple',\n",
       " 'Banana',\n",
       " 'Grapes']"
      ]
     },
     "execution_count": 9,
     "metadata": {},
     "output_type": "execute_result"
    }
   ],
   "source": [
    "item_to_buy_1"
   ]
  },
  {
   "cell_type": "code",
   "execution_count": 10,
   "id": "b990be62",
   "metadata": {},
   "outputs": [
    {
     "data": {
      "text/plain": [
       "[2, 6, 12, 20, 30, 42, 56, 72, 90, 110]"
      ]
     },
     "execution_count": 10,
     "metadata": {},
     "output_type": "execute_result"
    }
   ],
   "source": [
    "scores = []\n",
    "\n",
    "num = 0\n",
    "for i in range(1,11):\n",
    "    num = num + i*2\n",
    "    scores.append(num)\n",
    "    \n",
    "scores"
   ]
  },
  {
   "cell_type": "markdown",
   "id": "7891cf48",
   "metadata": {},
   "source": [
    "# 2. Sets"
   ]
  },
  {
   "cell_type": "markdown",
   "id": "b7e36ccd",
   "metadata": {},
   "source": [
    "* 1D\n",
    "* Heterogenous\n",
    "* Not allows duplicate values\n",
    "* Mutable\n",
    "* Not Indexable and Not Sliceable"
   ]
  },
  {
   "cell_type": "code",
   "execution_count": 11,
   "id": "b627e071",
   "metadata": {},
   "outputs": [],
   "source": [
    "empty_cart_2 = set()"
   ]
  },
  {
   "cell_type": "code",
   "execution_count": 12,
   "id": "995bfd6a",
   "metadata": {},
   "outputs": [
    {
     "data": {
      "text/plain": [
       "set"
      ]
     },
     "execution_count": 12,
     "metadata": {},
     "output_type": "execute_result"
    }
   ],
   "source": [
    "type(empty_cart_2)"
   ]
  },
  {
   "cell_type": "code",
   "execution_count": 13,
   "id": "4533135a",
   "metadata": {},
   "outputs": [
    {
     "data": {
      "text/plain": [
       "{'Apple', 'Banana', 'Grapes', 'Milk', 'Oats', 'Orange', 'Strawberry'}"
      ]
     },
     "execution_count": 13,
     "metadata": {},
     "output_type": "execute_result"
    }
   ],
   "source": [
    "item_to_buy_2 = {'Apple','Orange','Grapes','Banana','Strawberry','Oats','Milk','Apple','Banana'}\n",
    "item_to_buy_2"
   ]
  },
  {
   "cell_type": "code",
   "execution_count": 14,
   "id": "c3970676",
   "metadata": {},
   "outputs": [],
   "source": [
    "item_to_buy_2.add('Oats')"
   ]
  },
  {
   "cell_type": "code",
   "execution_count": 15,
   "id": "14633cf5",
   "metadata": {},
   "outputs": [
    {
     "data": {
      "text/plain": [
       "{'Apple', 'Banana', 'Grapes', 'Milk', 'Oats', 'Orange', 'Strawberry'}"
      ]
     },
     "execution_count": 15,
     "metadata": {},
     "output_type": "execute_result"
    }
   ],
   "source": [
    "item_to_buy_2"
   ]
  },
  {
   "cell_type": "code",
   "execution_count": 16,
   "id": "dbf22fca",
   "metadata": {},
   "outputs": [],
   "source": [
    "item_to_buy_2.clear()"
   ]
  },
  {
   "cell_type": "code",
   "execution_count": 17,
   "id": "fe85c02b",
   "metadata": {},
   "outputs": [
    {
     "data": {
      "text/plain": [
       "set()"
      ]
     },
     "execution_count": 17,
     "metadata": {},
     "output_type": "execute_result"
    }
   ],
   "source": [
    "item_to_buy_2"
   ]
  },
  {
   "cell_type": "markdown",
   "id": "b2c9e053",
   "metadata": {},
   "source": [
    "# 3. Tuples\n",
    "\n",
    "* 1D\n",
    "* Heterogenous\n",
    "* Allows Duplicate values\n",
    "* Immutable\n",
    "* Sliceable and Indeaxable"
   ]
  },
  {
   "cell_type": "code",
   "execution_count": 18,
   "id": "e1c3cb3d",
   "metadata": {},
   "outputs": [
    {
     "data": {
      "text/plain": [
       "()"
      ]
     },
     "execution_count": 18,
     "metadata": {},
     "output_type": "execute_result"
    }
   ],
   "source": [
    "empty_cart_3 = ()\n",
    "empty_cart_3"
   ]
  },
  {
   "cell_type": "code",
   "execution_count": 19,
   "id": "d0af1144",
   "metadata": {},
   "outputs": [
    {
     "data": {
      "text/plain": [
       "tuple"
      ]
     },
     "execution_count": 19,
     "metadata": {},
     "output_type": "execute_result"
    }
   ],
   "source": [
    "type(empty_cart_3)"
   ]
  },
  {
   "cell_type": "code",
   "execution_count": 20,
   "id": "21987be2",
   "metadata": {},
   "outputs": [
    {
     "data": {
      "text/plain": [
       "('Apple',\n",
       " 'Orange',\n",
       " 'Grapes',\n",
       " 'Banana',\n",
       " 'Strawberry',\n",
       " 'Oats',\n",
       " 'Milk',\n",
       " 'Apple',\n",
       " 'Banana')"
      ]
     },
     "execution_count": 20,
     "metadata": {},
     "output_type": "execute_result"
    }
   ],
   "source": [
    "item_to_buy_3 = ('Apple','Orange','Grapes','Banana','Strawberry','Oats','Milk','Apple','Banana')\n",
    "item_to_buy_3"
   ]
  },
  {
   "cell_type": "code",
   "execution_count": 21,
   "id": "f578debb",
   "metadata": {},
   "outputs": [
    {
     "data": {
      "text/plain": [
       "'Strawberry'"
      ]
     },
     "execution_count": 21,
     "metadata": {},
     "output_type": "execute_result"
    }
   ],
   "source": [
    "item_to_buy_3[-5]"
   ]
  },
  {
   "cell_type": "code",
   "execution_count": 22,
   "id": "a5e25d8c",
   "metadata": {},
   "outputs": [
    {
     "data": {
      "text/plain": [
       "('Banana', 'Strawberry', 'Oats', 'Milk', 'Apple')"
      ]
     },
     "execution_count": 22,
     "metadata": {},
     "output_type": "execute_result"
    }
   ],
   "source": [
    "item_to_buy_3[-6:-1]"
   ]
  },
  {
   "cell_type": "code",
   "execution_count": 23,
   "id": "a6e91595",
   "metadata": {},
   "outputs": [
    {
     "data": {
      "text/plain": [
       "('Banana', 'Strawberry', 'Oats', 'Milk', 'Apple')"
      ]
     },
     "execution_count": 23,
     "metadata": {},
     "output_type": "execute_result"
    }
   ],
   "source": [
    "item_to_buy_3[3:-1]"
   ]
  },
  {
   "cell_type": "code",
   "execution_count": 24,
   "id": "2c1abdba",
   "metadata": {},
   "outputs": [
    {
     "data": {
      "text/plain": [
       "2"
      ]
     },
     "execution_count": 24,
     "metadata": {},
     "output_type": "execute_result"
    }
   ],
   "source": [
    "item_to_buy_3.count('Banana')"
   ]
  },
  {
   "cell_type": "markdown",
   "id": "41d04175",
   "metadata": {},
   "source": [
    "# 4. Dictionary"
   ]
  },
  {
   "cell_type": "markdown",
   "id": "0e7b3e9b",
   "metadata": {},
   "source": [
    "It is **Key-Value** Pair.\n",
    "\n",
    "* 2D\n",
    "* Heterogenous\n",
    "* Allows duplicate values but not keys\n",
    "* Not Indexable and Not Sliceable\n",
    "* Mutable"
   ]
  },
  {
   "cell_type": "code",
   "execution_count": 25,
   "id": "846d8f3b",
   "metadata": {},
   "outputs": [],
   "source": [
    "empty_cart_4 = {}"
   ]
  },
  {
   "cell_type": "code",
   "execution_count": 26,
   "id": "de64c182",
   "metadata": {},
   "outputs": [
    {
     "data": {
      "text/plain": [
       "dict"
      ]
     },
     "execution_count": 26,
     "metadata": {},
     "output_type": "execute_result"
    }
   ],
   "source": [
    "type(empty_cart_4)"
   ]
  },
  {
   "cell_type": "code",
   "execution_count": 27,
   "id": "f7b78252",
   "metadata": {},
   "outputs": [
    {
     "data": {
      "text/plain": [
       "{'Apple': 3, 'Orange': 3}"
      ]
     },
     "execution_count": 27,
     "metadata": {},
     "output_type": "execute_result"
    }
   ],
   "source": [
    "item_to_buy_4 = {'Apple':3,\n",
    "                 'Orange':3}\n",
    "item_to_buy_4"
   ]
  },
  {
   "cell_type": "code",
   "execution_count": 28,
   "id": "6a67426c",
   "metadata": {},
   "outputs": [
    {
     "data": {
      "text/plain": [
       "dict_keys(['Apple', 'Orange'])"
      ]
     },
     "execution_count": 28,
     "metadata": {},
     "output_type": "execute_result"
    }
   ],
   "source": [
    "item_to_buy_4.keys()"
   ]
  },
  {
   "cell_type": "code",
   "execution_count": 29,
   "id": "3d00e4d7",
   "metadata": {},
   "outputs": [
    {
     "data": {
      "text/plain": [
       "dict_values([3, 3])"
      ]
     },
     "execution_count": 29,
     "metadata": {},
     "output_type": "execute_result"
    }
   ],
   "source": [
    "item_to_buy_4.values()"
   ]
  },
  {
   "cell_type": "code",
   "execution_count": 30,
   "id": "1be96362",
   "metadata": {},
   "outputs": [
    {
     "data": {
      "text/plain": [
       "{'Name': ['Fisal', 'Syed'], 'BatchNo': [13, 13]}"
      ]
     },
     "execution_count": 30,
     "metadata": {},
     "output_type": "execute_result"
    }
   ],
   "source": [
    "learner_details = {'Name'   :['Fisal','Syed'],\n",
    "                   'BatchNo':[13,13]}\n",
    "learner_details"
   ]
  },
  {
   "cell_type": "code",
   "execution_count": 31,
   "id": "268cb57c",
   "metadata": {},
   "outputs": [],
   "source": [
    "learner_details.update()"
   ]
  },
  {
   "cell_type": "code",
   "execution_count": 32,
   "id": "945f9416",
   "metadata": {},
   "outputs": [],
   "source": [
    "import pandas as pd"
   ]
  },
  {
   "cell_type": "code",
   "execution_count": 33,
   "id": "6c328f92",
   "metadata": {},
   "outputs": [
    {
     "data": {
      "text/html": [
       "<div>\n",
       "<style scoped>\n",
       "    .dataframe tbody tr th:only-of-type {\n",
       "        vertical-align: middle;\n",
       "    }\n",
       "\n",
       "    .dataframe tbody tr th {\n",
       "        vertical-align: top;\n",
       "    }\n",
       "\n",
       "    .dataframe thead th {\n",
       "        text-align: right;\n",
       "    }\n",
       "</style>\n",
       "<table border=\"1\" class=\"dataframe\">\n",
       "  <thead>\n",
       "    <tr style=\"text-align: right;\">\n",
       "      <th></th>\n",
       "      <th>Name</th>\n",
       "      <th>BatchNo</th>\n",
       "    </tr>\n",
       "  </thead>\n",
       "  <tbody>\n",
       "    <tr>\n",
       "      <th>0</th>\n",
       "      <td>Fisal</td>\n",
       "      <td>13</td>\n",
       "    </tr>\n",
       "    <tr>\n",
       "      <th>1</th>\n",
       "      <td>Syed</td>\n",
       "      <td>13</td>\n",
       "    </tr>\n",
       "  </tbody>\n",
       "</table>\n",
       "</div>"
      ],
      "text/plain": [
       "    Name  BatchNo\n",
       "0  Fisal       13\n",
       "1   Syed       13"
      ]
     },
     "execution_count": 33,
     "metadata": {},
     "output_type": "execute_result"
    }
   ],
   "source": [
    "pd.DataFrame(data=learner_details)"
   ]
  },
  {
   "cell_type": "code",
   "execution_count": 34,
   "id": "e2ae9562",
   "metadata": {},
   "outputs": [],
   "source": [
    "about_ml = \"\"\"Machine learning (ML) is a field of inquiry devoted to understanding and building methods that 'learn', that is, methods that leverage data to improve performance on some set of tasks.[1] It is seen as a part of artificial intelligence. Machine learning algorithms build a model based on sample data, known as training data, in order to make predictions or decisions without being explicitly programmed to do so.[2] Machine learning algorithms are used in a wide variety of applications, such as in medicine, email filtering, speech recognition, and computer vision, where it is difficult or unfeasible to develop conventional algorithms to perform the needed tasks.[3]\n",
    "\n",
    "A subset of machine learning is closely related to computational statistics, which focuses on making predictions using computers, but not all machine learning is statistical learning. The study of mathematical optimization delivers methods, theory and application domains to the field of machine learning. Data mining is a related field of study, focusing on exploratory data analysis through unsupervised learning.[5][6] Some implementations of machine learning use data and neural networks in a way that mimics the working of a biological brain.[7][8] In its application across business problems, machine learning is also referred to as predictive analytics.\"\"\""
   ]
  },
  {
   "cell_type": "code",
   "execution_count": 35,
   "id": "496aff9c",
   "metadata": {},
   "outputs": [
    {
     "data": {
      "text/plain": [
       "1331"
      ]
     },
     "execution_count": 35,
     "metadata": {},
     "output_type": "execute_result"
    }
   ],
   "source": [
    "len(about_ml)"
   ]
  },
  {
   "cell_type": "code",
   "execution_count": 36,
   "id": "4207a578",
   "metadata": {},
   "outputs": [
    {
     "data": {
      "text/plain": [
       "48"
      ]
     },
     "execution_count": 36,
     "metadata": {},
     "output_type": "execute_result"
    }
   ],
   "source": [
    "len(set(about_ml))"
   ]
  },
  {
   "cell_type": "markdown",
   "id": "cd47376b",
   "metadata": {},
   "source": [
    "# THE END!!!"
   ]
  }
 ],
 "metadata": {
  "kernelspec": {
   "display_name": "Python 3 (ipykernel)",
   "language": "python",
   "name": "python3"
  },
  "language_info": {
   "codemirror_mode": {
    "name": "ipython",
    "version": 3
   },
   "file_extension": ".py",
   "mimetype": "text/x-python",
   "name": "python",
   "nbconvert_exporter": "python",
   "pygments_lexer": "ipython3",
   "version": "3.9.12"
  }
 },
 "nbformat": 4,
 "nbformat_minor": 5
}
