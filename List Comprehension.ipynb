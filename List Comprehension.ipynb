{
 "cells": [
  {
   "cell_type": "markdown",
   "id": "77949fc5",
   "metadata": {},
   "source": [
    "# Daily Task - 5\n",
    "## Explore List Comprehension.\n",
    "# ---------------------------------------------------------------------------------------------------------------"
   ]
  },
  {
   "cell_type": "code",
   "execution_count": 2,
   "id": "76896268",
   "metadata": {},
   "outputs": [
    {
     "name": "stdout",
     "output_type": "stream",
     "text": [
      "[12, 15, 15, 18, 12, 15, 15, 18]\n"
     ]
    }
   ],
   "source": [
    "num1 = [1,2,12,13,15,15,14,18,12,13,15,15,14,18]\n",
    "print([item for item in num1 if item%3 == 0])"
   ]
  },
  {
   "cell_type": "code",
   "execution_count": 3,
   "id": "0bc3c4bc",
   "metadata": {},
   "outputs": [
    {
     "name": "stdout",
     "output_type": "stream",
     "text": [
      "[1, 13, 15, 15, 13, 15, 15]\n"
     ]
    }
   ],
   "source": [
    "num2 = [1,2,12,13,15,15,14,18,79,46,43,75,95,48,84,94,65]\n",
    "print([i for i in num1 if i%2 == 1])"
   ]
  },
  {
   "cell_type": "code",
   "execution_count": 4,
   "id": "d65e4308",
   "metadata": {},
   "outputs": [
    {
     "data": {
      "text/plain": [
       "[1, 8, 27, 64, 125]"
      ]
     },
     "execution_count": 4,
     "metadata": {},
     "output_type": "execute_result"
    }
   ],
   "source": [
    "num3 = [1,2,3,4,5]\n",
    "cube = [i**3 for i in num3]\n",
    "cube"
   ]
  },
  {
   "cell_type": "code",
   "execution_count": 5,
   "id": "b56927cf",
   "metadata": {},
   "outputs": [
    {
     "data": {
      "text/plain": [
       "['Sanjay', 'Sonali', 'Sani', 'Sam']"
      ]
     },
     "execution_count": 5,
     "metadata": {},
     "output_type": "execute_result"
    }
   ],
   "source": [
    "student = [\"Sanjay\", 'Sonali', 'Rahul', 'Sani', 'Sam', 'Mohan']\n",
    "new_stu = [i for i in student if i.startswith('S')]\n",
    "new_stu"
   ]
  },
  {
   "cell_type": "code",
   "execution_count": 6,
   "id": "6cc89d5b",
   "metadata": {},
   "outputs": [
    {
     "name": "stdout",
     "output_type": "stream",
     "text": [
      "[(1, 3), (1, 4), (2, 3), (2, 4)]\n"
     ]
    }
   ],
   "source": [
    "first = [1,2]\n",
    "second = [3,4]\n",
    "xy = [(x,y) for x in first for y in second]\n",
    "print (xy)"
   ]
  },
  {
   "cell_type": "markdown",
   "id": "271b0272",
   "metadata": {},
   "source": [
    "# The End!!! "
   ]
  }
 ],
 "metadata": {
  "kernelspec": {
   "display_name": "Python 3 (ipykernel)",
   "language": "python",
   "name": "python3"
  },
  "language_info": {
   "codemirror_mode": {
    "name": "ipython",
    "version": 3
   },
   "file_extension": ".py",
   "mimetype": "text/x-python",
   "name": "python",
   "nbconvert_exporter": "python",
   "pygments_lexer": "ipython3",
   "version": "3.9.12"
  }
 },
 "nbformat": 4,
 "nbformat_minor": 5
}
