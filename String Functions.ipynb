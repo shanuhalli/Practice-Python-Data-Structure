{
 "cells": [
  {
   "cell_type": "markdown",
   "id": "fb942cf1",
   "metadata": {},
   "source": [
    "### EXPLORE ALL STRING FUNCTIONS WITH 2 EXAMPLES FOR EACH FUNCTIONS.\n"
   ]
  },
  {
   "cell_type": "code",
   "execution_count": 1,
   "id": "880cbfd3",
   "metadata": {
    "scrolled": true
   },
   "outputs": [
    {
     "name": "stdout",
     "output_type": "stream",
     "text": [
      "Shanu Halli\n"
     ]
    }
   ],
   "source": [
    "print (\"Shanu Halli\")"
   ]
  },
  {
   "cell_type": "code",
   "execution_count": 2,
   "id": "a1defcce",
   "metadata": {},
   "outputs": [
    {
     "data": {
      "text/plain": [
       "['__add__',\n",
       " '__class__',\n",
       " '__contains__',\n",
       " '__delattr__',\n",
       " '__dir__',\n",
       " '__doc__',\n",
       " '__eq__',\n",
       " '__format__',\n",
       " '__ge__',\n",
       " '__getattribute__',\n",
       " '__getitem__',\n",
       " '__getnewargs__',\n",
       " '__gt__',\n",
       " '__hash__',\n",
       " '__init__',\n",
       " '__init_subclass__',\n",
       " '__iter__',\n",
       " '__le__',\n",
       " '__len__',\n",
       " '__lt__',\n",
       " '__mod__',\n",
       " '__mul__',\n",
       " '__ne__',\n",
       " '__new__',\n",
       " '__reduce__',\n",
       " '__reduce_ex__',\n",
       " '__repr__',\n",
       " '__rmod__',\n",
       " '__rmul__',\n",
       " '__setattr__',\n",
       " '__sizeof__',\n",
       " '__str__',\n",
       " '__subclasshook__',\n",
       " 'capitalize',\n",
       " 'casefold',\n",
       " 'center',\n",
       " 'count',\n",
       " 'encode',\n",
       " 'endswith',\n",
       " 'expandtabs',\n",
       " 'find',\n",
       " 'format',\n",
       " 'format_map',\n",
       " 'index',\n",
       " 'isalnum',\n",
       " 'isalpha',\n",
       " 'isascii',\n",
       " 'isdecimal',\n",
       " 'isdigit',\n",
       " 'isidentifier',\n",
       " 'islower',\n",
       " 'isnumeric',\n",
       " 'isprintable',\n",
       " 'isspace',\n",
       " 'istitle',\n",
       " 'isupper',\n",
       " 'join',\n",
       " 'ljust',\n",
       " 'lower',\n",
       " 'lstrip',\n",
       " 'maketrans',\n",
       " 'partition',\n",
       " 'removeprefix',\n",
       " 'removesuffix',\n",
       " 'replace',\n",
       " 'rfind',\n",
       " 'rindex',\n",
       " 'rjust',\n",
       " 'rpartition',\n",
       " 'rsplit',\n",
       " 'rstrip',\n",
       " 'split',\n",
       " 'splitlines',\n",
       " 'startswith',\n",
       " 'strip',\n",
       " 'swapcase',\n",
       " 'title',\n",
       " 'translate',\n",
       " 'upper',\n",
       " 'zfill']"
      ]
     },
     "execution_count": 2,
     "metadata": {},
     "output_type": "execute_result"
    }
   ],
   "source": [
    "dir ('Shanu Halli')"
   ]
  },
  {
   "cell_type": "markdown",
   "id": "8ad01c68",
   "metadata": {},
   "source": [
    "### 1. 'capitalize'"
   ]
  },
  {
   "cell_type": "code",
   "execution_count": 3,
   "id": "8808c4f5",
   "metadata": {},
   "outputs": [
    {
     "name": "stdout",
     "output_type": "stream",
     "text": [
      "Original line:  india is my country\n",
      "New Line    :  India is my country\n"
     ]
    }
   ],
   "source": [
    "country = 'india is my country'\n",
    "print(\"Original line: \", country)\n",
    "print (\"New Line    : \", country.capitalize())"
   ]
  },
  {
   "cell_type": "code",
   "execution_count": 4,
   "id": "f1157fc5",
   "metadata": {},
   "outputs": [
    {
     "data": {
      "text/plain": [
       "'Sagar is my best friend'"
      ]
     },
     "execution_count": 4,
     "metadata": {},
     "output_type": "execute_result"
    }
   ],
   "source": [
    "friend = \"SAGAr IS My BEST FRIend\"\n",
    "friend.capitalize()"
   ]
  },
  {
   "cell_type": "markdown",
   "id": "b8976340",
   "metadata": {},
   "source": [
    "### 2. 'casefold'"
   ]
  },
  {
   "cell_type": "code",
   "execution_count": 5,
   "id": "e6ca3e1a",
   "metadata": {},
   "outputs": [
    {
     "data": {
      "text/plain": [
       "'hyderabad is best city'"
      ]
     },
     "execution_count": 5,
     "metadata": {},
     "output_type": "execute_result"
    }
   ],
   "source": [
    "city = 'HyDERABAD is Best city'\n",
    "city.casefold()"
   ]
  },
  {
   "cell_type": "code",
   "execution_count": 6,
   "id": "666c7bbd",
   "metadata": {},
   "outputs": [
    {
     "data": {
      "text/plain": [
       "'english is hard for me'"
      ]
     },
     "execution_count": 6,
     "metadata": {},
     "output_type": "execute_result"
    }
   ],
   "source": [
    "opinion = 'ENGLISH IS HARD FOR ME'\n",
    "opinion.casefold()"
   ]
  },
  {
   "cell_type": "markdown",
   "id": "222f87cb",
   "metadata": {},
   "source": [
    "### 3. 'center'"
   ]
  },
  {
   "cell_type": "code",
   "execution_count": 7,
   "id": "d061bf5b",
   "metadata": {},
   "outputs": [
    {
     "data": {
      "text/plain": [
       "'    Data science    '"
      ]
     },
     "execution_count": 7,
     "metadata": {},
     "output_type": "execute_result"
    }
   ],
   "source": [
    "cource = \"Data science\"\n",
    "cource.center(20, ' ')"
   ]
  },
  {
   "cell_type": "code",
   "execution_count": 8,
   "id": "aa295cac",
   "metadata": {},
   "outputs": [
    {
     "data": {
      "text/plain": [
       "'999999999999999999999999HP999999999999999999999999'"
      ]
     },
     "execution_count": 8,
     "metadata": {},
     "output_type": "execute_result"
    }
   ],
   "source": [
    "laptop = 'HP'\n",
    "laptop.center(50, '9')"
   ]
  },
  {
   "cell_type": "markdown",
   "id": "d5a97668",
   "metadata": {},
   "source": [
    "### 4. 'count',"
   ]
  },
  {
   "cell_type": "code",
   "execution_count": 9,
   "id": "dc58afa0",
   "metadata": {},
   "outputs": [
    {
     "name": "stdout",
     "output_type": "stream",
     "text": [
      "1\n",
      "2\n"
     ]
    }
   ],
   "source": [
    "grade = 'My marks is very good. but sometimes My marks not good'\n",
    "print (grade.count(grade))\n",
    "print (grade.count('marks'))"
   ]
  },
  {
   "cell_type": "code",
   "execution_count": 10,
   "id": "513dc317",
   "metadata": {},
   "outputs": [
    {
     "data": {
      "text/plain": [
       "2"
      ]
     },
     "execution_count": 10,
     "metadata": {},
     "output_type": "execute_result"
    }
   ],
   "source": [
    "passion = 'Learninng is my passion and my hobby is travelling'\n",
    "passion.count('is')"
   ]
  },
  {
   "cell_type": "markdown",
   "id": "4765875d",
   "metadata": {},
   "source": [
    "### 5. 'encode' "
   ]
  },
  {
   "cell_type": "code",
   "execution_count": 11,
   "id": "36094abd",
   "metadata": {},
   "outputs": [
    {
     "data": {
      "text/plain": [
       "b'MARKETING'"
      ]
     },
     "execution_count": 11,
     "metadata": {},
     "output_type": "execute_result"
    }
   ],
   "source": [
    "job = 'MARKETING'\n",
    "job.encode(encoding='utf', errors='strict')"
   ]
  },
  {
   "cell_type": "code",
   "execution_count": 12,
   "id": "66fb521c",
   "metadata": {},
   "outputs": [
    {
     "data": {
      "text/plain": [
       "b'this is very hard for me'"
      ]
     },
     "execution_count": 12,
     "metadata": {},
     "output_type": "execute_result"
    }
   ],
   "source": [
    "problem = 'this is very hard for me'\n",
    "problem.encode()"
   ]
  },
  {
   "cell_type": "markdown",
   "id": "d34fada7",
   "metadata": {},
   "source": [
    "### 6.  'endswith'"
   ]
  },
  {
   "cell_type": "code",
   "execution_count": 13,
   "id": "707e0a6e",
   "metadata": {},
   "outputs": [
    {
     "name": "stdout",
     "output_type": "stream",
     "text": [
      "True\n",
      "False\n"
     ]
    }
   ],
   "source": [
    "animal = 'tiger lives in junggle'\n",
    "print (animal.endswith('junggle'))\n",
    "print (animal.endswith('in'))"
   ]
  },
  {
   "cell_type": "code",
   "execution_count": 14,
   "id": "bd56a2a1",
   "metadata": {},
   "outputs": [
    {
     "name": "stdout",
     "output_type": "stream",
     "text": [
      "True\n",
      "False\n"
     ]
    }
   ],
   "source": [
    "power = 'india will more power than china'\n",
    "print (power.endswith('china'))\n",
    "print (power.endswith('power'))"
   ]
  },
  {
   "cell_type": "markdown",
   "id": "82dc2ad5",
   "metadata": {},
   "source": [
    "### 7. 'expandtabs'"
   ]
  },
  {
   "cell_type": "code",
   "execution_count": 15,
   "id": "6e2c1e25",
   "metadata": {},
   "outputs": [
    {
     "data": {
      "text/plain": [
       "'Life      is   very      Beutiful  also      srtugled'"
      ]
     },
     "execution_count": 15,
     "metadata": {},
     "output_type": "execute_result"
    }
   ],
   "source": [
    "life = 'Life \\tis \\tvery \\tBeutiful \\talso \\tsrtugled'\n",
    "life.expandtabs(tabsize = 5)"
   ]
  },
  {
   "cell_type": "code",
   "execution_count": 16,
   "id": "e5c639e8",
   "metadata": {},
   "outputs": [
    {
     "data": {
      "text/plain": [
       "'10      20      30'"
      ]
     },
     "execution_count": 16,
     "metadata": {},
     "output_type": "execute_result"
    }
   ],
   "source": [
    "sequence = '10 \\t20 \\t30'\n",
    "sequence.expandtabs(tabsize = 8)"
   ]
  },
  {
   "cell_type": "markdown",
   "id": "0dbfa838",
   "metadata": {},
   "source": [
    "### 8. 'find'"
   ]
  },
  {
   "cell_type": "code",
   "execution_count": 17,
   "id": "88f7b1de",
   "metadata": {},
   "outputs": [
    {
     "name": "stdout",
     "output_type": "stream",
     "text": [
      "4\n",
      "20\n",
      "9\n"
     ]
    }
   ],
   "source": [
    "fun = 'Ram is a very funny guy'\n",
    "print (fun.find('is'))\n",
    "print (fun.find('g'))\n",
    "print (fun.find('v'))"
   ]
  },
  {
   "cell_type": "code",
   "execution_count": 18,
   "id": "a78a6751",
   "metadata": {},
   "outputs": [
    {
     "data": {
      "text/plain": [
       "12"
      ]
     },
     "execution_count": 18,
     "metadata": {},
     "output_type": "execute_result"
    }
   ],
   "source": [
    "facalty = 'John sir is my best teacher'\n",
    "facalty.find('my')"
   ]
  },
  {
   "cell_type": "markdown",
   "id": "50ec9d33",
   "metadata": {},
   "source": [
    "### 9. 'format'"
   ]
  },
  {
   "cell_type": "code",
   "execution_count": 19,
   "id": "e7b677ef",
   "metadata": {},
   "outputs": [
    {
     "name": "stdout",
     "output_type": "stream",
     "text": [
      "Hello, My name is Shanu, Im from Belgaum.\n"
     ]
    }
   ],
   "source": [
    "print(\"Hello, My name is {}, Im from {}.\" .format('Shanu', 'Belgaum')) # default arguments"
   ]
  },
  {
   "cell_type": "code",
   "execution_count": 20,
   "id": "960fe6ac",
   "metadata": {},
   "outputs": [
    {
     "name": "stdout",
     "output_type": "stream",
     "text": [
      "Hello, My name is Shanu, Im from Belgaum.\n"
     ]
    }
   ],
   "source": [
    "print(\"Hello, My name is {0}, Im from {1}.\" .format(\"Shanu\", 'Belgaum')) # positional arguments"
   ]
  },
  {
   "cell_type": "code",
   "execution_count": 21,
   "id": "0be9a813",
   "metadata": {},
   "outputs": [
    {
     "name": "stdout",
     "output_type": "stream",
     "text": [
      "Hello, My name is Shanu, im from Belgaum.\n"
     ]
    }
   ],
   "source": [
    "print(\"Hello, My name is {name}, im from {place}.\" .format(name=\"Shanu\", place='Belgaum')) # keyword arguments"
   ]
  },
  {
   "cell_type": "code",
   "execution_count": 22,
   "id": "93ace892",
   "metadata": {},
   "outputs": [
    {
     "name": "stdout",
     "output_type": "stream",
     "text": [
      "Hello, My name is Shanu, im from Belgaum.\n"
     ]
    }
   ],
   "source": [
    "print(\"Hello, My name is {0}, im from {place}.\" .format(\"Shanu\", place=\"Belgaum\")) # mixed arguments"
   ]
  },
  {
   "cell_type": "markdown",
   "id": "9f42402a",
   "metadata": {},
   "source": [
    "### 10. 'format_map'"
   ]
  },
  {
   "cell_type": "code",
   "execution_count": 23,
   "id": "9a6096d3",
   "metadata": {},
   "outputs": [
    {
     "name": "stdout",
     "output_type": "stream",
     "text": [
      "ExcelR Data Analyst is very good with 50000 only.\n"
     ]
    }
   ],
   "source": [
    "cource = {'name':['Data Analyst'], 'fees':[50000]}\n",
    "print ('ExcelR {name[0]} is very good with {fees[0]} only.'.format_map(cource))"
   ]
  },
  {
   "cell_type": "code",
   "execution_count": 24,
   "id": "df8b69e0",
   "metadata": {},
   "outputs": [
    {
     "name": "stdout",
     "output_type": "stream",
     "text": [
      "Sanjay is an Doctor and he is 31 years old.\n"
     ]
    }
   ],
   "source": [
    "profession = {'name':['Sanjay'], 'profession':['Doctor'],'age': [31]}\n",
    "print('{name[0]} is an {profession[0]} and he is {age[0]} years old.'.format_map(profession))"
   ]
  },
  {
   "cell_type": "markdown",
   "id": "3f5aeabe",
   "metadata": {},
   "source": [
    "###  11. 'index'"
   ]
  },
  {
   "cell_type": "code",
   "execution_count": 25,
   "id": "59d7414d",
   "metadata": {},
   "outputs": [
    {
     "data": {
      "text/plain": [
       "26"
      ]
     },
     "execution_count": 25,
     "metadata": {},
     "output_type": "execute_result"
    }
   ],
   "source": [
    "capital = 'Bengalore is capital city of Karnataka'\n",
    "capital.index('of')"
   ]
  },
  {
   "cell_type": "code",
   "execution_count": 26,
   "id": "c56895c0",
   "metadata": {},
   "outputs": [
    {
     "name": "stdout",
     "output_type": "stream",
     "text": [
      "'is good': 7\n"
     ]
    }
   ],
   "source": [
    "langauge = 'Python is good programming language.'\n",
    "result = langauge.index('is good')\n",
    "print(\"'is good':\", result)"
   ]
  },
  {
   "cell_type": "markdown",
   "id": "46f4d991",
   "metadata": {},
   "source": [
    "### 12. 'isalnum'"
   ]
  },
  {
   "cell_type": "code",
   "execution_count": 27,
   "id": "f4d20fcb",
   "metadata": {},
   "outputs": [
    {
     "data": {
      "text/plain": [
       "False"
      ]
     },
     "execution_count": 27,
     "metadata": {},
     "output_type": "execute_result"
    }
   ],
   "source": [
    "words = 'Kashmir is very beatiful'\n",
    "words.isalnum()"
   ]
  },
  {
   "cell_type": "code",
   "execution_count": 28,
   "id": "a78216d0",
   "metadata": {},
   "outputs": [
    {
     "data": {
      "text/plain": [
       "True"
      ]
     },
     "execution_count": 28,
     "metadata": {},
     "output_type": "execute_result"
    }
   ],
   "source": [
    "john ='Myteacher123'\n",
    "john.isalnum()"
   ]
  },
  {
   "cell_type": "markdown",
   "id": "59f03cee",
   "metadata": {},
   "source": [
    "### 13. 'isalpha'"
   ]
  },
  {
   "cell_type": "code",
   "execution_count": 29,
   "id": "1b256d61",
   "metadata": {},
   "outputs": [
    {
     "data": {
      "text/plain": [
       "True"
      ]
     },
     "execution_count": 29,
     "metadata": {},
     "output_type": "execute_result"
    }
   ],
   "source": [
    "state = \"Karnataka\"\n",
    "state.isalpha()"
   ]
  },
  {
   "cell_type": "code",
   "execution_count": 30,
   "id": "ee604cd2",
   "metadata": {},
   "outputs": [
    {
     "data": {
      "text/plain": [
       "False"
      ]
     },
     "execution_count": 30,
     "metadata": {},
     "output_type": "execute_result"
    }
   ],
   "source": [
    "state = \"karnataka is best state.\"\n",
    "state.isalpha()"
   ]
  },
  {
   "cell_type": "code",
   "execution_count": 31,
   "id": "747546fd",
   "metadata": {},
   "outputs": [
    {
     "data": {
      "text/plain": [
       "False"
      ]
     },
     "execution_count": 31,
     "metadata": {},
     "output_type": "execute_result"
    }
   ],
   "source": [
    "num = 'rahul12345'\n",
    "num.isalpha()"
   ]
  },
  {
   "cell_type": "markdown",
   "id": "780a4da6",
   "metadata": {},
   "source": [
    "###  15. 'isascii'"
   ]
  },
  {
   "cell_type": "code",
   "execution_count": 32,
   "id": "92465b3a",
   "metadata": {},
   "outputs": [
    {
     "data": {
      "text/plain": [
       "True"
      ]
     },
     "execution_count": 32,
     "metadata": {},
     "output_type": "execute_result"
    }
   ],
   "source": [
    "words = 'Mohan'\n",
    "words.isascii()"
   ]
  },
  {
   "cell_type": "code",
   "execution_count": 33,
   "id": "57b1ed79",
   "metadata": {},
   "outputs": [
    {
     "data": {
      "text/plain": [
       "True"
      ]
     },
     "execution_count": 33,
     "metadata": {},
     "output_type": "execute_result"
    }
   ],
   "source": [
    "num = '123@#$'\n",
    "num.isascii()"
   ]
  },
  {
   "cell_type": "code",
   "execution_count": 34,
   "id": "8078e63f",
   "metadata": {},
   "outputs": [
    {
     "data": {
      "text/plain": [
       "False"
      ]
     },
     "execution_count": 34,
     "metadata": {},
     "output_type": "execute_result"
    }
   ],
   "source": [
    "symbol = \"ß\"\n",
    "symbol.isascii()"
   ]
  },
  {
   "cell_type": "markdown",
   "id": "ad93fb97",
   "metadata": {},
   "source": [
    "### 16. 'isdecimal'"
   ]
  },
  {
   "cell_type": "code",
   "execution_count": 35,
   "id": "8b76fcb3",
   "metadata": {},
   "outputs": [
    {
     "data": {
      "text/plain": [
       "True"
      ]
     },
     "execution_count": 35,
     "metadata": {},
     "output_type": "execute_result"
    }
   ],
   "source": [
    "num = '12500'\n",
    "num.isdecimal()"
   ]
  },
  {
   "cell_type": "code",
   "execution_count": 36,
   "id": "902404d7",
   "metadata": {},
   "outputs": [
    {
     "data": {
      "text/plain": [
       "False"
      ]
     },
     "execution_count": 36,
     "metadata": {},
     "output_type": "execute_result"
    }
   ],
   "source": [
    "num = '15.65'\n",
    "num.isdecimal()"
   ]
  },
  {
   "cell_type": "code",
   "execution_count": 37,
   "id": "22f4ead0",
   "metadata": {},
   "outputs": [
    {
     "data": {
      "text/plain": [
       "False"
      ]
     },
     "execution_count": 37,
     "metadata": {},
     "output_type": "execute_result"
    }
   ],
   "source": [
    "num = '1365asd'\n",
    "num.isdecimal()"
   ]
  },
  {
   "cell_type": "markdown",
   "id": "7f3c14b4",
   "metadata": {},
   "source": [
    "###  17. 'isdigit'"
   ]
  },
  {
   "cell_type": "code",
   "execution_count": 38,
   "id": "ce7dd304",
   "metadata": {},
   "outputs": [
    {
     "data": {
      "text/plain": [
       "True"
      ]
     },
     "execution_count": 38,
     "metadata": {},
     "output_type": "execute_result"
    }
   ],
   "source": [
    "digit = '123'\n",
    "digit.isdigit()"
   ]
  },
  {
   "cell_type": "code",
   "execution_count": 39,
   "id": "11aaad94",
   "metadata": {},
   "outputs": [
    {
     "data": {
      "text/plain": [
       "False"
      ]
     },
     "execution_count": 39,
     "metadata": {},
     "output_type": "execute_result"
    }
   ],
   "source": [
    "digit = 'Hyderabad'\n",
    "digit.isdigit()"
   ]
  },
  {
   "cell_type": "code",
   "execution_count": 40,
   "id": "6b0cd2e6",
   "metadata": {},
   "outputs": [
    {
     "data": {
      "text/plain": [
       "False"
      ]
     },
     "execution_count": 40,
     "metadata": {},
     "output_type": "execute_result"
    }
   ],
   "source": [
    "digit = '125.125'\n",
    "digit.isdigit()"
   ]
  },
  {
   "cell_type": "markdown",
   "id": "b868beee",
   "metadata": {},
   "source": [
    "### 18. 'isidentifier'"
   ]
  },
  {
   "cell_type": "code",
   "execution_count": 41,
   "id": "190f719f",
   "metadata": {},
   "outputs": [
    {
     "data": {
      "text/plain": [
       "False"
      ]
     },
     "execution_count": 41,
     "metadata": {},
     "output_type": "execute_result"
    }
   ],
   "source": [
    "country = '123456'\n",
    "country.isidentifier()"
   ]
  },
  {
   "cell_type": "code",
   "execution_count": 42,
   "id": "e45e0195",
   "metadata": {},
   "outputs": [
    {
     "data": {
      "text/plain": [
       "False"
      ]
     },
     "execution_count": 42,
     "metadata": {},
     "output_type": "execute_result"
    }
   ],
   "source": [
    "country = 'India is my county'\n",
    "country.isidentifier()"
   ]
  },
  {
   "cell_type": "code",
   "execution_count": 43,
   "id": "892492d2",
   "metadata": {},
   "outputs": [
    {
     "data": {
      "text/plain": [
       "True"
      ]
     },
     "execution_count": 43,
     "metadata": {},
     "output_type": "execute_result"
    }
   ],
   "source": [
    "country = 'India_is_my_county'\n",
    "country.isidentifier()"
   ]
  },
  {
   "cell_type": "markdown",
   "id": "8274a65b",
   "metadata": {},
   "source": [
    "### 19. 'islower'"
   ]
  },
  {
   "cell_type": "code",
   "execution_count": 44,
   "id": "7045e430",
   "metadata": {},
   "outputs": [
    {
     "data": {
      "text/plain": [
       "False"
      ]
     },
     "execution_count": 44,
     "metadata": {},
     "output_type": "execute_result"
    }
   ],
   "source": [
    "words = 'My Name is Shanu'\n",
    "words.islower()"
   ]
  },
  {
   "cell_type": "code",
   "execution_count": 45,
   "id": "66f8bb0d",
   "metadata": {},
   "outputs": [
    {
     "data": {
      "text/plain": [
       "True"
      ]
     },
     "execution_count": 45,
     "metadata": {},
     "output_type": "execute_result"
    }
   ],
   "source": [
    "words = 'my work place is excelr'\n",
    "words.islower()"
   ]
  },
  {
   "cell_type": "markdown",
   "id": "b27caa67",
   "metadata": {},
   "source": [
    "### 20. 'isnumeric'"
   ]
  },
  {
   "cell_type": "code",
   "execution_count": 46,
   "id": "30c237bd",
   "metadata": {},
   "outputs": [
    {
     "data": {
      "text/plain": [
       "True"
      ]
     },
     "execution_count": 46,
     "metadata": {},
     "output_type": "execute_result"
    }
   ],
   "source": [
    "num = '1235'\n",
    "num.isnumeric()"
   ]
  },
  {
   "cell_type": "code",
   "execution_count": 47,
   "id": "3b5ad6a9",
   "metadata": {},
   "outputs": [
    {
     "data": {
      "text/plain": [
       "False"
      ]
     },
     "execution_count": 47,
     "metadata": {},
     "output_type": "execute_result"
    }
   ],
   "source": [
    "num = '123.456'\n",
    "num.isnumeric()"
   ]
  },
  {
   "cell_type": "code",
   "execution_count": 48,
   "id": "dd9704f2",
   "metadata": {},
   "outputs": [
    {
     "data": {
      "text/plain": [
       "False"
      ]
     },
     "execution_count": 48,
     "metadata": {},
     "output_type": "execute_result"
    }
   ],
   "source": [
    "num = '789 Mumbai'\n",
    "num.isnumeric()"
   ]
  },
  {
   "cell_type": "markdown",
   "id": "ab27b778",
   "metadata": {},
   "source": [
    "### 21. 'isprintable'"
   ]
  },
  {
   "cell_type": "code",
   "execution_count": 49,
   "id": "81ff9a6b",
   "metadata": {},
   "outputs": [
    {
     "data": {
      "text/plain": [
       "True"
      ]
     },
     "execution_count": 49,
     "metadata": {},
     "output_type": "execute_result"
    }
   ],
   "source": [
    "veiw = 'samsung'\n",
    "veiw.isprintable()"
   ]
  },
  {
   "cell_type": "code",
   "execution_count": 50,
   "id": "dd6e03c4",
   "metadata": {},
   "outputs": [
    {
     "data": {
      "text/plain": [
       "False"
      ]
     },
     "execution_count": 50,
     "metadata": {},
     "output_type": "execute_result"
    }
   ],
   "source": [
    "veiw = 'Hello World\\n'\n",
    "veiw.isprintable()"
   ]
  },
  {
   "cell_type": "markdown",
   "id": "6d613d8c",
   "metadata": {},
   "source": [
    "### 22. 'isspace'"
   ]
  },
  {
   "cell_type": "code",
   "execution_count": 51,
   "id": "30409372",
   "metadata": {},
   "outputs": [
    {
     "data": {
      "text/plain": [
       "True"
      ]
     },
     "execution_count": 51,
     "metadata": {},
     "output_type": "execute_result"
    }
   ],
   "source": [
    "space = ' '\n",
    "space.isspace()"
   ]
  },
  {
   "cell_type": "code",
   "execution_count": 52,
   "id": "0102a824",
   "metadata": {},
   "outputs": [
    {
     "data": {
      "text/plain": [
       "False"
      ]
     },
     "execution_count": 52,
     "metadata": {},
     "output_type": "execute_result"
    }
   ],
   "source": [
    "space = 'Kolhapur City'\n",
    "space.isspace()"
   ]
  },
  {
   "cell_type": "markdown",
   "id": "3f4948c2",
   "metadata": {},
   "source": [
    "### 23.'istitle'"
   ]
  },
  {
   "cell_type": "code",
   "execution_count": 53,
   "id": "fad7b649",
   "metadata": {},
   "outputs": [
    {
     "data": {
      "text/plain": [
       "False"
      ]
     },
     "execution_count": 53,
     "metadata": {},
     "output_type": "execute_result"
    }
   ],
   "source": [
    "title = 'delhi is captal city'\n",
    "title.istitle()"
   ]
  },
  {
   "cell_type": "code",
   "execution_count": 54,
   "id": "1a2a83cb",
   "metadata": {},
   "outputs": [
    {
     "data": {
      "text/plain": [
       "True"
      ]
     },
     "execution_count": 54,
     "metadata": {},
     "output_type": "execute_result"
    }
   ],
   "source": [
    "title = 'Mumbai Is Capital Of Maharashtra'\n",
    "title.istitle()"
   ]
  },
  {
   "cell_type": "markdown",
   "id": "6136f1e5",
   "metadata": {},
   "source": [
    "### 24. 'isupper'"
   ]
  },
  {
   "cell_type": "code",
   "execution_count": 55,
   "id": "6538168d",
   "metadata": {},
   "outputs": [
    {
     "data": {
      "text/plain": [
       "False"
      ]
     },
     "execution_count": 55,
     "metadata": {},
     "output_type": "execute_result"
    }
   ],
   "source": [
    "words = 'My Name is Priti'\n",
    "words.isupper()"
   ]
  },
  {
   "cell_type": "code",
   "execution_count": 56,
   "id": "6dc2bbaa",
   "metadata": {},
   "outputs": [
    {
     "data": {
      "text/plain": [
       "False"
      ]
     },
     "execution_count": 56,
     "metadata": {},
     "output_type": "execute_result"
    }
   ],
   "source": [
    "words = 'my work place is google'\n",
    "words.isupper()"
   ]
  },
  {
   "cell_type": "markdown",
   "id": "cebdc041",
   "metadata": {},
   "source": [
    "### 25. 'join'"
   ]
  },
  {
   "cell_type": "code",
   "execution_count": 57,
   "id": "5c28b975",
   "metadata": {},
   "outputs": [
    {
     "data": {
      "text/plain": [
       "'Sanjay Priti Mumbai Pune'"
      ]
     },
     "execution_count": 57,
     "metadata": {},
     "output_type": "execute_result"
    }
   ],
   "source": [
    "sep = ' '\n",
    "name = 'Sanjay', 'Priti', 'Mumbai', 'Pune'\n",
    "sep.join(name)"
   ]
  },
  {
   "cell_type": "code",
   "execution_count": 58,
   "id": "8df30c20",
   "metadata": {},
   "outputs": [
    {
     "name": "stdout",
     "output_type": "stream",
     "text": [
      "Sagar-11-10.5-Rohan\n"
     ]
    }
   ],
   "source": [
    "sep = '-'\n",
    "names = ['Sagar', '11', '10.5', 'Rohan']\n",
    "print(sep.join(names))"
   ]
  },
  {
   "cell_type": "markdown",
   "id": "ac9429d0",
   "metadata": {},
   "source": [
    "### 26. 'ljust'"
   ]
  },
  {
   "cell_type": "code",
   "execution_count": 59,
   "id": "7b1feeb2",
   "metadata": {},
   "outputs": [
    {
     "data": {
      "text/plain": [
       "'HELLO OOOOOOOOOOOOOO'"
      ]
     },
     "execution_count": 59,
     "metadata": {},
     "output_type": "execute_result"
    }
   ],
   "source": [
    "word = 'HELLO '\n",
    "word.ljust(20, 'O')"
   ]
  },
  {
   "cell_type": "code",
   "execution_count": 60,
   "id": "7ac21919",
   "metadata": {
    "scrolled": true
   },
   "outputs": [
    {
     "name": "stdout",
     "output_type": "stream",
     "text": [
      "My_HP_LaptopSSSSSSSSSSSSSSSSSSSSSSSSSSSSSSSSSSSSSS\n"
     ]
    }
   ],
   "source": [
    "text = 'My_HP_Laptop'\n",
    "x = text.ljust(50, 'S')\n",
    "print(x)"
   ]
  },
  {
   "cell_type": "markdown",
   "id": "f0319b0c",
   "metadata": {},
   "source": [
    "### 27. 'lower'"
   ]
  },
  {
   "cell_type": "code",
   "execution_count": 61,
   "id": "3fc4d666",
   "metadata": {},
   "outputs": [
    {
     "data": {
      "text/plain": [
       "'india will have 122 unicorns in 25 cities within next 2-4 years'"
      ]
     },
     "execution_count": 61,
     "metadata": {},
     "output_type": "execute_result"
    }
   ],
   "source": [
    "text = 'India Will Have 122 Unicorns In 25 Cities Within Next 2-4 Years'\n",
    "text.lower()"
   ]
  },
  {
   "cell_type": "code",
   "execution_count": 62,
   "id": "3215bc04",
   "metadata": {},
   "outputs": [
    {
     "name": "stdout",
     "output_type": "stream",
     "text": [
      "Breaking News : karnataka government launched ‘kashi yatra’ scheme\n"
     ]
    }
   ],
   "source": [
    "news = 'KARNATAKA GOVERNMENT LAUNCHED ‘KASHI YATRA’ SCHEME'\n",
    "print (\"Breaking News :\", news.lower())"
   ]
  },
  {
   "cell_type": "markdown",
   "id": "d6244c25",
   "metadata": {},
   "source": [
    "### 28.  'lstrip'"
   ]
  },
  {
   "cell_type": "code",
   "execution_count": 63,
   "id": "850ecd05",
   "metadata": {},
   "outputs": [
    {
     "data": {
      "text/plain": [
       "'Chief Minister        '"
      ]
     },
     "execution_count": 63,
     "metadata": {},
     "output_type": "execute_result"
    }
   ],
   "source": [
    "maha = '         Chief Minister        '\n",
    "maha.lstrip()"
   ]
  },
  {
   "cell_type": "code",
   "execution_count": 64,
   "id": "f2605b77",
   "metadata": {},
   "outputs": [
    {
     "data": {
      "text/plain": [
       "'Shinde to take oath as Chief Minister of Maharashtra'"
      ]
     },
     "execution_count": 64,
     "metadata": {},
     "output_type": "execute_result"
    }
   ],
   "source": [
    "maha = 'Eknath Shinde to take oath as Chief Minister of Maharashtra'\n",
    "maha.lstrip('Eknath ')"
   ]
  },
  {
   "cell_type": "markdown",
   "id": "3d9988d6",
   "metadata": {},
   "source": [
    "### 29. 'maketrans'"
   ]
  },
  {
   "cell_type": "code",
   "execution_count": 65,
   "id": "caa958fc",
   "metadata": {},
   "outputs": [
    {
     "data": {
      "text/plain": [
       "{82: 67, 66: 66, 73: 73}"
      ]
     },
     "execution_count": 65,
     "metadata": {},
     "output_type": "execute_result"
    }
   ],
   "source": [
    "text = 'RBI'\n",
    "text.maketrans('RBI','CBI')"
   ]
  },
  {
   "cell_type": "code",
   "execution_count": 66,
   "id": "e956bb31",
   "metadata": {},
   "outputs": [
    {
     "name": "stdout",
     "output_type": "stream",
     "text": [
      "Hello Pham\n"
     ]
    }
   ],
   "source": [
    "txt = \"Hello Sham\"\n",
    "mytable = txt.maketrans(\"S\", \"P\")\n",
    "print(txt.translate(mytable))"
   ]
  },
  {
   "cell_type": "markdown",
   "id": "75bfa7ea",
   "metadata": {},
   "source": [
    "### 30. 'partition'"
   ]
  },
  {
   "cell_type": "code",
   "execution_count": 67,
   "id": "9eec4410",
   "metadata": {},
   "outputs": [
    {
     "data": {
      "text/plain": [
       "('Chief', ' ', 'Minister Prime Minister')"
      ]
     },
     "execution_count": 67,
     "metadata": {},
     "output_type": "execute_result"
    }
   ],
   "source": [
    "position = 'Chief Minister Prime Minister'\n",
    "position.partition(' ')"
   ]
  },
  {
   "cell_type": "code",
   "execution_count": 68,
   "id": "ffb164b8",
   "metadata": {},
   "outputs": [
    {
     "data": {
      "text/plain": [
       "('4th Synergy Conference ', 'between', ' Indian Army and DAD')"
      ]
     },
     "execution_count": 68,
     "metadata": {},
     "output_type": "execute_result"
    }
   ],
   "source": [
    "Delhi = '4th Synergy Conference between Indian Army and DAD'\n",
    "Delhi.partition('between')"
   ]
  },
  {
   "cell_type": "markdown",
   "id": "0c5d80ba",
   "metadata": {},
   "source": [
    "### 31. 'removeprefix'"
   ]
  },
  {
   "cell_type": "code",
   "execution_count": 69,
   "id": "95cc1922",
   "metadata": {},
   "outputs": [
    {
     "data": {
      "text/plain": [
       "'Djokovic becomes 1st player to win 80 matches in all four Grand Slams'"
      ]
     },
     "execution_count": 69,
     "metadata": {},
     "output_type": "execute_result"
    }
   ],
   "source": [
    "game = \"Novak Djokovic becomes 1st player to win 80 matches in all four Grand Slams\"\n",
    "game.removeprefix('Novak ')"
   ]
  },
  {
   "cell_type": "code",
   "execution_count": 70,
   "id": "365780b2",
   "metadata": {},
   "outputs": [
    {
     "name": "stdout",
     "output_type": "stream",
     "text": [
      "NEW LINE :  Medallist and Hockey World Cup winner Varinder Singh passes away\n"
     ]
    }
   ],
   "source": [
    "sentence = \"Olympic Medallist and Hockey World Cup winner Varinder Singh passes away\"\n",
    "result = sentence.removeprefix(\"Olympic \") \n",
    "print(\"NEW LINE : \", result)"
   ]
  },
  {
   "cell_type": "markdown",
   "id": "10e56fae",
   "metadata": {},
   "source": [
    "### 32. 'removesuffix'"
   ]
  },
  {
   "cell_type": "code",
   "execution_count": 71,
   "id": "70c3e036",
   "metadata": {
    "scrolled": true
   },
   "outputs": [
    {
     "name": "stdout",
     "output_type": "stream",
     "text": [
      "New Line : Indian Coast Guard launched “PADMA” centralised payment\n"
     ]
    }
   ],
   "source": [
    "force = \"Indian Coast Guard launched “PADMA” centralised payment system\"\n",
    "x = force.removesuffix(' system')\n",
    "print ('New Line :', x)"
   ]
  },
  {
   "cell_type": "code",
   "execution_count": 72,
   "id": "d50f1f49",
   "metadata": {},
   "outputs": [
    {
     "name": "stdout",
     "output_type": "stream",
     "text": [
      "NEWS : Industry first “Global Health Care” programme introduced by Bajaj\n"
     ]
    }
   ],
   "source": [
    "news = \"Industry first “Global Health Care” programme introduced by Bajaj Allianz\"\n",
    "x = news.removesuffix(' Allianz')\n",
    "print (\"NEWS :\", x)"
   ]
  },
  {
   "cell_type": "markdown",
   "id": "09cafdd7",
   "metadata": {},
   "source": [
    "### 33. 'replace'"
   ]
  },
  {
   "cell_type": "code",
   "execution_count": 73,
   "id": "51881781",
   "metadata": {},
   "outputs": [
    {
     "name": "stdout",
     "output_type": "stream",
     "text": [
      "Co-branded contactless RuPay debit cards introduced by BOB and Nainital Bank\n"
     ]
    }
   ],
   "source": [
    "bank = \"Co-branded contactless RuPay credit cards introduced by BOB and Nainital Bank\"\n",
    "x = bank.replace('credit', 'debit')\n",
    "print (x)"
   ]
  },
  {
   "cell_type": "code",
   "execution_count": 74,
   "id": "e83a02b3",
   "metadata": {},
   "outputs": [
    {
     "name": "stdout",
     "output_type": "stream",
     "text": [
      "Correction : The session starts next Sunday.\n"
     ]
    }
   ],
   "source": [
    "line = \"The course starts next Sunday.\"\n",
    "x = line.replace('course', 'session')\n",
    "print ('Correction :', x)"
   ]
  },
  {
   "cell_type": "markdown",
   "id": "6de36a68",
   "metadata": {},
   "source": [
    "### 34. 'rfind' "
   ]
  },
  {
   "cell_type": "code",
   "execution_count": 75,
   "id": "95932db2",
   "metadata": {},
   "outputs": [
    {
     "name": "stdout",
     "output_type": "stream",
     "text": [
      "Index of M:  5\n",
      "Index of Good:  0\n"
     ]
    }
   ],
   "source": [
    "greet = 'Good Mornimg'\n",
    "print('Index of M: ', greet.rfind('M'))\n",
    "print('Index of Good: ', greet.rfind('Good'))"
   ]
  },
  {
   "cell_type": "code",
   "execution_count": 76,
   "id": "228e3dc5",
   "metadata": {},
   "outputs": [
    {
     "name": "stdout",
     "output_type": "stream",
     "text": [
      "campus:  27\n"
     ]
    }
   ],
   "source": [
    "opinion = \"What an amazing university campus is this\"\n",
    "print ('campus: ', opinion.rfind('campus'))"
   ]
  },
  {
   "cell_type": "markdown",
   "id": "fa5eb95c",
   "metadata": {},
   "source": [
    "### 35. 'rindex'"
   ]
  },
  {
   "cell_type": "code",
   "execution_count": 77,
   "id": "e80ce3b1",
   "metadata": {},
   "outputs": [
    {
     "data": {
      "text/plain": [
       "16"
      ]
     },
     "execution_count": 77,
     "metadata": {},
     "output_type": "execute_result"
    }
   ],
   "source": [
    "pets = \"I love my pets, I Play Everyday\"\n",
    "pets.rindex('I')"
   ]
  },
  {
   "cell_type": "code",
   "execution_count": 78,
   "id": "1a503ebd",
   "metadata": {},
   "outputs": [
    {
     "name": "stdout",
     "output_type": "stream",
     "text": [
      "Index of is : 57\n"
     ]
    }
   ],
   "source": [
    "sentence = \"The good thing is that self-confidence is something that is born with us.\"\n",
    "print (\"Index of is :\", sentence.rindex('is'))"
   ]
  },
  {
   "cell_type": "markdown",
   "id": "2560d128",
   "metadata": {},
   "source": [
    "### 36. 'rjust'"
   ]
  },
  {
   "cell_type": "code",
   "execution_count": 79,
   "id": "ca1d4413",
   "metadata": {},
   "outputs": [
    {
     "data": {
      "text/plain": [
       "'AAAAAAAAAAAAA mumbai is very rush place.'"
      ]
     },
     "execution_count": 79,
     "metadata": {},
     "output_type": "execute_result"
    }
   ],
   "source": [
    "city = \" mumbai is very rush place.\"\n",
    "city.rjust(40, \"A\")"
   ]
  },
  {
   "cell_type": "code",
   "execution_count": 80,
   "id": "9da64fcd",
   "metadata": {},
   "outputs": [
    {
     "name": "stdout",
     "output_type": "stream",
     "text": [
      "----------------Started rainy seasin....Amazing!!!\n"
     ]
    }
   ],
   "source": [
    "example = \"Started rainy seasin....Amazing!!!\"\n",
    "print (example.rjust(50, '-'))"
   ]
  },
  {
   "cell_type": "markdown",
   "id": "d45a6d92",
   "metadata": {},
   "source": [
    "### 37. 'rpartition'"
   ]
  },
  {
   "cell_type": "code",
   "execution_count": 81,
   "id": "68668069",
   "metadata": {},
   "outputs": [
    {
     "data": {
      "text/plain": [
       "('SEBI imposed Rs. 7 crore penalty on National Stock', ' ', 'Exchange')"
      ]
     },
     "execution_count": 81,
     "metadata": {},
     "output_type": "execute_result"
    }
   ],
   "source": [
    "sebi = \"SEBI imposed Rs. 7 crore penalty on National Stock Exchange\"\n",
    "sebi.rpartition(' ')"
   ]
  },
  {
   "cell_type": "code",
   "execution_count": 82,
   "id": "b46ba8d9",
   "metadata": {},
   "outputs": [
    {
     "data": {
      "text/plain": [
       "('hat cat ', 'mat', ' chat')"
      ]
     },
     "execution_count": 82,
     "metadata": {},
     "output_type": "execute_result"
    }
   ],
   "source": [
    "same = \"hat cat mat chat\"\n",
    "same.rpartition('mat')"
   ]
  },
  {
   "cell_type": "markdown",
   "id": "bf80d195",
   "metadata": {},
   "source": [
    "### 38. 'rsplit'"
   ]
  },
  {
   "cell_type": "code",
   "execution_count": 83,
   "id": "59d8f663",
   "metadata": {},
   "outputs": [
    {
     "data": {
      "text/plain": [
       "['Successful flight testing ',\n",
       " ' high-speed expendable aerial target ABHYAS in Odisha']"
      ]
     },
     "execution_count": 83,
     "metadata": {},
     "output_type": "execute_result"
    }
   ],
   "source": [
    "test = \"Successful flight testing of high-speed expendable aerial target ABHYAS in Odisha\"\n",
    "test.rsplit(\"of\")"
   ]
  },
  {
   "cell_type": "code",
   "execution_count": 84,
   "id": "98031d96",
   "metadata": {},
   "outputs": [
    {
     "data": {
      "text/plain": [
       "['hat', 'cat', 'mat', 'chat']"
      ]
     },
     "execution_count": 84,
     "metadata": {},
     "output_type": "execute_result"
    }
   ],
   "source": [
    "same = \"hat cat mat chat\"\n",
    "same.rsplit()"
   ]
  },
  {
   "cell_type": "markdown",
   "id": "3a775cef",
   "metadata": {},
   "source": [
    "### 39. 'rstrip'"
   ]
  },
  {
   "cell_type": "code",
   "execution_count": 85,
   "id": "d71e8273",
   "metadata": {},
   "outputs": [
    {
     "name": "stdout",
     "output_type": "stream",
     "text": [
      "New LINE :          Kannda is my Mothertoungh.\n"
     ]
    }
   ],
   "source": [
    "lang = \"         Kannda is my Mothertoungh.        \"\n",
    "print (\"New LINE :\", lang.rstrip(\" \"))"
   ]
  },
  {
   "cell_type": "code",
   "execution_count": 86,
   "id": "abc39de7",
   "metadata": {},
   "outputs": [
    {
     "data": {
      "text/plain": [
       "'Nitin Gadkari presented National Highway excellent Award'"
      ]
     },
     "execution_count": 86,
     "metadata": {},
     "output_type": "execute_result"
    }
   ],
   "source": [
    "new = \"Nitin Gadkari presented National Highway excellent Award 2021\"\n",
    "new.rstrip(' 2021')"
   ]
  },
  {
   "cell_type": "markdown",
   "id": "304d8924",
   "metadata": {},
   "source": [
    "### 40. 'split'"
   ]
  },
  {
   "cell_type": "code",
   "execution_count": 87,
   "id": "e5db8b29",
   "metadata": {},
   "outputs": [
    {
     "data": {
      "text/plain": [
       "['Adani Sportsline ', ' principal sponsor of Indian Olympic Association']"
      ]
     },
     "execution_count": 87,
     "metadata": {},
     "output_type": "execute_result"
    }
   ],
   "source": [
    "sports = \"Adani Sportsline is principal sponsor of Indian Olympic Association\"\n",
    "sports.split(\"is\")"
   ]
  },
  {
   "cell_type": "code",
   "execution_count": 88,
   "id": "06fa5a0d",
   "metadata": {},
   "outputs": [
    {
     "data": {
      "text/plain": [
       "['Sagar', 'Sachin', 'Ganesh', 'Anthony', 'Amar']"
      ]
     },
     "execution_count": 88,
     "metadata": {},
     "output_type": "execute_result"
    }
   ],
   "source": [
    "friend = \"Sagar Sachin Ganesh Anthony Amar\"\n",
    "friend.split(' ')"
   ]
  },
  {
   "cell_type": "markdown",
   "id": "dd184d6f",
   "metadata": {},
   "source": [
    "### 41. 'splitlines'"
   ]
  },
  {
   "cell_type": "code",
   "execution_count": 89,
   "id": "9503889f",
   "metadata": {
    "scrolled": true
   },
   "outputs": [
    {
     "data": {
      "text/plain": [
       "['The doctor is such a person who rarely takes a break from his duty.\\n',\n",
       " 'He usually works individually or with his assistance.\\n',\n",
       " 'He always equips with all the modern medical instruments and knowledge of efficiently operating them.\\n',\n",
       " 'The advice of a doctor is sufficient to stay healthy forever.\\n',\n",
       " 'People respect Doctors as God on Earth.']"
      ]
     },
     "execution_count": 89,
     "metadata": {},
     "output_type": "execute_result"
    }
   ],
   "source": [
    "doctor = '''The doctor is such a person who rarely takes a break from his duty.\n",
    "He usually works individually or with his assistance.\n",
    "He always equips with all the modern medical instruments and knowledge of efficiently operating them.\n",
    "The advice of a doctor is sufficient to stay healthy forever.\n",
    "People respect Doctors as God on Earth.'''\n",
    "doctor.splitlines(True)"
   ]
  },
  {
   "cell_type": "code",
   "execution_count": 90,
   "id": "62985f12",
   "metadata": {},
   "outputs": [
    {
     "data": {
      "text/plain": [
       "['The doctor is such a person who rarely takes a break from his duty.',\n",
       " 'He usually works individually or with his assistance.',\n",
       " 'He always equips with all the modern medical instruments and knowledge of efficiently operating them.',\n",
       " 'The advice of a doctor is sufficient to stay healthy forever.',\n",
       " 'People respect Doctors as God on Earth.']"
      ]
     },
     "execution_count": 90,
     "metadata": {},
     "output_type": "execute_result"
    }
   ],
   "source": [
    "doctor = '''The doctor is such a person who rarely takes a break from his duty.\n",
    "He usually works individually or with his assistance.\n",
    "He always equips with all the modern medical instruments and knowledge of efficiently operating them.\n",
    "The advice of a doctor is sufficient to stay healthy forever.\n",
    "People respect Doctors as God on Earth.'''\n",
    "doctor.splitlines(False)"
   ]
  },
  {
   "cell_type": "markdown",
   "id": "efa0e6d3",
   "metadata": {},
   "source": [
    "### 42. 'startswith'"
   ]
  },
  {
   "cell_type": "code",
   "execution_count": 91,
   "id": "29ce8af0",
   "metadata": {},
   "outputs": [
    {
     "data": {
      "text/plain": [
       "True"
      ]
     },
     "execution_count": 91,
     "metadata": {},
     "output_type": "execute_result"
    }
   ],
   "source": [
    "doctor = \"National Doctor’s Day celebrates on First July\"\n",
    "doctor.startswith(\"National\")"
   ]
  },
  {
   "cell_type": "code",
   "execution_count": 92,
   "id": "5013bbd5",
   "metadata": {},
   "outputs": [
    {
     "data": {
      "text/plain": [
       "False"
      ]
     },
     "execution_count": 92,
     "metadata": {},
     "output_type": "execute_result"
    }
   ],
   "source": [
    "sceam = \"Dak Karmayogi E-learning Platform launched by the Government\"\n",
    "sceam.startswith(\"Government\")"
   ]
  },
  {
   "cell_type": "markdown",
   "id": "a779ed26",
   "metadata": {},
   "source": [
    "### 43. 'strip',"
   ]
  },
  {
   "cell_type": "code",
   "execution_count": 93,
   "id": "34f66090",
   "metadata": {},
   "outputs": [
    {
     "data": {
      "text/plain": [
       "'Google'"
      ]
     },
     "execution_count": 93,
     "metadata": {},
     "output_type": "execute_result"
    }
   ],
   "source": [
    "company =\"          Google         \"\n",
    "company.strip()"
   ]
  },
  {
   "cell_type": "code",
   "execution_count": 94,
   "id": "ab11a52b",
   "metadata": {},
   "outputs": [
    {
     "data": {
      "text/plain": [
       "' Indian Coast Guard '"
      ]
     },
     "execution_count": 94,
     "metadata": {},
     "output_type": "execute_result"
    }
   ],
   "source": [
    "sys = \"AAAAA Indian Coast Guard AAAAAAAAAAAA\"\n",
    "sys.strip(\"A\")"
   ]
  },
  {
   "cell_type": "markdown",
   "id": "1615318e",
   "metadata": {},
   "source": [
    "### 44. 'swapcase'"
   ]
  },
  {
   "cell_type": "code",
   "execution_count": 95,
   "id": "c63889ef",
   "metadata": {},
   "outputs": [
    {
     "data": {
      "text/plain": [
       "'gOVERNMENT'"
      ]
     },
     "execution_count": 95,
     "metadata": {},
     "output_type": "execute_result"
    }
   ],
   "source": [
    "x = \"Government\"\n",
    "x.swapcase()"
   ]
  },
  {
   "cell_type": "code",
   "execution_count": 96,
   "id": "d0644bb4",
   "metadata": {},
   "outputs": [
    {
     "data": {
      "text/plain": [
       "'iNFRASTRUCTURE iNVESTMENT tRUST (iNVit) AND REAL ESTATE INVESTMENT TRUST (reit).'"
      ]
     },
     "execution_count": 96,
     "metadata": {},
     "output_type": "execute_result"
    }
   ],
   "source": [
    "y = \"Infrastructure Investment Trust (InvIT) and real estate investment trust (REIT).\"\n",
    "y.swapcase()"
   ]
  },
  {
   "cell_type": "markdown",
   "id": "937886f3",
   "metadata": {},
   "source": [
    "### 45. 'title'"
   ]
  },
  {
   "cell_type": "code",
   "execution_count": 97,
   "id": "8b1f9c1b",
   "metadata": {},
   "outputs": [
    {
     "data": {
      "text/plain": [
       "'Real Estate Investment Trust (Reit)'"
      ]
     },
     "execution_count": 97,
     "metadata": {},
     "output_type": "execute_result"
    }
   ],
   "source": [
    "y = \"REAL ESTATE INVESTMENT TRUST (reit)\"\n",
    "y.title()"
   ]
  },
  {
   "cell_type": "code",
   "execution_count": 98,
   "id": "75ee3510",
   "metadata": {},
   "outputs": [
    {
     "data": {
      "text/plain": [
       "'Cislunar Autonomous Positioning System Technology Operations And Navigation Experiment.'"
      ]
     },
     "execution_count": 98,
     "metadata": {},
     "output_type": "execute_result"
    }
   ],
   "source": [
    "title = \"cislunar autonomous positioning system technology operations and navigation experiment.\"\n",
    "title.title()"
   ]
  },
  {
   "cell_type": "markdown",
   "id": "a0c95f29",
   "metadata": {},
   "source": [
    "### 46. 'translate'"
   ]
  },
  {
   "cell_type": "code",
   "execution_count": 99,
   "id": "5b144268",
   "metadata": {},
   "outputs": [
    {
     "name": "stdout",
     "output_type": "stream",
     "text": [
      "Pyth4n 3s 1 pr4gr1mm3ng l1ng51g2\n"
     ]
    }
   ],
   "source": [
    "lang = 'Python is a programming language'\n",
    "intab = \"aeiou\"\n",
    "outtab = \"12345\"\n",
    "trantab = lang.maketrans(intab, outtab)\n",
    "print (lang.translate(trantab))"
   ]
  },
  {
   "cell_type": "code",
   "execution_count": 100,
   "id": "584bbf52",
   "metadata": {},
   "outputs": [
    {
     "name": "stdout",
     "output_type": "stream",
     "text": [
      "Original String: python is a programming language\n",
      "Translated String: 1ython is 2 1ro3r2mmin3 l2n3u23e\n",
      "Table: {112: 49, 97: 50, 103: 51}\n"
     ]
    }
   ],
   "source": [
    "mystr = 'python is a programming language'\n",
    "str1 = 'pag'\n",
    "str2 = '123'\n",
    "mytable = mystr.maketrans(str1, str2)\n",
    "mystr_translated = mystr.translate(mytable)\n",
    "\n",
    "print('Original String:', mystr)\n",
    "print('Translated String:', mystr_translated)\n",
    "print('Table:', mytable)"
   ]
  },
  {
   "cell_type": "markdown",
   "id": "07b7ce41",
   "metadata": {},
   "source": [
    "### 47. 'upper'"
   ]
  },
  {
   "cell_type": "code",
   "execution_count": 101,
   "id": "ed50d66e",
   "metadata": {},
   "outputs": [
    {
     "data": {
      "text/plain": [
       "'INFRASTRUCTURE INVESTMENT TRUST '"
      ]
     },
     "execution_count": 101,
     "metadata": {},
     "output_type": "execute_result"
    }
   ],
   "source": [
    "x = \"Infrastructure Investment Trust \"\n",
    "x.upper()"
   ]
  },
  {
   "cell_type": "code",
   "execution_count": 102,
   "id": "5f4f3330",
   "metadata": {},
   "outputs": [
    {
     "data": {
      "text/plain": [
       "'INDIAN AIR FORCE'"
      ]
     },
     "execution_count": 102,
     "metadata": {},
     "output_type": "execute_result"
    }
   ],
   "source": [
    "y = \"indian air force\"\n",
    "y.upper()"
   ]
  },
  {
   "cell_type": "markdown",
   "id": "4eb3d556",
   "metadata": {},
   "source": [
    "### 48. 'zfill'"
   ]
  },
  {
   "cell_type": "code",
   "execution_count": 103,
   "id": "8f8fb7fb",
   "metadata": {},
   "outputs": [
    {
     "data": {
      "text/plain": [
       "'000000000000000000000000000000NASA: Washington D.C'"
      ]
     },
     "execution_count": 103,
     "metadata": {},
     "output_type": "execute_result"
    }
   ],
   "source": [
    "nasa = \"NASA: Washington D.C\"\n",
    "nasa.zfill(50)"
   ]
  },
  {
   "cell_type": "code",
   "execution_count": 104,
   "id": "4716b4f1",
   "metadata": {},
   "outputs": [
    {
     "data": {
      "text/plain": [
       "'00000000000000123456'"
      ]
     },
     "execution_count": 104,
     "metadata": {},
     "output_type": "execute_result"
    }
   ],
   "source": [
    "num = \"123456\"\n",
    "num.zfill(20)"
   ]
  },
  {
   "cell_type": "markdown",
   "id": "1a94f2da",
   "metadata": {},
   "source": [
    "# THE END !!!"
   ]
  }
 ],
 "metadata": {
  "kernelspec": {
   "display_name": "Python 3 (ipykernel)",
   "language": "python",
   "name": "python3"
  },
  "language_info": {
   "codemirror_mode": {
    "name": "ipython",
    "version": 3
   },
   "file_extension": ".py",
   "mimetype": "text/x-python",
   "name": "python",
   "nbconvert_exporter": "python",
   "pygments_lexer": "ipython3",
   "version": "3.9.12"
  }
 },
 "nbformat": 4,
 "nbformat_minor": 5
}
