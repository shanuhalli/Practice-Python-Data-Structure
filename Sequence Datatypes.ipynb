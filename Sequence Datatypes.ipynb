{
 "cells": [
  {
   "cell_type": "markdown",
   "id": "2adeaebb",
   "metadata": {},
   "source": [
    "# Sequence Types"
   ]
  },
  {
   "cell_type": "markdown",
   "id": "150015ec",
   "metadata": {},
   "source": [
    "### a.List"
   ]
  },
  {
   "cell_type": "code",
   "execution_count": 1,
   "id": "0dc3cd27",
   "metadata": {},
   "outputs": [],
   "source": [
    "lst = []"
   ]
  },
  {
   "cell_type": "code",
   "execution_count": 2,
   "id": "1a743653",
   "metadata": {},
   "outputs": [
    {
     "data": {
      "text/plain": [
       "list"
      ]
     },
     "execution_count": 2,
     "metadata": {},
     "output_type": "execute_result"
    }
   ],
   "source": [
    "type(lst)"
   ]
  },
  {
   "cell_type": "code",
   "execution_count": 3,
   "id": "d28ae0b0",
   "metadata": {},
   "outputs": [
    {
     "data": {
      "text/plain": [
       "[12, 34, 56, 78, 89, 80]"
      ]
     },
     "execution_count": 3,
     "metadata": {},
     "output_type": "execute_result"
    }
   ],
   "source": [
    "mylst = [12,34,56,78,89,80]\n",
    "mylst"
   ]
  },
  {
   "cell_type": "code",
   "execution_count": 4,
   "id": "b572858a",
   "metadata": {},
   "outputs": [
    {
     "data": {
      "text/plain": [
       "6"
      ]
     },
     "execution_count": 4,
     "metadata": {},
     "output_type": "execute_result"
    }
   ],
   "source": [
    "len(mylst)"
   ]
  },
  {
   "cell_type": "code",
   "execution_count": 5,
   "id": "82f7629e",
   "metadata": {},
   "outputs": [
    {
     "data": {
      "text/plain": [
       "[12, 3.456, 'Python', [33, 44, 55], True, (5, 2, 3)]"
      ]
     },
     "execution_count": 5,
     "metadata": {},
     "output_type": "execute_result"
    }
   ],
   "source": [
    "lst = [12,3.456,'Python',[33,44,55],True,(5,2,3)]\n",
    "lst"
   ]
  },
  {
   "cell_type": "code",
   "execution_count": 6,
   "id": "c86fcc61",
   "metadata": {},
   "outputs": [
    {
     "data": {
      "text/plain": [
       "6"
      ]
     },
     "execution_count": 6,
     "metadata": {},
     "output_type": "execute_result"
    }
   ],
   "source": [
    "len(lst)"
   ]
  },
  {
   "cell_type": "markdown",
   "id": "0920479b",
   "metadata": {},
   "source": [
    "### b. Tuple"
   ]
  },
  {
   "cell_type": "code",
   "execution_count": 8,
   "id": "8f586c59",
   "metadata": {},
   "outputs": [
    {
     "data": {
      "text/plain": [
       "()"
      ]
     },
     "execution_count": 8,
     "metadata": {},
     "output_type": "execute_result"
    }
   ],
   "source": [
    "mytup = ()\n",
    "mytup"
   ]
  },
  {
   "cell_type": "code",
   "execution_count": 9,
   "id": "be7c0dfa",
   "metadata": {},
   "outputs": [
    {
     "data": {
      "text/plain": [
       "0"
      ]
     },
     "execution_count": 9,
     "metadata": {},
     "output_type": "execute_result"
    }
   ],
   "source": [
    "len(mytup)"
   ]
  },
  {
   "cell_type": "code",
   "execution_count": 11,
   "id": "4d0a8ec6",
   "metadata": {},
   "outputs": [
    {
     "data": {
      "text/plain": [
       "tuple"
      ]
     },
     "execution_count": 11,
     "metadata": {},
     "output_type": "execute_result"
    }
   ],
   "source": [
    "type(mytup)"
   ]
  },
  {
   "cell_type": "code",
   "execution_count": 12,
   "id": "3c10db5d",
   "metadata": {},
   "outputs": [
    {
     "data": {
      "text/plain": [
       "(33, 55, 45, 76, 44)"
      ]
     },
     "execution_count": 12,
     "metadata": {},
     "output_type": "execute_result"
    }
   ],
   "source": [
    "tup = (33, 55,45,76,44)\n",
    "tup"
   ]
  },
  {
   "cell_type": "code",
   "execution_count": 13,
   "id": "5f873b47",
   "metadata": {},
   "outputs": [
    {
     "data": {
      "text/plain": [
       "(12, 3.456, 'Python', [33, 44, 55], True, (5, 2, 3))"
      ]
     },
     "execution_count": 13,
     "metadata": {},
     "output_type": "execute_result"
    }
   ],
   "source": [
    "tup = (12,3.456,'Python',[33,44,55],True,(5,2,3))\n",
    "tup"
   ]
  },
  {
   "cell_type": "code",
   "execution_count": 14,
   "id": "25e0c2e6",
   "metadata": {},
   "outputs": [
    {
     "data": {
      "text/plain": [
       "6"
      ]
     },
     "execution_count": 14,
     "metadata": {},
     "output_type": "execute_result"
    }
   ],
   "source": [
    "len(tup)"
   ]
  },
  {
   "cell_type": "markdown",
   "id": "a8165cd4",
   "metadata": {},
   "source": [
    "### c. String"
   ]
  },
  {
   "cell_type": "code",
   "execution_count": 18,
   "id": "f55b509f",
   "metadata": {},
   "outputs": [
    {
     "data": {
      "text/plain": [
       "'Python3'"
      ]
     },
     "execution_count": 18,
     "metadata": {},
     "output_type": "execute_result"
    }
   ],
   "source": [
    "mystr = \"Python3\"\n",
    "mystr"
   ]
  },
  {
   "cell_type": "code",
   "execution_count": 19,
   "id": "b0be9c4a",
   "metadata": {},
   "outputs": [
    {
     "data": {
      "text/plain": [
       "str"
      ]
     },
     "execution_count": 19,
     "metadata": {},
     "output_type": "execute_result"
    }
   ],
   "source": [
    "type(mystr)"
   ]
  },
  {
   "cell_type": "code",
   "execution_count": 125,
   "id": "a264ffee",
   "metadata": {},
   "outputs": [
    {
     "data": {
      "text/plain": [
       "['__add__',\n",
       " '__class__',\n",
       " '__contains__',\n",
       " '__delattr__',\n",
       " '__delitem__',\n",
       " '__dir__',\n",
       " '__doc__',\n",
       " '__eq__',\n",
       " '__format__',\n",
       " '__ge__',\n",
       " '__getattribute__',\n",
       " '__getitem__',\n",
       " '__gt__',\n",
       " '__hash__',\n",
       " '__iadd__',\n",
       " '__imul__',\n",
       " '__init__',\n",
       " '__init_subclass__',\n",
       " '__iter__',\n",
       " '__le__',\n",
       " '__len__',\n",
       " '__lt__',\n",
       " '__mul__',\n",
       " '__ne__',\n",
       " '__new__',\n",
       " '__reduce__',\n",
       " '__reduce_ex__',\n",
       " '__repr__',\n",
       " '__reversed__',\n",
       " '__rmul__',\n",
       " '__setattr__',\n",
       " '__setitem__',\n",
       " '__sizeof__',\n",
       " '__str__',\n",
       " '__subclasshook__',\n",
       " 'append',\n",
       " 'clear',\n",
       " 'copy',\n",
       " 'count',\n",
       " 'extend',\n",
       " 'index',\n",
       " 'insert',\n",
       " 'pop',\n",
       " 'remove',\n",
       " 'reverse',\n",
       " 'sort']"
      ]
     },
     "execution_count": 125,
     "metadata": {},
     "output_type": "execute_result"
    }
   ],
   "source": [
    "dir(list)"
   ]
  },
  {
   "cell_type": "code",
   "execution_count": null,
   "id": "261c85f1",
   "metadata": {},
   "outputs": [],
   "source": [
    "lst.sort()"
   ]
  },
  {
   "cell_type": "markdown",
   "id": "5e995999",
   "metadata": {},
   "source": [
    "### Docstring"
   ]
  },
  {
   "cell_type": "code",
   "execution_count": 21,
   "id": "151af32d",
   "metadata": {},
   "outputs": [
    {
     "name": "stdout",
     "output_type": "stream",
     "text": [
      "This a \n",
      "                string\n"
     ]
    }
   ],
   "source": [
    "doc_string = '''This a \n",
    "                string'''\n",
    "print(doc_string)"
   ]
  },
  {
   "cell_type": "code",
   "execution_count": 23,
   "id": "42686716",
   "metadata": {},
   "outputs": [],
   "source": [
    "import math"
   ]
  },
  {
   "cell_type": "code",
   "execution_count": 24,
   "id": "996d6c6e",
   "metadata": {},
   "outputs": [
    {
     "data": {
      "text/plain": [
       "8"
      ]
     },
     "execution_count": 24,
     "metadata": {},
     "output_type": "execute_result"
    }
   ],
   "source": [
    "math.ceil(7.89)"
   ]
  },
  {
   "cell_type": "code",
   "execution_count": 25,
   "id": "77ecffb2",
   "metadata": {},
   "outputs": [
    {
     "name": "stdout",
     "output_type": "stream",
     "text": [
      "Help on built-in function ceil in module math:\n",
      "\n",
      "ceil(x, /)\n",
      "    Return the ceiling of x as an Integral.\n",
      "    \n",
      "    This is the smallest integer >= x.\n",
      "\n"
     ]
    }
   ],
   "source": [
    "help(math.ceil)"
   ]
  },
  {
   "cell_type": "code",
   "execution_count": 28,
   "id": "f608f1a6",
   "metadata": {},
   "outputs": [],
   "source": [
    "def myfunc(x):\n",
    "    '''\n",
    "    Parameters: Integer x \n",
    "                No strings allowed\n",
    "    Returns : 100 times x \n",
    "    \n",
    "    '''\n",
    "    return x*100"
   ]
  },
  {
   "cell_type": "code",
   "execution_count": 27,
   "id": "89dd11e8",
   "metadata": {},
   "outputs": [
    {
     "data": {
      "text/plain": [
       "900"
      ]
     },
     "execution_count": 27,
     "metadata": {},
     "output_type": "execute_result"
    }
   ],
   "source": [
    "myfunc(9)"
   ]
  },
  {
   "cell_type": "code",
   "execution_count": 29,
   "id": "adee880e",
   "metadata": {},
   "outputs": [
    {
     "name": "stdout",
     "output_type": "stream",
     "text": [
      "Help on function myfunc in module __main__:\n",
      "\n",
      "myfunc(x)\n",
      "    Parameters: Integer x \n",
      "                No strings allowed\n",
      "    Returns : 100 times x\n",
      "\n"
     ]
    }
   ],
   "source": [
    "help(myfunc)"
   ]
  },
  {
   "cell_type": "markdown",
   "id": "ce901bd6",
   "metadata": {},
   "source": [
    "## Iterable"
   ]
  },
  {
   "cell_type": "code",
   "execution_count": 32,
   "id": "30e7b548",
   "metadata": {},
   "outputs": [
    {
     "data": {
      "text/plain": [
       "[12, 3.456, 'Python', [33, 44, 55], True, (5, 2, 3)]"
      ]
     },
     "execution_count": 32,
     "metadata": {},
     "output_type": "execute_result"
    }
   ],
   "source": [
    "lst"
   ]
  },
  {
   "cell_type": "code",
   "execution_count": 31,
   "id": "59d91c2d",
   "metadata": {},
   "outputs": [
    {
     "name": "stdout",
     "output_type": "stream",
     "text": [
      "12\n",
      "3.456\n",
      "Python\n",
      "[33, 44, 55]\n",
      "True\n",
      "(5, 2, 3)\n"
     ]
    }
   ],
   "source": [
    "for elem in lst:\n",
    "    print(elem)"
   ]
  },
  {
   "cell_type": "code",
   "execution_count": 37,
   "id": "a14919cd",
   "metadata": {},
   "outputs": [
    {
     "name": "stdout",
     "output_type": "stream",
     "text": [
      "20\n",
      "hi\n",
      "90\n",
      "hi\n",
      "78\n",
      "hi\n",
      "56\n",
      "hi\n"
     ]
    }
   ],
   "source": [
    "tup = (20,90,78,56)\n",
    "\n",
    "for x in tup:\n",
    "    print(x)\n",
    "    print('hi')"
   ]
  },
  {
   "cell_type": "code",
   "execution_count": 39,
   "id": "fd581ad4",
   "metadata": {},
   "outputs": [
    {
     "name": "stdout",
     "output_type": "stream",
     "text": [
      "G\n",
      "o\n",
      "o\n",
      "d\n",
      " \n",
      "M\n",
      "o\n",
      "r\n",
      "n\n",
      "i\n",
      "n\n",
      "g\n"
     ]
    }
   ],
   "source": [
    "mystr = 'Good Morning'\n",
    "for c in mystr:\n",
    "    print(c)"
   ]
  },
  {
   "cell_type": "markdown",
   "id": "59ac5719",
   "metadata": {},
   "source": [
    "### Positional Indexing"
   ]
  },
  {
   "cell_type": "code",
   "execution_count": 41,
   "id": "9b690f05",
   "metadata": {},
   "outputs": [],
   "source": [
    "lst = [7,3,2,9,0,1]"
   ]
  },
  {
   "cell_type": "code",
   "execution_count": 42,
   "id": "46563795",
   "metadata": {},
   "outputs": [
    {
     "data": {
      "text/plain": [
       "9"
      ]
     },
     "execution_count": 42,
     "metadata": {},
     "output_type": "execute_result"
    }
   ],
   "source": [
    "lst[3]"
   ]
  },
  {
   "cell_type": "code",
   "execution_count": 43,
   "id": "edbde6de",
   "metadata": {},
   "outputs": [
    {
     "data": {
      "text/plain": [
       "[3, 2, 9]"
      ]
     },
     "execution_count": 43,
     "metadata": {},
     "output_type": "execute_result"
    }
   ],
   "source": [
    "lst[1:4]"
   ]
  },
  {
   "cell_type": "code",
   "execution_count": 44,
   "id": "ce81210c",
   "metadata": {},
   "outputs": [
    {
     "data": {
      "text/plain": [
       "[7, 3, 2, 9]"
      ]
     },
     "execution_count": 44,
     "metadata": {},
     "output_type": "execute_result"
    }
   ],
   "source": [
    "lst[:4]"
   ]
  },
  {
   "cell_type": "code",
   "execution_count": 45,
   "id": "d4951346",
   "metadata": {},
   "outputs": [
    {
     "data": {
      "text/plain": [
       "[9, 0, 1]"
      ]
     },
     "execution_count": 45,
     "metadata": {},
     "output_type": "execute_result"
    }
   ],
   "source": [
    "lst[3:]"
   ]
  },
  {
   "cell_type": "code",
   "execution_count": 46,
   "id": "1b1685b6",
   "metadata": {},
   "outputs": [
    {
     "data": {
      "text/plain": [
       "[7, 3, 2, 9, 0, 1]"
      ]
     },
     "execution_count": 46,
     "metadata": {},
     "output_type": "execute_result"
    }
   ],
   "source": [
    "lst[:]"
   ]
  },
  {
   "cell_type": "code",
   "execution_count": 47,
   "id": "6968b023",
   "metadata": {},
   "outputs": [
    {
     "data": {
      "text/plain": [
       "[7, 3, 2, 9, 0, 1]"
      ]
     },
     "execution_count": 47,
     "metadata": {},
     "output_type": "execute_result"
    }
   ],
   "source": [
    "lst"
   ]
  },
  {
   "cell_type": "code",
   "execution_count": 48,
   "id": "0cf50570",
   "metadata": {},
   "outputs": [],
   "source": [
    "mylst = [7,3,2,9,0,1,11,67,23,45,65,90,66]"
   ]
  },
  {
   "cell_type": "code",
   "execution_count": 58,
   "id": "27d60f2f",
   "metadata": {},
   "outputs": [
    {
     "data": {
      "text/plain": [
       "[(0, 7),\n",
       " (1, 3),\n",
       " (2, 2),\n",
       " (3, 9),\n",
       " (4, 0),\n",
       " (5, 1),\n",
       " (6, 11),\n",
       " (7, 67),\n",
       " (8, 23),\n",
       " (9, 45),\n",
       " (10, 65),\n",
       " (11, 90),\n",
       " (12, 66)]"
      ]
     },
     "execution_count": 58,
     "metadata": {},
     "output_type": "execute_result"
    }
   ],
   "source": [
    "list( enumerate(mylst) )"
   ]
  },
  {
   "cell_type": "code",
   "execution_count": 50,
   "id": "cc7507ff",
   "metadata": {},
   "outputs": [
    {
     "data": {
      "text/plain": [
       "[9, 0, 1, 11, 67, 23, 45]"
      ]
     },
     "execution_count": 50,
     "metadata": {},
     "output_type": "execute_result"
    }
   ],
   "source": [
    "mylst[3:10]"
   ]
  },
  {
   "cell_type": "code",
   "execution_count": 51,
   "id": "682c42ce",
   "metadata": {},
   "outputs": [
    {
     "data": {
      "text/plain": [
       "[9, 1, 67, 45]"
      ]
     },
     "execution_count": 51,
     "metadata": {},
     "output_type": "execute_result"
    }
   ],
   "source": [
    "mylst[3:10:2]"
   ]
  },
  {
   "cell_type": "code",
   "execution_count": 52,
   "id": "94d7b004",
   "metadata": {},
   "outputs": [
    {
     "data": {
      "text/plain": [
       "[9, 11, 45]"
      ]
     },
     "execution_count": 52,
     "metadata": {},
     "output_type": "execute_result"
    }
   ],
   "source": [
    "mylst[3:10:3]"
   ]
  },
  {
   "cell_type": "code",
   "execution_count": 54,
   "id": "d3a8d906",
   "metadata": {},
   "outputs": [
    {
     "data": {
      "text/plain": [
       "[7, 2, 0, 11, 23, 65, 66]"
      ]
     },
     "execution_count": 54,
     "metadata": {},
     "output_type": "execute_result"
    }
   ],
   "source": [
    "mylst[::2]"
   ]
  },
  {
   "cell_type": "code",
   "execution_count": 55,
   "id": "87f906fa",
   "metadata": {},
   "outputs": [
    {
     "data": {
      "text/plain": [
       "[66, 90, 65, 45, 23, 67, 11, 1, 0, 9, 2, 3, 7]"
      ]
     },
     "execution_count": 55,
     "metadata": {},
     "output_type": "execute_result"
    }
   ],
   "source": [
    "mylst[::-1]"
   ]
  },
  {
   "cell_type": "code",
   "execution_count": 59,
   "id": "b4b69027",
   "metadata": {},
   "outputs": [
    {
     "data": {
      "text/plain": [
       "[65, 45, 23, 67, 11, 1, 0]"
      ]
     },
     "execution_count": 59,
     "metadata": {},
     "output_type": "execute_result"
    }
   ],
   "source": [
    "mylst[10:3:-1]"
   ]
  },
  {
   "cell_type": "code",
   "execution_count": 60,
   "id": "1a56773f",
   "metadata": {},
   "outputs": [],
   "source": [
    "mystr = 'Python3.0'"
   ]
  },
  {
   "cell_type": "code",
   "execution_count": 61,
   "id": "54ffe9e9",
   "metadata": {},
   "outputs": [
    {
     "data": {
      "text/plain": [
       "'0.3nohtyP'"
      ]
     },
     "execution_count": 61,
     "metadata": {},
     "output_type": "execute_result"
    }
   ],
   "source": [
    "mystr[::-1]"
   ]
  },
  {
   "cell_type": "markdown",
   "id": "21bd4745",
   "metadata": {},
   "source": [
    "### Methods of List datatype"
   ]
  },
  {
   "cell_type": "code",
   "execution_count": 63,
   "id": "55c832b6",
   "metadata": {},
   "outputs": [],
   "source": [
    "lst = [33,12,45,67,89]"
   ]
  },
  {
   "cell_type": "code",
   "execution_count": 64,
   "id": "4964633b",
   "metadata": {},
   "outputs": [],
   "source": [
    "lst.append(100)"
   ]
  },
  {
   "cell_type": "code",
   "execution_count": 65,
   "id": "0b87c1c3",
   "metadata": {},
   "outputs": [
    {
     "data": {
      "text/plain": [
       "[33, 12, 45, 67, 89, 100]"
      ]
     },
     "execution_count": 65,
     "metadata": {},
     "output_type": "execute_result"
    }
   ],
   "source": [
    "lst"
   ]
  },
  {
   "cell_type": "code",
   "execution_count": 66,
   "id": "7a0aea57",
   "metadata": {},
   "outputs": [],
   "source": [
    "lst.append(23)"
   ]
  },
  {
   "cell_type": "code",
   "execution_count": 67,
   "id": "69abd0d5",
   "metadata": {},
   "outputs": [
    {
     "data": {
      "text/plain": [
       "[33, 12, 45, 67, 89, 100, 23]"
      ]
     },
     "execution_count": 67,
     "metadata": {},
     "output_type": "execute_result"
    }
   ],
   "source": [
    "lst"
   ]
  },
  {
   "cell_type": "code",
   "execution_count": 68,
   "id": "74b90746",
   "metadata": {},
   "outputs": [],
   "source": [
    "lst.insert(3,111)"
   ]
  },
  {
   "cell_type": "code",
   "execution_count": 69,
   "id": "3ba1ce66",
   "metadata": {},
   "outputs": [
    {
     "data": {
      "text/plain": [
       "[33, 12, 45, 111, 67, 89, 100, 23]"
      ]
     },
     "execution_count": 69,
     "metadata": {},
     "output_type": "execute_result"
    }
   ],
   "source": [
    "lst"
   ]
  },
  {
   "cell_type": "code",
   "execution_count": 70,
   "id": "6cbf0c56",
   "metadata": {},
   "outputs": [],
   "source": [
    "lst[2] = 222"
   ]
  },
  {
   "cell_type": "code",
   "execution_count": 71,
   "id": "77b1b259",
   "metadata": {},
   "outputs": [
    {
     "data": {
      "text/plain": [
       "[33, 12, 222, 111, 67, 89, 100, 23]"
      ]
     },
     "execution_count": 71,
     "metadata": {},
     "output_type": "execute_result"
    }
   ],
   "source": [
    "lst"
   ]
  },
  {
   "cell_type": "code",
   "execution_count": 72,
   "id": "a6a158d0",
   "metadata": {},
   "outputs": [],
   "source": [
    "l1 = [1,2,[44,55,66],0,8,(100,200,300), 9]"
   ]
  },
  {
   "cell_type": "code",
   "execution_count": 73,
   "id": "045c552f",
   "metadata": {},
   "outputs": [
    {
     "data": {
      "text/plain": [
       "[1, 2, [44, 55, 66], 0, 8, (100, 200, 300), 9]"
      ]
     },
     "execution_count": 73,
     "metadata": {},
     "output_type": "execute_result"
    }
   ],
   "source": [
    "l1"
   ]
  },
  {
   "cell_type": "code",
   "execution_count": 77,
   "id": "0e693445",
   "metadata": {},
   "outputs": [],
   "source": [
    "l1[2][1] = 333"
   ]
  },
  {
   "cell_type": "code",
   "execution_count": 78,
   "id": "c2d735fd",
   "metadata": {},
   "outputs": [
    {
     "data": {
      "text/plain": [
       "[1, 2, [44, 333, 66], 0, 8, (100, 200, 300), 9]"
      ]
     },
     "execution_count": 78,
     "metadata": {},
     "output_type": "execute_result"
    }
   ],
   "source": [
    "l1"
   ]
  },
  {
   "cell_type": "code",
   "execution_count": 79,
   "id": "febc69dd",
   "metadata": {},
   "outputs": [],
   "source": [
    "mylst = [7,3,2,9,0,1,11,67,23,45,65,90,66]"
   ]
  },
  {
   "cell_type": "code",
   "execution_count": 80,
   "id": "3d9be102",
   "metadata": {},
   "outputs": [
    {
     "data": {
      "text/plain": [
       "66"
      ]
     },
     "execution_count": 80,
     "metadata": {},
     "output_type": "execute_result"
    }
   ],
   "source": [
    "mylst.pop()"
   ]
  },
  {
   "cell_type": "code",
   "execution_count": 81,
   "id": "2054f6ee",
   "metadata": {},
   "outputs": [
    {
     "data": {
      "text/plain": [
       "90"
      ]
     },
     "execution_count": 81,
     "metadata": {},
     "output_type": "execute_result"
    }
   ],
   "source": [
    "mylst.pop()"
   ]
  },
  {
   "cell_type": "code",
   "execution_count": 82,
   "id": "df79c52d",
   "metadata": {},
   "outputs": [
    {
     "data": {
      "text/plain": [
       "[7, 3, 2, 9, 0, 1, 11, 67, 23, 45, 65]"
      ]
     },
     "execution_count": 82,
     "metadata": {},
     "output_type": "execute_result"
    }
   ],
   "source": [
    "mylst"
   ]
  },
  {
   "cell_type": "code",
   "execution_count": 83,
   "id": "044f81d2",
   "metadata": {},
   "outputs": [
    {
     "data": {
      "text/plain": [
       "9"
      ]
     },
     "execution_count": 83,
     "metadata": {},
     "output_type": "execute_result"
    }
   ],
   "source": [
    "mylst.pop(3)"
   ]
  },
  {
   "cell_type": "code",
   "execution_count": 84,
   "id": "6a1a9835",
   "metadata": {},
   "outputs": [
    {
     "data": {
      "text/plain": [
       "[7, 3, 2, 0, 1, 11, 67, 23, 45, 65]"
      ]
     },
     "execution_count": 84,
     "metadata": {},
     "output_type": "execute_result"
    }
   ],
   "source": [
    "mylst"
   ]
  },
  {
   "cell_type": "markdown",
   "id": "a08e8248",
   "metadata": {},
   "source": [
    "## Tuple"
   ]
  },
  {
   "cell_type": "code",
   "execution_count": 86,
   "id": "1530a2a9",
   "metadata": {},
   "outputs": [],
   "source": [
    "mytup = (1,22,43,56)"
   ]
  },
  {
   "cell_type": "code",
   "execution_count": 89,
   "id": "0d3b144b",
   "metadata": {},
   "outputs": [
    {
     "data": {
      "text/plain": [
       "(10, 20, [1, 2, 3], 88)"
      ]
     },
     "execution_count": 89,
     "metadata": {},
     "output_type": "execute_result"
    }
   ],
   "source": [
    "mytup = (10,20,[1,2,3],88)\n",
    "mytup"
   ]
  },
  {
   "cell_type": "code",
   "execution_count": 90,
   "id": "683cf592",
   "metadata": {},
   "outputs": [],
   "source": [
    "mytup[2][2] = 100"
   ]
  },
  {
   "cell_type": "code",
   "execution_count": 91,
   "id": "dfcc06a4",
   "metadata": {},
   "outputs": [
    {
     "data": {
      "text/plain": [
       "(10, 20, [1, 2, 100], 88)"
      ]
     },
     "execution_count": 91,
     "metadata": {},
     "output_type": "execute_result"
    }
   ],
   "source": [
    "mytup"
   ]
  },
  {
   "cell_type": "markdown",
   "id": "2b6b591b",
   "metadata": {},
   "source": [
    "### List Comprehension"
   ]
  },
  {
   "cell_type": "code",
   "execution_count": 96,
   "id": "59ab7ec2",
   "metadata": {},
   "outputs": [],
   "source": [
    "ls = [2,7,8]"
   ]
  },
  {
   "cell_type": "code",
   "execution_count": 97,
   "id": "05026a5c",
   "metadata": {},
   "outputs": [],
   "source": [
    "new_list = []"
   ]
  },
  {
   "cell_type": "code",
   "execution_count": 98,
   "id": "baf903d4",
   "metadata": {},
   "outputs": [
    {
     "data": {
      "text/plain": [
       "[4, 49, 64]"
      ]
     },
     "execution_count": 98,
     "metadata": {},
     "output_type": "execute_result"
    }
   ],
   "source": [
    "for elem in ls:\n",
    "    new_list.append(elem*elem)\n",
    "new_list\n",
    "    "
   ]
  },
  {
   "cell_type": "code",
   "execution_count": 99,
   "id": "35a86693",
   "metadata": {},
   "outputs": [
    {
     "data": {
      "text/plain": [
       "[4, 49, 64]"
      ]
     },
     "execution_count": 99,
     "metadata": {},
     "output_type": "execute_result"
    }
   ],
   "source": [
    "sqr_lst = [elem*elem   for elem in ls]\n",
    "sqr_lst"
   ]
  },
  {
   "cell_type": "code",
   "execution_count": 103,
   "id": "d2083448",
   "metadata": {},
   "outputs": [
    {
     "name": "stdout",
     "output_type": "stream",
     "text": [
      "1\n",
      "3\n",
      "5\n",
      "7\n",
      "9\n",
      "11\n",
      "13\n"
     ]
    }
   ],
   "source": [
    "for elem in range(1,15, 2):\n",
    "    print(elem)"
   ]
  },
  {
   "cell_type": "code",
   "execution_count": 105,
   "id": "5cc5c4fb",
   "metadata": {},
   "outputs": [
    {
     "data": {
      "text/plain": [
       "[100, 200, 300, 400, 500]"
      ]
     },
     "execution_count": 105,
     "metadata": {},
     "output_type": "execute_result"
    }
   ],
   "source": [
    "mlst = [elem*100 for elem in range(1,6)]\n",
    "mlst"
   ]
  },
  {
   "cell_type": "code",
   "execution_count": 106,
   "id": "6ce36805",
   "metadata": {},
   "outputs": [
    {
     "data": {
      "text/plain": [
       "[100, 200, 300, 400, 500]"
      ]
     },
     "execution_count": 106,
     "metadata": {},
     "output_type": "execute_result"
    }
   ],
   "source": [
    "mlst = [elem for elem in range(100,600,100)]\n",
    "mlst"
   ]
  },
  {
   "cell_type": "code",
   "execution_count": 107,
   "id": "d0894da0",
   "metadata": {},
   "outputs": [],
   "source": [
    "l1 = ['one','two','three']"
   ]
  },
  {
   "cell_type": "code",
   "execution_count": 108,
   "id": "313e8c6f",
   "metadata": {},
   "outputs": [],
   "source": [
    "l2 = l1"
   ]
  },
  {
   "cell_type": "code",
   "execution_count": 109,
   "id": "7b3fd601",
   "metadata": {},
   "outputs": [
    {
     "data": {
      "text/plain": [
       "['one', 'two', 'three']"
      ]
     },
     "execution_count": 109,
     "metadata": {},
     "output_type": "execute_result"
    }
   ],
   "source": [
    "l1"
   ]
  },
  {
   "cell_type": "code",
   "execution_count": 110,
   "id": "86ab7ac8",
   "metadata": {},
   "outputs": [
    {
     "data": {
      "text/plain": [
       "['one', 'two', 'three']"
      ]
     },
     "execution_count": 110,
     "metadata": {},
     "output_type": "execute_result"
    }
   ],
   "source": [
    "l2"
   ]
  },
  {
   "cell_type": "code",
   "execution_count": 111,
   "id": "e230c591",
   "metadata": {},
   "outputs": [],
   "source": [
    "l1[1] = 'zwei'"
   ]
  },
  {
   "cell_type": "code",
   "execution_count": 112,
   "id": "8c89be1b",
   "metadata": {},
   "outputs": [
    {
     "data": {
      "text/plain": [
       "['one', 'zwei', 'three']"
      ]
     },
     "execution_count": 112,
     "metadata": {},
     "output_type": "execute_result"
    }
   ],
   "source": [
    "l1"
   ]
  },
  {
   "cell_type": "code",
   "execution_count": 113,
   "id": "c33dfcfb",
   "metadata": {},
   "outputs": [
    {
     "data": {
      "text/plain": [
       "['one', 'zwei', 'three']"
      ]
     },
     "execution_count": 113,
     "metadata": {},
     "output_type": "execute_result"
    }
   ],
   "source": [
    "l2"
   ]
  },
  {
   "cell_type": "code",
   "execution_count": 119,
   "id": "dd044b02",
   "metadata": {},
   "outputs": [],
   "source": [
    "l3  = l1.copy()"
   ]
  },
  {
   "cell_type": "code",
   "execution_count": 120,
   "id": "6f085bf4",
   "metadata": {},
   "outputs": [
    {
     "data": {
      "text/plain": [
       "['one', 'zwei', 'three']"
      ]
     },
     "execution_count": 120,
     "metadata": {},
     "output_type": "execute_result"
    }
   ],
   "source": [
    "l1"
   ]
  },
  {
   "cell_type": "code",
   "execution_count": 121,
   "id": "4456bb39",
   "metadata": {},
   "outputs": [
    {
     "data": {
      "text/plain": [
       "['one', 'zwei', 'three']"
      ]
     },
     "execution_count": 121,
     "metadata": {},
     "output_type": "execute_result"
    }
   ],
   "source": [
    "l3"
   ]
  },
  {
   "cell_type": "code",
   "execution_count": 122,
   "id": "64fd0904",
   "metadata": {},
   "outputs": [],
   "source": [
    "l1[0]='eins'"
   ]
  },
  {
   "cell_type": "code",
   "execution_count": 123,
   "id": "8f96a358",
   "metadata": {},
   "outputs": [
    {
     "data": {
      "text/plain": [
       "['eins', 'zwei', 'three']"
      ]
     },
     "execution_count": 123,
     "metadata": {},
     "output_type": "execute_result"
    }
   ],
   "source": [
    "l1"
   ]
  },
  {
   "cell_type": "code",
   "execution_count": 124,
   "id": "bb35ce57",
   "metadata": {},
   "outputs": [
    {
     "data": {
      "text/plain": [
       "['one', 'zwei', 'three']"
      ]
     },
     "execution_count": 124,
     "metadata": {},
     "output_type": "execute_result"
    }
   ],
   "source": [
    "l3"
   ]
  },
  {
   "cell_type": "code",
   "execution_count": 114,
   "id": "f431ea6f",
   "metadata": {},
   "outputs": [],
   "source": [
    "x = 10"
   ]
  },
  {
   "cell_type": "code",
   "execution_count": 115,
   "id": "997a0191",
   "metadata": {},
   "outputs": [],
   "source": [
    "y = x"
   ]
  },
  {
   "cell_type": "code",
   "execution_count": 116,
   "id": "1d71edb2",
   "metadata": {},
   "outputs": [
    {
     "data": {
      "text/plain": [
       "10"
      ]
     },
     "execution_count": 116,
     "metadata": {},
     "output_type": "execute_result"
    }
   ],
   "source": [
    "y"
   ]
  },
  {
   "cell_type": "code",
   "execution_count": 117,
   "id": "ee909078",
   "metadata": {},
   "outputs": [],
   "source": [
    "x = 11"
   ]
  },
  {
   "cell_type": "code",
   "execution_count": 118,
   "id": "3a244647",
   "metadata": {},
   "outputs": [
    {
     "data": {
      "text/plain": [
       "10"
      ]
     },
     "execution_count": 118,
     "metadata": {},
     "output_type": "execute_result"
    }
   ],
   "source": [
    "y"
   ]
  },
  {
   "cell_type": "markdown",
   "id": "672c73a0",
   "metadata": {},
   "source": [
    "# The End !!!"
   ]
  }
 ],
 "metadata": {
  "kernelspec": {
   "display_name": "Python 3 (ipykernel)",
   "language": "python",
   "name": "python3"
  },
  "language_info": {
   "codemirror_mode": {
    "name": "ipython",
    "version": 3
   },
   "file_extension": ".py",
   "mimetype": "text/x-python",
   "name": "python",
   "nbconvert_exporter": "python",
   "pygments_lexer": "ipython3",
   "version": "3.9.12"
  }
 },
 "nbformat": 4,
 "nbformat_minor": 5
}
