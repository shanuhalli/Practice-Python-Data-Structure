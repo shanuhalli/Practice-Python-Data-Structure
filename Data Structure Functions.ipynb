{
 "cells": [
  {
   "cell_type": "markdown",
   "id": "e2addcd0",
   "metadata": {},
   "source": [
    "## One example for all Data Structure related Functions.\n",
    "# ---------------------------------------------------------------------------------------------------------------"
   ]
  },
  {
   "cell_type": "markdown",
   "id": "803650c6",
   "metadata": {},
   "source": [
    "## 1. List Function"
   ]
  },
  {
   "cell_type": "code",
   "execution_count": 1,
   "id": "8847087f",
   "metadata": {},
   "outputs": [],
   "source": [
    "fruits = ['Apple', 'Orange', 'Mango', 'Grape']"
   ]
  },
  {
   "cell_type": "code",
   "execution_count": 2,
   "id": "43253673",
   "metadata": {},
   "outputs": [
    {
     "data": {
      "text/plain": [
       "list"
      ]
     },
     "execution_count": 2,
     "metadata": {},
     "output_type": "execute_result"
    }
   ],
   "source": [
    "type(fruits)"
   ]
  },
  {
   "cell_type": "code",
   "execution_count": 3,
   "id": "04b15a13",
   "metadata": {},
   "outputs": [],
   "source": [
    "# list.append\n",
    "# list.clear\n",
    "# list.copy\n",
    "# list.count\n",
    "# list.extend\n",
    "# list.index\n",
    "# list.insert\n",
    "# list.pop\n",
    "# list.remove\n",
    "# list.reverse\n",
    "# list.sort"
   ]
  },
  {
   "cell_type": "markdown",
   "id": "9e3f040c",
   "metadata": {},
   "source": [
    "### 1. append"
   ]
  },
  {
   "cell_type": "code",
   "execution_count": 4,
   "id": "ebc5c632",
   "metadata": {},
   "outputs": [],
   "source": [
    "city = [\"Mumbai\", \"Banglore\", \"Hyderabad\"]"
   ]
  },
  {
   "cell_type": "code",
   "execution_count": 5,
   "id": "4f78340a",
   "metadata": {},
   "outputs": [
    {
     "name": "stdout",
     "output_type": "stream",
     "text": [
      "['Mumbai', 'Banglore', 'Hyderabad', 'Chennai']\n"
     ]
    }
   ],
   "source": [
    "city.append(\"Chennai\")\n",
    "print (city)"
   ]
  },
  {
   "cell_type": "markdown",
   "id": "04fe985a",
   "metadata": {},
   "source": [
    "### 2. clear"
   ]
  },
  {
   "cell_type": "code",
   "execution_count": 6,
   "id": "cd44cfc0",
   "metadata": {},
   "outputs": [],
   "source": [
    "city = [\"Mumbai\", \"Banglore\", \"Hyderabad\"]"
   ]
  },
  {
   "cell_type": "code",
   "execution_count": 7,
   "id": "bbd9daa1",
   "metadata": {},
   "outputs": [
    {
     "name": "stdout",
     "output_type": "stream",
     "text": [
      "[]\n"
     ]
    }
   ],
   "source": [
    "city.clear()\n",
    "print(city)"
   ]
  },
  {
   "cell_type": "markdown",
   "id": "de104aa8",
   "metadata": {},
   "source": [
    "### 3. copy"
   ]
  },
  {
   "cell_type": "code",
   "execution_count": 8,
   "id": "eddbf32e",
   "metadata": {},
   "outputs": [],
   "source": [
    "flower = [\"Rose\", \"Lotus\", \"Sunflower\", \"Lavender\"]"
   ]
  },
  {
   "cell_type": "code",
   "execution_count": 9,
   "id": "b2e340b5",
   "metadata": {},
   "outputs": [
    {
     "name": "stdout",
     "output_type": "stream",
     "text": [
      "['Rose', 'Lotus', 'Sunflower', 'Lavender']\n",
      "New copy ['Rose', 'Lotus', 'Sunflower', 'Lavender']\n"
     ]
    }
   ],
   "source": [
    "print (flower)\n",
    "flower.copy()\n",
    "print(\"New copy\", flower)"
   ]
  },
  {
   "cell_type": "markdown",
   "id": "07ccf5e1",
   "metadata": {},
   "source": [
    "### 4. count"
   ]
  },
  {
   "cell_type": "code",
   "execution_count": 10,
   "id": "71dc86c2",
   "metadata": {},
   "outputs": [],
   "source": [
    "flower = [\"Rose\", \"Lotus\", \"Sunflower\", \"Lavender\", \"Rose\"]"
   ]
  },
  {
   "cell_type": "code",
   "execution_count": 11,
   "id": "54ed069a",
   "metadata": {},
   "outputs": [
    {
     "data": {
      "text/plain": [
       "2"
      ]
     },
     "execution_count": 11,
     "metadata": {},
     "output_type": "execute_result"
    }
   ],
   "source": [
    "flower.count(\"Rose\")"
   ]
  },
  {
   "cell_type": "markdown",
   "id": "9e2d01c3",
   "metadata": {},
   "source": [
    "### 5. extend"
   ]
  },
  {
   "cell_type": "code",
   "execution_count": 12,
   "id": "1d1c2508",
   "metadata": {},
   "outputs": [],
   "source": [
    "num1 = [10, 20, 30, 40]\n",
    "num2 = [50, 60]"
   ]
  },
  {
   "cell_type": "code",
   "execution_count": 13,
   "id": "74261c21",
   "metadata": {},
   "outputs": [
    {
     "name": "stdout",
     "output_type": "stream",
     "text": [
      "New Items are [10, 20, 30, 40, 50, 60]\n"
     ]
    }
   ],
   "source": [
    "num1.extend(num2)\n",
    "print(\"New Items are\", num1)"
   ]
  },
  {
   "cell_type": "markdown",
   "id": "846d571c",
   "metadata": {},
   "source": [
    "### 6. index"
   ]
  },
  {
   "cell_type": "code",
   "execution_count": 14,
   "id": "ebeace01",
   "metadata": {},
   "outputs": [],
   "source": [
    "fruits = ['Apple', 'Orange', 'Kiwi', 'Grape']"
   ]
  },
  {
   "cell_type": "code",
   "execution_count": 15,
   "id": "8424471e",
   "metadata": {},
   "outputs": [
    {
     "data": {
      "text/plain": [
       "2"
      ]
     },
     "execution_count": 15,
     "metadata": {},
     "output_type": "execute_result"
    }
   ],
   "source": [
    "fruits.index('Kiwi')"
   ]
  },
  {
   "cell_type": "markdown",
   "id": "97c48982",
   "metadata": {},
   "source": [
    "### 7. insert"
   ]
  },
  {
   "cell_type": "code",
   "execution_count": 16,
   "id": "432781e8",
   "metadata": {},
   "outputs": [],
   "source": [
    "num = [10, 20, 30, 40]"
   ]
  },
  {
   "cell_type": "code",
   "execution_count": 17,
   "id": "c2905854",
   "metadata": {},
   "outputs": [
    {
     "name": "stdout",
     "output_type": "stream",
     "text": [
      "[10, 20, 60, 30, 40]\n"
     ]
    }
   ],
   "source": [
    "num.insert(2, 60)\n",
    "print(num)"
   ]
  },
  {
   "cell_type": "markdown",
   "id": "378e3590",
   "metadata": {},
   "source": [
    "### 8. pop"
   ]
  },
  {
   "cell_type": "code",
   "execution_count": 18,
   "id": "3a41cdea",
   "metadata": {},
   "outputs": [],
   "source": [
    "friend = [\"sagar\", \"Amit\", \"Pawan\", \"Rajesh\"]"
   ]
  },
  {
   "cell_type": "code",
   "execution_count": 19,
   "id": "e95aa3d2",
   "metadata": {},
   "outputs": [
    {
     "name": "stdout",
     "output_type": "stream",
     "text": [
      "['sagar', 'Pawan', 'Rajesh']\n"
     ]
    }
   ],
   "source": [
    "friend.pop(1)\n",
    "print(friend)"
   ]
  },
  {
   "cell_type": "markdown",
   "id": "ba07c85c",
   "metadata": {},
   "source": [
    "### 9. remove"
   ]
  },
  {
   "cell_type": "code",
   "execution_count": 20,
   "id": "6e5d6c4f",
   "metadata": {},
   "outputs": [],
   "source": [
    "friend = [\"Sagar\", \"Amit\", \"Pawan\", \"Rajesh\", \"Pawan\"]"
   ]
  },
  {
   "cell_type": "code",
   "execution_count": 21,
   "id": "ebd04906",
   "metadata": {},
   "outputs": [
    {
     "name": "stdout",
     "output_type": "stream",
     "text": [
      "['Sagar', 'Amit', 'Rajesh', 'Pawan']\n"
     ]
    }
   ],
   "source": [
    "friend.remove(\"Pawan\")\n",
    "print(friend)"
   ]
  },
  {
   "cell_type": "markdown",
   "id": "81652dd8",
   "metadata": {},
   "source": [
    "### 10. reverse"
   ]
  },
  {
   "cell_type": "code",
   "execution_count": 22,
   "id": "869f59f3",
   "metadata": {},
   "outputs": [],
   "source": [
    "num = [1, 2, 3, 4, 5]"
   ]
  },
  {
   "cell_type": "code",
   "execution_count": 23,
   "id": "4bc30731",
   "metadata": {},
   "outputs": [
    {
     "name": "stdout",
     "output_type": "stream",
     "text": [
      "[5, 4, 3, 2, 1]\n"
     ]
    }
   ],
   "source": [
    "num.reverse()\n",
    "print (num)"
   ]
  },
  {
   "cell_type": "markdown",
   "id": "75cac642",
   "metadata": {},
   "source": [
    "### 11. sort"
   ]
  },
  {
   "cell_type": "code",
   "execution_count": 24,
   "id": "47c51044",
   "metadata": {},
   "outputs": [],
   "source": [
    "city = ['Mumbai', 'Banglore', 'Hyderabad', 'Chennai', 'Kolakata']"
   ]
  },
  {
   "cell_type": "code",
   "execution_count": 25,
   "id": "93b096da",
   "metadata": {},
   "outputs": [
    {
     "name": "stdout",
     "output_type": "stream",
     "text": [
      "['Banglore', 'Chennai', 'Hyderabad', 'Kolakata', 'Mumbai']\n"
     ]
    }
   ],
   "source": [
    "city.sort()\n",
    "print (city)"
   ]
  },
  {
   "cell_type": "markdown",
   "id": "02ba560a",
   "metadata": {},
   "source": [
    "## 2. Sets Function"
   ]
  },
  {
   "cell_type": "code",
   "execution_count": 26,
   "id": "7374cddb",
   "metadata": {},
   "outputs": [],
   "source": [
    "fruits = {'Apple','Orange','Grapes','Banana'}"
   ]
  },
  {
   "cell_type": "code",
   "execution_count": 27,
   "id": "6997cc4c",
   "metadata": {},
   "outputs": [
    {
     "data": {
      "text/plain": [
       "set"
      ]
     },
     "execution_count": 27,
     "metadata": {},
     "output_type": "execute_result"
    }
   ],
   "source": [
    "type(fruits)"
   ]
  },
  {
   "cell_type": "code",
   "execution_count": 28,
   "id": "1be5c218",
   "metadata": {},
   "outputs": [],
   "source": [
    "# set.add\n",
    "# set.clear\n",
    "# set.copy\n",
    "# set.difference\n",
    "# set.difference_update\n",
    "# set.discard\n",
    "# set.intersection\n",
    "# set.intersection_update\n",
    "# set.isdisjoint\n",
    "# set.issubset\n",
    "# set.issuperset\n",
    "# set.pop\n",
    "# set.remove\n",
    "# set.symmetric_difference\n",
    "# set.symmetric_difference_update\n",
    "# set.union\n",
    "# set.update"
   ]
  },
  {
   "cell_type": "markdown",
   "id": "93c8f01d",
   "metadata": {},
   "source": [
    "### 1. add"
   ]
  },
  {
   "cell_type": "code",
   "execution_count": 29,
   "id": "5000ecb8",
   "metadata": {},
   "outputs": [],
   "source": [
    "country = {\"India\", \"Nepal\", \"Philipines\", \"Qatar\"}"
   ]
  },
  {
   "cell_type": "code",
   "execution_count": 30,
   "id": "317b1573",
   "metadata": {},
   "outputs": [
    {
     "name": "stdout",
     "output_type": "stream",
     "text": [
      "{'Philipines', 'Qatar', 'Nepal', 'India', 'China'}\n"
     ]
    }
   ],
   "source": [
    "country.add(\"China\")\n",
    "print(country)"
   ]
  },
  {
   "cell_type": "markdown",
   "id": "8617defc",
   "metadata": {},
   "source": [
    "### 2. difference"
   ]
  },
  {
   "cell_type": "code",
   "execution_count": 31,
   "id": "94b276ac",
   "metadata": {},
   "outputs": [
    {
     "name": "stdout",
     "output_type": "stream",
     "text": [
      "{'Horse', 'Cat', 'Dog'}\n"
     ]
    }
   ],
   "source": [
    "animal = {\"Dog\", \"Cat\", \"Horse\", \"Orange\"}\n",
    "fruits = {'Apple','Orange','Grapes','Mango'}\n",
    "z = animal.difference(fruits)\n",
    "print(z)"
   ]
  },
  {
   "cell_type": "markdown",
   "id": "f9443660",
   "metadata": {},
   "source": [
    "### 3. difference_update"
   ]
  },
  {
   "cell_type": "code",
   "execution_count": 32,
   "id": "3c3c76ab",
   "metadata": {},
   "outputs": [
    {
     "name": "stdout",
     "output_type": "stream",
     "text": [
      "{'Sagar', 'Pawan', 'Amit'}\n"
     ]
    }
   ],
   "source": [
    "fruits = {\"Apple\", \"Banana\", \"Cherry\"}\n",
    "friend = {\"Sagar\", \"Amit\", \"Pawan\", \"Banana\",}\n",
    "friend.difference_update(fruits)\n",
    "print(friend)"
   ]
  },
  {
   "cell_type": "markdown",
   "id": "8c8b6f0d",
   "metadata": {},
   "source": [
    "### 4. discard"
   ]
  },
  {
   "cell_type": "code",
   "execution_count": 33,
   "id": "02a806cc",
   "metadata": {},
   "outputs": [
    {
     "name": "stdout",
     "output_type": "stream",
     "text": [
      "{'Sagar', 'Pawan', 'Amit'}\n"
     ]
    }
   ],
   "source": [
    "friend = {\"Sagar\", \"Amit\", \"Pawan\", \"Banana\",}\n",
    "friend.discard(\"Banana\")\n",
    "print(friend)"
   ]
  },
  {
   "cell_type": "markdown",
   "id": "b1cf98e0",
   "metadata": {},
   "source": [
    "### 5. intersection"
   ]
  },
  {
   "cell_type": "code",
   "execution_count": 34,
   "id": "1bd2af08",
   "metadata": {},
   "outputs": [
    {
     "name": "stdout",
     "output_type": "stream",
     "text": [
      "{'Orange'}\n"
     ]
    }
   ],
   "source": [
    "animal = {\"Dog\", \"Cat\", \"Horse\", \"Orange\"}\n",
    "fruits = {'Apple','Orange','Grapes','Mango'}\n",
    "z = animal.intersection(fruits)\n",
    "print(z)"
   ]
  },
  {
   "cell_type": "markdown",
   "id": "f8a64b47",
   "metadata": {},
   "source": [
    "### 6. intersection_update"
   ]
  },
  {
   "cell_type": "code",
   "execution_count": 35,
   "id": "cd74babf",
   "metadata": {},
   "outputs": [
    {
     "name": "stdout",
     "output_type": "stream",
     "text": [
      "{'Banana'}\n"
     ]
    }
   ],
   "source": [
    "fruits = {\"Apple\", \"Banana\", \"Cherry\"}\n",
    "friend = {\"Sagar\", \"Amit\", \"Pawan\", \"Banana\",}\n",
    "fruits.intersection_update(friend)\n",
    "print(fruits)"
   ]
  },
  {
   "cell_type": "markdown",
   "id": "ac2afae1",
   "metadata": {},
   "source": [
    "### 7. isdisjoint"
   ]
  },
  {
   "cell_type": "code",
   "execution_count": 36,
   "id": "97811d28",
   "metadata": {},
   "outputs": [
    {
     "name": "stdout",
     "output_type": "stream",
     "text": [
      "True\n"
     ]
    }
   ],
   "source": [
    "state = {\"Maharashtra\", \"Karataka\", \"Telengana\"}\n",
    "country = {\"India\", \"Nepal\", \"Philipines\", \"Qatar\"}\n",
    "z = state.isdisjoint(country)\n",
    "print(z)"
   ]
  },
  {
   "cell_type": "markdown",
   "id": "2baa6045",
   "metadata": {},
   "source": [
    "### 8. issubset"
   ]
  },
  {
   "cell_type": "code",
   "execution_count": 37,
   "id": "65c9e121",
   "metadata": {},
   "outputs": [
    {
     "name": "stdout",
     "output_type": "stream",
     "text": [
      "False\n"
     ]
    }
   ],
   "source": [
    "state = {\"Maharashtra\", \"Karataka\", \"Telengana\"}\n",
    "country = {\"India\", \"Nepal\", \"Philipines\", \"Qatar\"}\n",
    "z = state.issubset(country)\n",
    "print(z)"
   ]
  },
  {
   "cell_type": "markdown",
   "id": "4ad5dd48",
   "metadata": {},
   "source": [
    "### 9. issuperset"
   ]
  },
  {
   "cell_type": "code",
   "execution_count": 38,
   "id": "257079a3",
   "metadata": {},
   "outputs": [
    {
     "name": "stdout",
     "output_type": "stream",
     "text": [
      "True\n"
     ]
    }
   ],
   "source": [
    "num1 = {10, 20, 30, 40, 50, 60}\n",
    "num2 = {20, 60}\n",
    "z = num1.issuperset(num2)\n",
    "print(z)"
   ]
  },
  {
   "cell_type": "markdown",
   "id": "99a2ddea",
   "metadata": {},
   "source": [
    "### 10. symmetric_difference"
   ]
  },
  {
   "cell_type": "code",
   "execution_count": 39,
   "id": "13db691b",
   "metadata": {},
   "outputs": [
    {
     "name": "stdout",
     "output_type": "stream",
     "text": [
      "{'Apple', 'Mango', 'Dog', 'Cat', 'Horse', 'Grapes'}\n"
     ]
    }
   ],
   "source": [
    "animal = {\"Dog\", \"Cat\", \"Horse\", \"Orange\"}\n",
    "fruits = {'Apple','Orange','Grapes','Mango'}\n",
    "z = animal.symmetric_difference(fruits)\n",
    "print(z)"
   ]
  },
  {
   "cell_type": "markdown",
   "id": "ee5a4367",
   "metadata": {},
   "source": [
    "### 11. symmetric_difference_update"
   ]
  },
  {
   "cell_type": "code",
   "execution_count": 40,
   "id": "173fdff0",
   "metadata": {},
   "outputs": [
    {
     "name": "stdout",
     "output_type": "stream",
     "text": [
      "{'Apple', 'Sagar', 'Pawan', 'Cherry', 'Amit'}\n"
     ]
    }
   ],
   "source": [
    "fruits = {\"Apple\", \"Banana\", \"Cherry\"}\n",
    "friend = {\"Sagar\", \"Amit\", \"Pawan\", \"Banana\",}\n",
    "friend.symmetric_difference_update(fruits)\n",
    "print(friend)"
   ]
  },
  {
   "cell_type": "markdown",
   "id": "18d1e3b3",
   "metadata": {},
   "source": [
    "### 12. union"
   ]
  },
  {
   "cell_type": "code",
   "execution_count": 41,
   "id": "6c673ee8",
   "metadata": {
    "scrolled": true
   },
   "outputs": [
    {
     "name": "stdout",
     "output_type": "stream",
     "text": [
      "{'Mumbai', 'Banglore', 'Pune', 'Kashmir', 'Karataka', 'Goa'}\n"
     ]
    }
   ],
   "source": [
    "city = {\"Pune\", \"Kashmir\", \"Mumbai\", \"Banglore\",\"Goa\"}\n",
    "state = {\"Goa\", \"Karataka\", \"Kashmir\"}\n",
    "z = city.union(state)\n",
    "print(z)"
   ]
  },
  {
   "cell_type": "markdown",
   "id": "5c0e8e08",
   "metadata": {},
   "source": [
    "### 13. update"
   ]
  },
  {
   "cell_type": "code",
   "execution_count": 42,
   "id": "cf0bd3b6",
   "metadata": {},
   "outputs": [
    {
     "name": "stdout",
     "output_type": "stream",
     "text": [
      "{'Mumbai', 'MP', 'Banglore', 'Pune', 'Kashmir', 'Karataka', 'Goa'}\n"
     ]
    }
   ],
   "source": [
    "city = {\"Pune\", \"Kashmir\", \"Mumbai\", \"Banglore\",\"Goa\"}\n",
    "state = {\"MP\", \"Karataka\", \"Kashmir\"}\n",
    "city.update(state)\n",
    "print(city)"
   ]
  },
  {
   "cell_type": "markdown",
   "id": "d48e2ce0",
   "metadata": {},
   "source": [
    "## 3. Tuple Function"
   ]
  },
  {
   "cell_type": "code",
   "execution_count": 43,
   "id": "710223ff",
   "metadata": {},
   "outputs": [],
   "source": [
    "fruits = ('Apple','Orange','Grapes','Banana')"
   ]
  },
  {
   "cell_type": "code",
   "execution_count": 44,
   "id": "c88475d1",
   "metadata": {},
   "outputs": [
    {
     "data": {
      "text/plain": [
       "tuple"
      ]
     },
     "execution_count": 44,
     "metadata": {},
     "output_type": "execute_result"
    }
   ],
   "source": [
    "type(fruits)"
   ]
  },
  {
   "cell_type": "code",
   "execution_count": 45,
   "id": "12e9e14a",
   "metadata": {},
   "outputs": [],
   "source": [
    "# tuple.count\n",
    "# tuple.index"
   ]
  },
  {
   "cell_type": "markdown",
   "id": "31c01021",
   "metadata": {},
   "source": [
    "### 1. count"
   ]
  },
  {
   "cell_type": "code",
   "execution_count": 46,
   "id": "dee2a3dc",
   "metadata": {},
   "outputs": [
    {
     "data": {
      "text/plain": [
       "3"
      ]
     },
     "execution_count": 46,
     "metadata": {},
     "output_type": "execute_result"
    }
   ],
   "source": [
    "num = (1, 3, 5, 7, 8, 7, 5, 4, 6, 8, 5)\n",
    "num.count(5)"
   ]
  },
  {
   "cell_type": "markdown",
   "id": "6b16ab9d",
   "metadata": {},
   "source": [
    "### 2. index"
   ]
  },
  {
   "cell_type": "code",
   "execution_count": 47,
   "id": "51c5c60c",
   "metadata": {},
   "outputs": [
    {
     "data": {
      "text/plain": [
       "3"
      ]
     },
     "execution_count": 47,
     "metadata": {},
     "output_type": "execute_result"
    }
   ],
   "source": [
    "num2 = (1, 2, 3, 7, 8, 7, 5, 4, 6, 8, 5)\n",
    "num2.index(7)"
   ]
  },
  {
   "cell_type": "markdown",
   "id": "99b6afff",
   "metadata": {},
   "source": [
    "## 4. Dictionary Function"
   ]
  },
  {
   "cell_type": "code",
   "execution_count": 48,
   "id": "26210631",
   "metadata": {},
   "outputs": [],
   "source": [
    "capital = {\"India\" : \"Delhi\", \"Qatar\" : \"Doha\", \"Saudi Arebia\" : \"Riyadh\"}"
   ]
  },
  {
   "cell_type": "code",
   "execution_count": 49,
   "id": "f1151777",
   "metadata": {},
   "outputs": [
    {
     "data": {
      "text/plain": [
       "dict"
      ]
     },
     "execution_count": 49,
     "metadata": {},
     "output_type": "execute_result"
    }
   ],
   "source": [
    "type(capital)"
   ]
  },
  {
   "cell_type": "code",
   "execution_count": 50,
   "id": "1bea2319",
   "metadata": {},
   "outputs": [],
   "source": [
    "# dict.clear\n",
    "# dict.copy\n",
    "# dict.fromkeys\n",
    "# dict.get\n",
    "# dict.items\n",
    "# dict.keys\n",
    "# dict.pop\n",
    "# dict.popitem\n",
    "# dict.setdefault\n",
    "# dict.update\n",
    "# dict.values"
   ]
  },
  {
   "cell_type": "markdown",
   "id": "6b1ca11d",
   "metadata": {},
   "source": [
    "### 1. fromkeys"
   ]
  },
  {
   "cell_type": "code",
   "execution_count": 51,
   "id": "c8e66ce7",
   "metadata": {},
   "outputs": [
    {
     "name": "stdout",
     "output_type": "stream",
     "text": [
      "{'Sagar': 'Best', 'Amit': 'Best', 'Prashant': 'Best'}\n"
     ]
    }
   ],
   "source": [
    "friend = {\"Sagar\", \"Amit\", \"Prashant\"}\n",
    "code = \"Best\"\n",
    "x = dict.fromkeys(friend, code)\n",
    "print(x)"
   ]
  },
  {
   "cell_type": "markdown",
   "id": "beed4a11",
   "metadata": {},
   "source": [
    "### 2. get"
   ]
  },
  {
   "cell_type": "code",
   "execution_count": 52,
   "id": "c0babb3a",
   "metadata": {},
   "outputs": [
    {
     "data": {
      "text/plain": [
       "'A+'"
      ]
     },
     "execution_count": 52,
     "metadata": {},
     "output_type": "execute_result"
    }
   ],
   "source": [
    "grades = {'Anthony':'A', 'Raju':'A+', 'Mohan':'B', 'Arjun':'C', 'Sakshi':'A'}\n",
    "grades.get(\"Raju\")"
   ]
  },
  {
   "cell_type": "markdown",
   "id": "1198420c",
   "metadata": {},
   "source": [
    "### 3. items"
   ]
  },
  {
   "cell_type": "code",
   "execution_count": 53,
   "id": "7f122df8",
   "metadata": {},
   "outputs": [
    {
     "data": {
      "text/plain": [
       "dict_items([('a', 'apple'), ('b', 'ball'), ('c', 'cat'), ('d', 'dog')])"
      ]
     },
     "execution_count": 53,
     "metadata": {},
     "output_type": "execute_result"
    }
   ],
   "source": [
    "alphab = {\"a\":\"apple\", \"b\" :\"ball\", \"c\":\"cat\", \"d\":\"dog\"}\n",
    "alphab.items()"
   ]
  },
  {
   "cell_type": "markdown",
   "id": "a78c5855",
   "metadata": {},
   "source": [
    "### 4. keys"
   ]
  },
  {
   "cell_type": "code",
   "execution_count": 54,
   "id": "1bae7e87",
   "metadata": {},
   "outputs": [
    {
     "data": {
      "text/plain": [
       "dict_keys(['Anthony', 'Raju', 'Mohan', 'Arjun', 'Sakshi'])"
      ]
     },
     "execution_count": 54,
     "metadata": {},
     "output_type": "execute_result"
    }
   ],
   "source": [
    "grades = {'Anthony':'A', 'Raju':'A+', 'Mohan':'B', 'Arjun':'C', 'Sakshi':'A'}\n",
    "grades.keys()"
   ]
  },
  {
   "cell_type": "markdown",
   "id": "edbc4be0",
   "metadata": {},
   "source": [
    "### 5. values"
   ]
  },
  {
   "cell_type": "code",
   "execution_count": 55,
   "id": "7b3b8532",
   "metadata": {},
   "outputs": [
    {
     "data": {
      "text/plain": [
       "dict_values(['A', 'A+', 'B', 'C', 'A'])"
      ]
     },
     "execution_count": 55,
     "metadata": {},
     "output_type": "execute_result"
    }
   ],
   "source": [
    "grades = {'Anthony':'A', 'Raju':'A+', 'Mohan':'B', 'Arjun':'C', 'Sakshi':'A'}\n",
    "grades.values()"
   ]
  },
  {
   "cell_type": "markdown",
   "id": "5ec783f7",
   "metadata": {},
   "source": [
    "### 6. popitem"
   ]
  },
  {
   "cell_type": "code",
   "execution_count": 56,
   "id": "a4ec484d",
   "metadata": {},
   "outputs": [
    {
     "data": {
      "text/plain": [
       "('Saudi Arebia', 'Riyadh')"
      ]
     },
     "execution_count": 56,
     "metadata": {},
     "output_type": "execute_result"
    }
   ],
   "source": [
    "capital = {\"India\" : \"Delhi\", \"Qatar\" : \"Doha\", \"Saudi Arebia\" : \"Riyadh\"}\n",
    "capital.popitem()"
   ]
  },
  {
   "cell_type": "code",
   "execution_count": 57,
   "id": "508e1723",
   "metadata": {},
   "outputs": [
    {
     "name": "stdout",
     "output_type": "stream",
     "text": [
      "{'India': 'Delhi', 'Qatar': 'Doha'}\n"
     ]
    }
   ],
   "source": [
    "print(capital)"
   ]
  },
  {
   "cell_type": "markdown",
   "id": "4f9cd5f8",
   "metadata": {},
   "source": [
    "### 7. setdefault"
   ]
  },
  {
   "cell_type": "code",
   "execution_count": 58,
   "id": "bb23365a",
   "metadata": {
    "scrolled": true
   },
   "outputs": [
    {
     "name": "stdout",
     "output_type": "stream",
     "text": [
      "{'Brand': 'Honda', 'Model': 'Xblade', 'Year': 2019, 'Color': 'Green'}\n"
     ]
    }
   ],
   "source": [
    "bike = {\"Brand\": \"Honda\", \"Model\": \"Xblade\", \"Year\": 2019}\n",
    "bike.setdefault(\"Color\", \"Green\")\n",
    "print (bike)"
   ]
  },
  {
   "cell_type": "markdown",
   "id": "0405453c",
   "metadata": {},
   "source": [
    "### 8. update"
   ]
  },
  {
   "cell_type": "code",
   "execution_count": 59,
   "id": "9f129e95",
   "metadata": {},
   "outputs": [
    {
     "name": "stdout",
     "output_type": "stream",
     "text": [
      "{'Brand': 'Honda', 'Model': 'Xblade', 'Year': 2022}\n"
     ]
    }
   ],
   "source": [
    "bike = {\"Brand\": \"Honda\", \"Model\": \"Xblade\", \"Year\": 2019}\n",
    "bike.update({\"Year\" : 2022})\n",
    "print (bike)"
   ]
  },
  {
   "cell_type": "markdown",
   "id": "93749b06",
   "metadata": {},
   "source": [
    "# THE END!!!"
   ]
  }
 ],
 "metadata": {
  "kernelspec": {
   "display_name": "Python 3 (ipykernel)",
   "language": "python",
   "name": "python3"
  },
  "language_info": {
   "codemirror_mode": {
    "name": "ipython",
    "version": 3
   },
   "file_extension": ".py",
   "mimetype": "text/x-python",
   "name": "python",
   "nbconvert_exporter": "python",
   "pygments_lexer": "ipython3",
   "version": "3.9.12"
  }
 },
 "nbformat": 4,
 "nbformat_minor": 5
}
